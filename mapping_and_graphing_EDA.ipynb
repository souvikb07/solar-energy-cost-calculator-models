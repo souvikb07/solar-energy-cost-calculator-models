{
 "cells": [
  {
   "cell_type": "markdown",
   "metadata": {},
   "source": [
    "# Mapping and EDA for Open PV Data"
   ]
  },
  {
   "cell_type": "code",
   "execution_count": 1,
   "metadata": {},
   "outputs": [
    {
     "ename": "ModuleNotFoundError",
     "evalue": "No module named 'cufflinks'",
     "output_type": "error",
     "traceback": [
      "\u001b[1;31m---------------------------------------------------------------------------\u001b[0m",
      "\u001b[1;31mModuleNotFoundError\u001b[0m                       Traceback (most recent call last)",
      "\u001b[1;32m<ipython-input-1-3bde4673bffe>\u001b[0m in \u001b[0;36m<module>\u001b[1;34m()\u001b[0m\n\u001b[0;32m      1\u001b[0m \u001b[1;32mimport\u001b[0m \u001b[0mplotly\u001b[0m\u001b[1;33m.\u001b[0m\u001b[0mplotly\u001b[0m \u001b[1;32mas\u001b[0m \u001b[0mpy\u001b[0m\u001b[1;33m\u001b[0m\u001b[0m\n\u001b[1;32m----> 2\u001b[1;33m \u001b[1;32mimport\u001b[0m \u001b[0mcufflinks\u001b[0m \u001b[1;32mas\u001b[0m \u001b[0mcf\u001b[0m\u001b[1;33m\u001b[0m\u001b[0m\n\u001b[0m\u001b[0;32m      3\u001b[0m \u001b[1;32mimport\u001b[0m \u001b[0mpandas\u001b[0m \u001b[1;32mas\u001b[0m \u001b[0mpd\u001b[0m\u001b[1;33m\u001b[0m\u001b[0m\n\u001b[0;32m      4\u001b[0m \u001b[1;32mimport\u001b[0m \u001b[0mnumpy\u001b[0m \u001b[1;32mas\u001b[0m \u001b[0mnp\u001b[0m\u001b[1;33m\u001b[0m\u001b[0m\n\u001b[0;32m      5\u001b[0m \u001b[1;32mimport\u001b[0m \u001b[0msqlite3\u001b[0m\u001b[1;33m\u001b[0m\u001b[0m\n",
      "\u001b[1;31mModuleNotFoundError\u001b[0m: No module named 'cufflinks'"
     ]
    }
   ],
   "source": [
    "import plotly.plotly as py\n",
    "import cufflinks as cf\n",
    "import pandas as pd\n",
    "import numpy as np\n",
    "import sqlite3\n",
    "import plotly.graph_objs as go\n",
    "import matplotlib.pyplot as plt\n",
    "import seaborn as sns\n",
    "\n",
    "%matplotlib inline"
   ]
  },
  {
   "cell_type": "markdown",
   "metadata": {},
   "source": [
    "# The Data:\n",
    "\n",
    "I've been cleaning the data in another notebook, I'll read it in here from my local db.\n",
    "\n",
    "The cleaning process isn't done yet, but I can still do some EDA.\n",
    "\n",
    "I'm also in the process of getting a lot of solar insolation and weather data, which I presume will have an effect on my EDA and I'll want to look into."
   ]
  },
  {
   "cell_type": "code",
   "execution_count": 4,
   "metadata": {
    "collapsed": true
   },
   "outputs": [],
   "source": [
    "conn = sqlite3.Connection(\"./capstone.sqlite\")\n",
    "\n",
    "df = pd.read_sql(\"SELECT * FROM open_pv_clean\", con=conn)"
   ]
  },
  {
   "cell_type": "code",
   "execution_count": 57,
   "metadata": {
    "scrolled": false
   },
   "outputs": [
    {
     "name": "stdout",
     "output_type": "stream",
     "text": [
      "<class 'pandas.core.frame.DataFrame'>\n",
      "RangeIndex: 1020298 entries, 0 to 1020297\n",
      "Data columns (total 33 columns):\n",
      "level_0                        1020298 non-null int64\n",
      "index                          1020298 non-null int64\n",
      "state                          1020298 non-null object\n",
      "date_installed                 1020298 non-null object\n",
      "incentive_prog_names           1020298 non-null object\n",
      "type                           1020298 non-null object\n",
      "size_kw                        1020298 non-null float64\n",
      "appraised                      1020298 non-null float64\n",
      "zipcode                        1020298 non-null float64\n",
      "install_type                   1020298 non-null object\n",
      "installer                      1008901 non-null object\n",
      "cost_per_watt                  762737 non-null float64\n",
      "cost                           1020298 non-null float64\n",
      "lbnl_tts                       1020298 non-null float64\n",
      "city                           1020231 non-null object\n",
      "utility_clean                  1020298 non-null object\n",
      "tech_1                         580919 non-null object\n",
      "model1_clean                   580919 non-null object\n",
      "county                         998652 non-null object\n",
      "annual_PV_prod                 780969 non-null float64\n",
      "annual_insolation              780969 non-null float64\n",
      "rebate                         386729 non-null object\n",
      "sales_tax_cost                 355309 non-null float64\n",
      "tilt1                          383365 non-null float64\n",
      "tracking_type                  526058 non-null object\n",
      "azimuth1                       363281 non-null float64\n",
      "manufacturer                   231607 non-null object\n",
      "inv_man_clean                  49933 non-null object\n",
      "reported_annual_energy_prod    204429 non-null float64\n",
      "new_constr                     1020298 non-null float64\n",
      "tracking                       1020298 non-null float64\n",
      "3rdparty                       306993 non-null float64\n",
      "bipv                           1020298 non-null int64\n",
      "dtypes: float64(15), int64(3), object(15)\n",
      "memory usage: 256.9+ MB\n"
     ]
    }
   ],
   "source": [
    "# still many nulls, working on imputing and cleaning.\n",
    "\n",
    "df.info()"
   ]
  },
  {
   "cell_type": "markdown",
   "metadata": {},
   "source": [
    "# Data Dictionary:\n",
    "\n",
    "This data corresponds to individual photovoltaic solar power installations.\n",
    "\n",
    " - **state**: state where the installation is located.\n",
    " - **date_installed**: date when installation was installed.\n",
    " - **incentive_prog_names**: government incentive program that helped fund the solar installation.\n",
    " - **type**: UIR or PIR, ways of measuring output\n",
    " - **size_kw**: size of solar installation.\n",
    " - **appraised**: Dummy for whether solar installation has been appraised.\n",
    " - **zipcode**: zipcode of installation:\n",
    " - **install_type**: category of type of place solar installation is installed.  Residential, commercial, etc.\n",
    " - **installer**: company that installed the panels.\n",
    " - **cost_per_watt**: cost for every watt of solar energy produced.\n",
    " - **cost**: cost to install the installation.\n",
    " - **lbnl_tts**: whether installation is included in Lawrence Berkeley Labs \"Tracking The Sun\" dataset.\n",
    " - **city**: city where installation is installed.\n",
    " - **utility_clean**: utility company that the installations owner is a customer of.\n",
    " - **tech_1**: type of solar panels installed, technology behind the solar panel\n",
    " - **model1_clean**: ID code for type of solar panel model.\n",
    " - **county**: county where installation is installed.\n",
    " - **annual_PV_prod**: how much energy is produced annually in kw\n",
    " - **annual_insolation**: estimation of annual insolation/sun exposure.\n",
    " - **rebate**: size of rebate received on purchase.\n",
    " - **sales_tax_cost**: how much sales tax.\n",
    " - **tilt1**: tilt angle of the solar panel.\n",
    " - **tracking_type**: how solar panel tracks the sun, can either be fixed or tracking on 1 or 2 axes, or a mix.\n",
    " - **azimuth1**: average azimuth (projected angle from north to sun) at solar installation.\n",
    " - **manufacturer**: company that manufactured the solar panels.\n",
    " - **inv_man_clean**: repeat of above, with cleaned values.\n",
    " - **reported_annual_energy_prod**: a self reported amount of watts produced, varies from annual_pv_prod\n",
    " - **new_constr**: whether there's been new construction on this installation.\n",
    " - **tracking**: whether installation has tracking.\n",
    " - **3rdparty**: something about whether there was a 3rd party involved with purchase, dummy variable.\n",
    " - **bipv**: building integrated photovoltaic, basically whether this installation is on the side of a building\n"
   ]
  },
  {
   "cell_type": "markdown",
   "metadata": {},
   "source": [
    "# Questions:\n",
    "\n",
    "\n",
    "These questions will guide my EDA\n",
    "\n",
    "1.  Can we predict what the cost of producing solar will be based on these inputs?  Basically can we predict cost per watt, or how efficient a solar panel will be?\n",
    "\n",
    "Going to do a bunch of maps using plotly, including:\n",
    "\n",
    "1. Size of installations colored by type, sized by size.\n",
    "2. Output of installations colored by type, sized by output.\n",
    "3. Cost per watt of installations, colored by cost, sized by size.\n",
    "    - Shows that bigger does not necessarily mean more efficient.\n",
    "4. Size of installations by state\n",
    "5. Cost of installations by state\n",
    "\n",
    "Graphs:\n",
    "\n",
    "1.  Different in output by technology type\n",
    "2.  Different in cost/size by utility, installer, technology.\n",
    "3.  Efficiency, colored by type/tech/installer, plotted over time, sized by efficiency, \n",
    "    - x = install date\n",
    "    - y = efficiency\n",
    "    - color = type/tech/installer\n",
    "    - size = size_kw, ?\n",
    "    - alternatively could by size/cost on the y axis, sized by efficiency.\n",
    "    - https://plot.ly/~bchartoff/707#plot\n",
    "\n",
    "**Efficiency:**\n",
    "    output/cost: maybe this is what we should be trying to predict!"
   ]
  },
  {
   "cell_type": "markdown",
   "metadata": {},
   "source": [
    "# Plotting size of installations by Type\n",
    "\n",
    "https://plot.ly/python/bubble-maps/\n",
    "\n",
    "Might have to limit this to non-residential to make it legible.\n",
    "\n",
    "Also could group by zipcode, and do averages, but then we can show the differences in types of installations."
   ]
  },
  {
   "cell_type": "code",
   "execution_count": 10,
   "metadata": {
    "collapsed": true
   },
   "outputs": [],
   "source": [
    "df.sort_values(\"size_kw\", ascending=False, inplace=True)"
   ]
  },
  {
   "cell_type": "code",
   "execution_count": 13,
   "metadata": {
    "collapsed": true
   },
   "outputs": [],
   "source": [
    "df.loc[df['install_type'] == \"none\", \"install_type\"] = 'residential'"
   ]
  },
  {
   "cell_type": "code",
   "execution_count": 14,
   "metadata": {},
   "outputs": [
    {
     "data": {
      "text/plain": [
       "residential      970588\n",
       "commercial        36361\n",
       "government         5745\n",
       "nonprofit          4219\n",
       "educational        2702\n",
       "agricultural        396\n",
       "utility             230\n",
       "institutional        29\n",
       "public               28\n",
       "Name: install_type, dtype: int64"
      ]
     },
     "execution_count": 14,
     "metadata": {},
     "output_type": "execute_result"
    }
   ],
   "source": [
    "df['install_type'].value_counts()"
   ]
  },
  {
   "cell_type": "code",
   "execution_count": 16,
   "metadata": {},
   "outputs": [
    {
     "data": {
      "text/plain": [
       "Index([u'level_0', u'index', u'state', u'date_installed',\n",
       "       u'incentive_prog_names', u'type', u'size_kw', u'appraised', u'zipcode',\n",
       "       u'install_type', u'installer', u'cost_per_watt', u'cost', u'lbnl_tts',\n",
       "       u'city', u'utility_clean', u'tech_1', u'model1_clean', u'county',\n",
       "       u'annual_PV_prod', u'annual_insolation', u'rebate', u'sales_tax_cost',\n",
       "       u'tilt1', u'tracking_type', u'azimuth1', u'manufacturer',\n",
       "       u'inv_man_clean', u'reported_annual_energy_prod', u'new_constr',\n",
       "       u'tracking', u'3rdparty', u'bipv'],\n",
       "      dtype='object')"
      ]
     },
     "execution_count": 16,
     "metadata": {},
     "output_type": "execute_result"
    }
   ],
   "source": [
    "df.columns"
   ]
  },
  {
   "cell_type": "code",
   "execution_count": 5,
   "metadata": {
    "collapsed": true
   },
   "outputs": [],
   "source": [
    "df_small = df.sample(10000)\n",
    "lat_lon = pd.read_csv(\"./free-zipcode-database-Primary.csv\")\n",
    "# df_small['text'] = df_small['size_kw']\n",
    "# print df_small.columns, lat_lon.columns\n"
   ]
  },
  {
   "cell_type": "code",
   "execution_count": 6,
   "metadata": {
    "collapsed": true
   },
   "outputs": [],
   "source": [
    "lat_lon = lat_lon[['Zipcode', \"Lat\", \"Long\"]]"
   ]
  },
  {
   "cell_type": "code",
   "execution_count": 7,
   "metadata": {
    "collapsed": true
   },
   "outputs": [],
   "source": [
    "df_small_lat_lon = df_small.merge(lat_lon, left_on=\"zipcode\", right_on=\"Zipcode\")"
   ]
  },
  {
   "cell_type": "code",
   "execution_count": 25,
   "metadata": {},
   "outputs": [
    {
     "data": {
      "text/html": [
       "<div>\n",
       "<table border=\"1\" class=\"dataframe\">\n",
       "  <thead>\n",
       "    <tr style=\"text-align: right;\">\n",
       "      <th></th>\n",
       "      <th>level_0</th>\n",
       "      <th>index</th>\n",
       "      <th>state</th>\n",
       "      <th>date_installed</th>\n",
       "      <th>incentive_prog_names</th>\n",
       "      <th>type</th>\n",
       "      <th>size_kw</th>\n",
       "      <th>appraised</th>\n",
       "      <th>zipcode</th>\n",
       "      <th>install_type</th>\n",
       "      <th>...</th>\n",
       "      <th>inv_man_clean</th>\n",
       "      <th>reported_annual_energy_prod</th>\n",
       "      <th>new_constr</th>\n",
       "      <th>tracking</th>\n",
       "      <th>3rdparty</th>\n",
       "      <th>bipv</th>\n",
       "      <th>text</th>\n",
       "      <th>Zipcode</th>\n",
       "      <th>Lat</th>\n",
       "      <th>Long</th>\n",
       "    </tr>\n",
       "  </thead>\n",
       "  <tbody>\n",
       "    <tr>\n",
       "      <th>0</th>\n",
       "      <td>407858</td>\n",
       "      <td>407863</td>\n",
       "      <td>MA</td>\n",
       "      <td>09/28/2012</td>\n",
       "      <td>no_incentive_program</td>\n",
       "      <td>uir</td>\n",
       "      <td>4.800</td>\n",
       "      <td>0.0</td>\n",
       "      <td>1830.0</td>\n",
       "      <td>residential</td>\n",
       "      <td>...</td>\n",
       "      <td>None</td>\n",
       "      <td>NaN</td>\n",
       "      <td>0.0</td>\n",
       "      <td>0.0</td>\n",
       "      <td>NaN</td>\n",
       "      <td>0</td>\n",
       "      <td>4.800</td>\n",
       "      <td>1830</td>\n",
       "      <td>42.78</td>\n",
       "      <td>-71.08</td>\n",
       "    </tr>\n",
       "    <tr>\n",
       "      <th>1</th>\n",
       "      <td>308777</td>\n",
       "      <td>308782</td>\n",
       "      <td>MA</td>\n",
       "      <td>11/21/2014</td>\n",
       "      <td>Massachusetts Department of Energy Resources</td>\n",
       "      <td>uir</td>\n",
       "      <td>10.750</td>\n",
       "      <td>1.0</td>\n",
       "      <td>1830.0</td>\n",
       "      <td>residential</td>\n",
       "      <td>...</td>\n",
       "      <td>None</td>\n",
       "      <td>NaN</td>\n",
       "      <td>0.0</td>\n",
       "      <td>0.0</td>\n",
       "      <td>1.0</td>\n",
       "      <td>0</td>\n",
       "      <td>10.750</td>\n",
       "      <td>1830</td>\n",
       "      <td>42.78</td>\n",
       "      <td>-71.08</td>\n",
       "    </tr>\n",
       "    <tr>\n",
       "      <th>2</th>\n",
       "      <td>307214</td>\n",
       "      <td>307219</td>\n",
       "      <td>MA</td>\n",
       "      <td>04/13/2015</td>\n",
       "      <td>Massachusetts Clean Energy Center</td>\n",
       "      <td>uir</td>\n",
       "      <td>7.830</td>\n",
       "      <td>0.0</td>\n",
       "      <td>1810.0</td>\n",
       "      <td>residential</td>\n",
       "      <td>...</td>\n",
       "      <td>None</td>\n",
       "      <td>8327.88</td>\n",
       "      <td>0.0</td>\n",
       "      <td>0.0</td>\n",
       "      <td>1.0</td>\n",
       "      <td>0</td>\n",
       "      <td>7.830</td>\n",
       "      <td>1810</td>\n",
       "      <td>42.65</td>\n",
       "      <td>-71.14</td>\n",
       "    </tr>\n",
       "    <tr>\n",
       "      <th>3</th>\n",
       "      <td>307245</td>\n",
       "      <td>307250</td>\n",
       "      <td>MA</td>\n",
       "      <td>02/26/2015</td>\n",
       "      <td>Massachusetts Clean Energy Center</td>\n",
       "      <td>uir</td>\n",
       "      <td>7.905</td>\n",
       "      <td>1.0</td>\n",
       "      <td>1810.0</td>\n",
       "      <td>residential</td>\n",
       "      <td>...</td>\n",
       "      <td>None</td>\n",
       "      <td>4701.24</td>\n",
       "      <td>0.0</td>\n",
       "      <td>0.0</td>\n",
       "      <td>1.0</td>\n",
       "      <td>0</td>\n",
       "      <td>7.905</td>\n",
       "      <td>1810</td>\n",
       "      <td>42.65</td>\n",
       "      <td>-71.14</td>\n",
       "    </tr>\n",
       "    <tr>\n",
       "      <th>4</th>\n",
       "      <td>307053</td>\n",
       "      <td>307058</td>\n",
       "      <td>MA</td>\n",
       "      <td>03/20/2015</td>\n",
       "      <td>Massachusetts Department of Energy Resources</td>\n",
       "      <td>uir</td>\n",
       "      <td>4.500</td>\n",
       "      <td>0.0</td>\n",
       "      <td>1810.0</td>\n",
       "      <td>educational</td>\n",
       "      <td>...</td>\n",
       "      <td>None</td>\n",
       "      <td>NaN</td>\n",
       "      <td>0.0</td>\n",
       "      <td>0.0</td>\n",
       "      <td>NaN</td>\n",
       "      <td>0</td>\n",
       "      <td>4.500</td>\n",
       "      <td>1810</td>\n",
       "      <td>42.65</td>\n",
       "      <td>-71.14</td>\n",
       "    </tr>\n",
       "  </tbody>\n",
       "</table>\n",
       "<p>5 rows × 37 columns</p>\n",
       "</div>"
      ],
      "text/plain": [
       "   level_0   index state date_installed  \\\n",
       "0   407858  407863    MA     09/28/2012   \n",
       "1   308777  308782    MA     11/21/2014   \n",
       "2   307214  307219    MA     04/13/2015   \n",
       "3   307245  307250    MA     02/26/2015   \n",
       "4   307053  307058    MA     03/20/2015   \n",
       "\n",
       "                           incentive_prog_names type  size_kw  appraised  \\\n",
       "0                          no_incentive_program  uir    4.800        0.0   \n",
       "1  Massachusetts Department of Energy Resources  uir   10.750        1.0   \n",
       "2             Massachusetts Clean Energy Center  uir    7.830        0.0   \n",
       "3             Massachusetts Clean Energy Center  uir    7.905        1.0   \n",
       "4  Massachusetts Department of Energy Resources  uir    4.500        0.0   \n",
       "\n",
       "   zipcode install_type  ...   inv_man_clean  reported_annual_energy_prod  \\\n",
       "0   1830.0  residential  ...            None                          NaN   \n",
       "1   1830.0  residential  ...            None                          NaN   \n",
       "2   1810.0  residential  ...            None                      8327.88   \n",
       "3   1810.0  residential  ...            None                      4701.24   \n",
       "4   1810.0  educational  ...            None                          NaN   \n",
       "\n",
       "   new_constr  tracking 3rdparty bipv    text Zipcode    Lat   Long  \n",
       "0         0.0       0.0      NaN    0   4.800    1830  42.78 -71.08  \n",
       "1         0.0       0.0      1.0    0  10.750    1830  42.78 -71.08  \n",
       "2         0.0       0.0      1.0    0   7.830    1810  42.65 -71.14  \n",
       "3         0.0       0.0      1.0    0   7.905    1810  42.65 -71.14  \n",
       "4         0.0       0.0      NaN    0   4.500    1810  42.65 -71.14  \n",
       "\n",
       "[5 rows x 37 columns]"
      ]
     },
     "execution_count": 25,
     "metadata": {},
     "output_type": "execute_result"
    }
   ],
   "source": [
    "df_small_lat_lon.head()"
   ]
  },
  {
   "cell_type": "code",
   "execution_count": 8,
   "metadata": {
    "collapsed": true
   },
   "outputs": [],
   "source": [
    "df_small = df_small_lat_lon"
   ]
  },
  {
   "cell_type": "code",
   "execution_count": 27,
   "metadata": {},
   "outputs": [
    {
     "data": {
      "text/html": [
       "<iframe id=\"igraph\" scrolling=\"no\" style=\"border:none;\" seamless=\"seamless\" src=\"https://plot.ly/~ebaker12/8.embed\" height=\"525px\" width=\"100%\"></iframe>"
      ],
      "text/plain": [
       "<plotly.tools.PlotlyDisplay object>"
      ]
     },
     "execution_count": 27,
     "metadata": {},
     "output_type": "execute_result"
    }
   ],
   "source": [
    "\n",
    "\n",
    "install_types = df_small.install_type.unique().tolist()\n",
    "colors = [\"lightgrey\", \"rgb(0,116,217)\",\"rgb(255,65,54)\",\"rgb(133,20,75)\",\"rgb(255,133,27)\",\n",
    "         'green', 'yellow', 'pink', 'black']\n",
    "categories = []\n",
    "scale = 5\n",
    "\n",
    "for i in range(len(install_types)):\n",
    "    df_sub = df_small.loc[df_small['install_type'] == install_types[i], :]\n",
    "    cat = dict(\n",
    "        type = 'scattergeo',\n",
    "        locationmode = 'USA-states',\n",
    "        lat = df_sub['Lat'],\n",
    "        lon = df_sub['Long'],\n",
    "        text = df_sub['text'],\n",
    "        marker = dict(\n",
    "            size = df_sub['size_kw']/scale,\n",
    "            color = colors[i],\n",
    "            line = dict(width=0.5, color='rgb(40,40,40)'),\n",
    "            sizemode = 'area'\n",
    "        ),\n",
    "        name = str(install_types[i]))\n",
    "    categories.append(cat)\n",
    "\n",
    "layout = dict(\n",
    "        title = 'Size Per Installation<br>(Click legend to toggle traces)',\n",
    "        showlegend = True,\n",
    "        geo = dict(\n",
    "            scope='usa',\n",
    "            projection=dict( type='albers usa' ),\n",
    "            showland = True,\n",
    "            landcolor = 'rgb(217, 217, 217)',\n",
    "            subunitwidth=1,\n",
    "            countrywidth=1,\n",
    "            subunitcolor=\"rgb(255, 255, 255)\",\n",
    "            countrycolor=\"rgb(255, 255, 255)\"\n",
    "        ),\n",
    "    )\n",
    "\n",
    "fig = dict( data=categories, layout=layout )\n",
    "py.iplot( fig, validate=False, filename='installation_size' )"
   ]
  },
  {
   "cell_type": "markdown",
   "metadata": {},
   "source": [
    "LINK TO GRAPH: https://plot.ly/~ebaker12/8"
   ]
  },
  {
   "cell_type": "markdown",
   "metadata": {},
   "source": [
    "## Story:\n",
    "\n",
    "This actually tells us some pretty interesting stuff.\n",
    "\n",
    "1.  Most solar installations are pretty concentrated around calfornia and the east coast, seemingly around places of high population density.  However, it's interesting to not the relative scarcity of solar in the south and texas, particularly throughout NM and TX.\n",
    "2.  The band through CA and AZ probably corresponds to high insolation to some degree, but interesting that we don't see much in other states in the same band where we'd expect high insolation.\n",
    "3.  The east coast is super highly concentrated, even though we'd expect that there's NOT as much insolation there.\n",
    "4.  Interestingly, there's a lot of large commercial installations on the east coast, primarly in NJ and MA, and not so much in the surrounding states.  This indicates that concentration of solar panels, particlarly big commercial ones, may be highly dependent on state factors, like taxes, infrustructure, and incentive programs."
   ]
  },
  {
   "cell_type": "code",
   "execution_count": 32,
   "metadata": {
    "collapsed": true
   },
   "outputs": [],
   "source": [
    "install_types = df_small.install_type.unique().tolist()\n",
    "install_types.remove('utility')"
   ]
  },
  {
   "cell_type": "code",
   "execution_count": 33,
   "metadata": {},
   "outputs": [
    {
     "data": {
      "text/plain": [
       "[u'residential',\n",
       " u'educational',\n",
       " u'commercial',\n",
       " u'government',\n",
       " u'nonprofit',\n",
       " u'agricultural']"
      ]
     },
     "execution_count": 33,
     "metadata": {},
     "output_type": "execute_result"
    }
   ],
   "source": [
    "install_types"
   ]
  },
  {
   "cell_type": "code",
   "execution_count": 34,
   "metadata": {},
   "outputs": [
    {
     "data": {
      "text/html": [
       "<iframe id=\"igraph\" scrolling=\"no\" style=\"border:none;\" seamless=\"seamless\" src=\"https://plot.ly/~ebaker12/10.embed\" height=\"525px\" width=\"100%\"></iframe>"
      ],
      "text/plain": [
       "<plotly.tools.PlotlyDisplay object>"
      ]
     },
     "execution_count": 34,
     "metadata": {},
     "output_type": "execute_result"
    }
   ],
   "source": [
    "colors = [\"lightgrey\", \"rgb(0,116,217)\",\"rgb(255,65,54)\",\"rgb(133,20,75)\",\"rgb(255,133,27)\",\n",
    "         'green', 'yellow', 'pink', 'black']\n",
    "categories = []\n",
    "scale = 3.5\n",
    "\n",
    "for i in range(len(install_types)):\n",
    "    df_sub = df_small.loc[df_small['install_type'] == install_types[i], :]\n",
    "    cat = dict(\n",
    "        type = 'scattergeo',\n",
    "        locationmode = 'USA-states',\n",
    "        lat = df_sub['Lat'],\n",
    "        lon = df_sub['Long'],\n",
    "        text = df_sub['text'],\n",
    "        marker = dict(\n",
    "            size = df_sub['size_kw']/scale,\n",
    "            color = colors[i],\n",
    "            line = dict(width=0.5, color='rgb(40,40,40)'),\n",
    "            sizemode = 'area'\n",
    "        ),\n",
    "        name = str(install_types[i]))\n",
    "    categories.append(cat)\n",
    "\n",
    "layout = dict(\n",
    "        title = 'Size Per Installation<br>(Click legend to toggle traces)',\n",
    "        showlegend = True,\n",
    "        geo = dict(\n",
    "            scope='usa',\n",
    "            projection=dict( type='albers usa' ),\n",
    "            showland = True,\n",
    "            landcolor = 'rgb(217, 217, 217)',\n",
    "            subunitwidth=1,\n",
    "            countrywidth=1,\n",
    "            subunitcolor=\"rgb(255, 255, 255)\",\n",
    "            countrycolor=\"rgb(255, 255, 255)\"\n",
    "        ),\n",
    "    )\n",
    "\n",
    "fig = dict( data=categories, layout=layout )\n",
    "py.iplot(fig, validate=False, filename='installation_size_no_utility' )"
   ]
  },
  {
   "cell_type": "markdown",
   "metadata": {},
   "source": [
    "LINK TO GRAPH: https://plot.ly/~ebaker12/10"
   ]
  },
  {
   "cell_type": "markdown",
   "metadata": {},
   "source": [
    "# Output by Type\n",
    "\n",
    "Output of installations colored by type, sized by output."
   ]
  },
  {
   "cell_type": "code",
   "execution_count": 35,
   "metadata": {},
   "outputs": [
    {
     "name": "stdout",
     "output_type": "stream",
     "text": [
      "<class 'pandas.core.frame.DataFrame'>\n",
      "Int64Index: 9999 entries, 0 to 9998\n",
      "Data columns (total 37 columns):\n",
      "level_0                        9999 non-null int64\n",
      "index                          9999 non-null int64\n",
      "state                          9999 non-null object\n",
      "date_installed                 9999 non-null object\n",
      "incentive_prog_names           9999 non-null object\n",
      "type                           9999 non-null object\n",
      "size_kw                        9999 non-null float64\n",
      "appraised                      9999 non-null float64\n",
      "zipcode                        9999 non-null float64\n",
      "install_type                   9999 non-null object\n",
      "installer                      9883 non-null object\n",
      "cost_per_watt                  7455 non-null float64\n",
      "cost                           9999 non-null float64\n",
      "lbnl_tts                       9999 non-null float64\n",
      "city                           9999 non-null object\n",
      "utility_clean                  9999 non-null object\n",
      "tech_1                         5698 non-null object\n",
      "model1_clean                   5698 non-null object\n",
      "county                         9760 non-null object\n",
      "annual_PV_prod                 7700 non-null float64\n",
      "annual_insolation              7700 non-null float64\n",
      "rebate                         3735 non-null object\n",
      "sales_tax_cost                 3470 non-null float64\n",
      "tilt1                          3801 non-null float64\n",
      "tracking_type                  5195 non-null object\n",
      "azimuth1                       3580 non-null float64\n",
      "manufacturer                   2241 non-null object\n",
      "inv_man_clean                  495 non-null object\n",
      "reported_annual_energy_prod    1969 non-null float64\n",
      "new_constr                     9999 non-null float64\n",
      "tracking                       9999 non-null float64\n",
      "3rdparty                       3065 non-null float64\n",
      "bipv                           9999 non-null int64\n",
      "text                           9999 non-null float64\n",
      "Zipcode                        9999 non-null int64\n",
      "Lat                            9999 non-null float64\n",
      "Long                           9999 non-null float64\n",
      "dtypes: float64(18), int64(4), object(15)\n",
      "memory usage: 2.9+ MB\n"
     ]
    }
   ],
   "source": [
    "df_small.info()"
   ]
  },
  {
   "cell_type": "code",
   "execution_count": 41,
   "metadata": {},
   "outputs": [
    {
     "data": {
      "text/html": [
       "<iframe id=\"igraph\" scrolling=\"no\" style=\"border:none;\" seamless=\"seamless\" src=\"https://plot.ly/~ebaker12/12.embed\" height=\"525px\" width=\"100%\"></iframe>"
      ],
      "text/plain": [
       "<plotly.tools.PlotlyDisplay object>"
      ]
     },
     "execution_count": 41,
     "metadata": {},
     "output_type": "execute_result"
    }
   ],
   "source": [
    "colors = [\"lightgrey\", \"rgb(0,116,217)\",\"rgb(255,65,54)\",\"rgb(133,20,75)\",\"rgb(255,133,27)\",\n",
    "         'green', 'yellow', 'pink', 'black']\n",
    "categories = []\n",
    "scale = 1000\n",
    "\n",
    "for i in range(len(install_types)):\n",
    "    df_sub = df_small.loc[df_small['install_type'] == install_types[i], :]\n",
    "    cat = dict(\n",
    "        type = 'scattergeo',\n",
    "        locationmode = 'USA-states',\n",
    "        lat = df_sub['Lat'],\n",
    "        lon = df_sub['Long'],\n",
    "        text = df_sub['reported_annual_energy_prod'],\n",
    "        marker = dict(\n",
    "            size = df_sub['reported_annual_energy_prod']/scale,\n",
    "            color = colors[i],\n",
    "            line = dict(width=0.5, color='rgb(40,40,40)'),\n",
    "            sizemode = 'area'\n",
    "        ),\n",
    "        name = str(install_types[i]))\n",
    "    categories.append(cat)\n",
    "\n",
    "layout = dict(\n",
    "        title = 'Reported Output per Installation<br>(Click legend to toggle traces)',\n",
    "        showlegend = True,\n",
    "        geo = dict(\n",
    "            scope='usa',\n",
    "            projection=dict( type='albers usa' ),\n",
    "            showland = True,\n",
    "            landcolor = 'rgb(217, 217, 217)',\n",
    "            subunitwidth=1,\n",
    "            countrywidth=1,\n",
    "            subunitcolor=\"rgb(255, 255, 255)\",\n",
    "            countrycolor=\"rgb(255, 255, 255)\"\n",
    "        ),\n",
    "    )\n",
    "\n",
    "fig = dict( data=categories, layout=layout )\n",
    "py.iplot(fig, validate=False, filename='installation_output_no_utility' )"
   ]
  },
  {
   "cell_type": "markdown",
   "metadata": {},
   "source": [
    "LINK TO GRAPH: https://plot.ly/~ebaker12/12/reported-output-per-installation-click-legend-to-toggle-traces/"
   ]
  },
  {
   "cell_type": "markdown",
   "metadata": {},
   "source": [
    "Something that's interesting about this:  looks like the places where there's actually a reported energy produced are restricted to certain areas, maybe they have to report how much they make in these places?  Also the amount of energy produced is wildly divergent between types, kind of suspect."
   ]
  },
  {
   "cell_type": "markdown",
   "metadata": {},
   "source": [
    "# Mapping Efficiency, Colored by Tech"
   ]
  },
  {
   "cell_type": "code",
   "execution_count": 43,
   "metadata": {},
   "outputs": [
    {
     "data": {
      "text/plain": [
       "[None,\n",
       " u'crystalline',\n",
       " u'Mono',\n",
       " u'Poly',\n",
       " u'Mono + a-Si',\n",
       " u'CIGS',\n",
       " u'CdTe',\n",
       " u'a-Si',\n",
       " u'CIS',\n",
       " u'Thin Film']"
      ]
     },
     "execution_count": 43,
     "metadata": {},
     "output_type": "execute_result"
    }
   ],
   "source": [
    "df_small.tech_1.unique().tolist()"
   ]
  },
  {
   "cell_type": "code",
   "execution_count": 57,
   "metadata": {},
   "outputs": [
    {
     "data": {
      "text/html": [
       "<iframe id=\"igraph\" scrolling=\"no\" style=\"border:none;\" seamless=\"seamless\" src=\"https://plot.ly/~ebaker12/14.embed\" height=\"525px\" width=\"100%\"></iframe>"
      ],
      "text/plain": [
       "<plotly.tools.PlotlyDisplay object>"
      ]
     },
     "execution_count": 57,
     "metadata": {},
     "output_type": "execute_result"
    }
   ],
   "source": [
    "tech_types = df.tech_1.unique().tolist()\n",
    "\n",
    "df_small['efficiency'] = (df_small['annual_PV_prod']/df_small['cost'])**3\n",
    "\n",
    "colors = [\"white\", \"rgb(0,116,217)\",\"rgb(255,65,54)\",\"rgb(133,20,75)\",\"rgb(255,133,27)\",\n",
    "         'green', 'yellow', 'pink', 'black', 'lightgrey', 'teal', 'maroon']\n",
    "categories = []\n",
    "scale = .005\n",
    "\n",
    "for i in range(len(tech_types)):\n",
    "    df_sub = df_small.loc[df_small['tech_1'] == tech_types[i], :]\n",
    "    cat = dict(\n",
    "        type = 'scattergeo',\n",
    "        locationmode = 'USA-states',\n",
    "        lat = df_sub['Lat'],\n",
    "        lon = df_sub['Long'],\n",
    "        text = df_sub['efficiency'],\n",
    "        marker = dict(\n",
    "            size = df_sub['efficiency']/scale,\n",
    "            color = colors[i],\n",
    "            line = dict(width=0.5, color='rgb(40,40,40)'),\n",
    "            sizemode = 'area'\n",
    "        ),\n",
    "        name = str(tech_types[i]))\n",
    "    categories.append(cat)\n",
    "\n",
    "layout = dict(\n",
    "        title = 'Efficiency per Installation By Technology<br>(Click legend to toggle traces)',\n",
    "        showlegend = True,\n",
    "        geo = dict(\n",
    "            scope='usa',\n",
    "            projection=dict( type='albers usa' ),\n",
    "            showland = True,\n",
    "            landcolor = 'rgb(217, 217, 217)',\n",
    "            subunitwidth=1,\n",
    "            countrywidth=1,\n",
    "            subunitcolor=\"rgb(255, 255, 255)\",\n",
    "            countrycolor=\"rgb(255, 255, 255)\"\n",
    "        ),\n",
    "    )\n",
    "\n",
    "fig = dict( data=categories, layout=layout )\n",
    "py.iplot(fig, validate=False, filename='installation_efficiency_by_tech' )"
   ]
  },
  {
   "cell_type": "markdown",
   "metadata": {},
   "source": [
    "LINK TO GRAPH: https://plot.ly/~ebaker12/14/efficiency-per-installation-by-technology-click-legend-to-toggle-traces/"
   ]
  },
  {
   "cell_type": "markdown",
   "metadata": {},
   "source": [
    "# Story\n",
    "\n",
    "Here we're looking at efficiency, as (production/cost)^3 to accentuate effect.  We do notice something farily notable, that generally it looks like things are more efficient in the southwest, in particlar in southern california. It looks like this may correspond to insolation, but hard to say."
   ]
  },
  {
   "cell_type": "markdown",
   "metadata": {},
   "source": [
    "# Mapping cost per watt, colored by tech\n",
    "\n",
    "This time we'll size it by inverse cost per watt, so bigger circles correspond to cheaper energy."
   ]
  },
  {
   "cell_type": "code",
   "execution_count": 15,
   "metadata": {},
   "outputs": [
    {
     "data": {
      "text/html": [
       "<iframe id=\"igraph\" scrolling=\"no\" style=\"border:none;\" seamless=\"seamless\" src=\"https://plot.ly/~ebaker12/28.embed\" height=\"525px\" width=\"100%\"></iframe>"
      ],
      "text/plain": [
       "<plotly.tools.PlotlyDisplay object>"
      ]
     },
     "execution_count": 15,
     "metadata": {},
     "output_type": "execute_result"
    }
   ],
   "source": [
    "df_small.tech_1.unique().tolist()\n",
    "\n",
    "tech_types = df.tech_1.unique().tolist()\n",
    "\n",
    "colors = [\"white\", \"rgb(0,116,217)\",\"rgb(255,65,54)\",\"rgb(133,20,75)\",\"rgb(255,133,27)\",\n",
    "         'green', 'yellow', 'pink', 'black', 'lightgrey', 'teal', 'maroon']\n",
    "categories = []\n",
    "scale = 200\n",
    "\n",
    "for i in range(len(tech_types)):\n",
    "    df_sub = df_small.loc[df_small['tech_1'] == tech_types[i], :]\n",
    "    cat = dict(\n",
    "        type = 'scattergeo',\n",
    "        locationmode = 'USA-states',\n",
    "        lat = df_sub['Lat'],\n",
    "        lon = df_sub['Long'],\n",
    "        text = df_sub['cost_per_watt'],\n",
    "        marker = dict(\n",
    "            size = (1/df_sub['cost_per_watt']**2) * scale,\n",
    "            color = colors[i],\n",
    "            line = dict(width=0.5, color='rgb(40,40,40)'),\n",
    "            sizemode = 'area'\n",
    "        ),\n",
    "        name = str(tech_types[i]))\n",
    "    categories.append(cat)\n",
    "\n",
    "layout = dict(\n",
    "        title = 'Cost Per Watt per Installation By Technology<br>(Click legend to toggle traces)',\n",
    "        showlegend = True,\n",
    "        geo = dict(\n",
    "            scope='usa',\n",
    "            projection=dict( type='albers usa' ),\n",
    "            showland = True,\n",
    "            landcolor = 'rgb(217, 217, 217)',\n",
    "            subunitwidth=1,\n",
    "            countrywidth=1,\n",
    "            subunitcolor=\"rgb(255, 255, 255)\",\n",
    "            countrycolor=\"rgb(255, 255, 255)\"\n",
    "        ),\n",
    "    )\n",
    "\n",
    "fig = dict( data=categories, layout=layout )\n",
    "py.iplot(fig, validate=False, filename='installation_cost_per_watt_by_tech' )"
   ]
  },
  {
   "cell_type": "markdown",
   "metadata": {},
   "source": [
    "Link to graph: https://plot.ly/~ebaker12/28"
   ]
  },
  {
   "cell_type": "markdown",
   "metadata": {},
   "source": [
    "# Story\n",
    "\n",
    "1. Looking to see if perhaps in sunnier areas there's a clear trend towards efficiency, hard to see if that's actually the case.\n",
    "2. Interesting to see that ones labeled crystalline are all concentrated in MA, might be a mislabeling thing because mono and poly are also types of crystaline technologies.\n",
    "3.  Looks like we may have our cheapest production in southern california, cheaper than the east coast, which could correpond to sun exposure and angle to sun."
   ]
  },
  {
   "cell_type": "markdown",
   "metadata": {},
   "source": [
    "# Efficiency Over Time"
   ]
  },
  {
   "cell_type": "markdown",
   "metadata": {},
   "source": [
    "Efficiency, colored by type/tech/installer, plotted over time, sized by efficiency,\n",
    "- x = install date\n",
    "- y = efficiency\n",
    "- color = type/tech/installer\n",
    "- size = size_kw, ?\n",
    "- alternatively could by size/cost on the y axis, sized by efficiency.\n",
    "- https://plot.ly/~bchartoff/707#plot"
   ]
  },
  {
   "cell_type": "code",
   "execution_count": 62,
   "metadata": {
    "collapsed": true
   },
   "outputs": [],
   "source": [
    "df_small.date_installed = pd.to_datetime(df_small.date_installed)"
   ]
  },
  {
   "cell_type": "code",
   "execution_count": 69,
   "metadata": {},
   "outputs": [
    {
     "data": {
      "text/html": [
       "<iframe id=\"igraph\" scrolling=\"no\" style=\"border:none;\" seamless=\"seamless\" src=\"https://plot.ly/~ebaker12/18.embed\" height=\"525px\" width=\"100%\"></iframe>"
      ],
      "text/plain": [
       "<plotly.tools.PlotlyDisplay object>"
      ]
     },
     "execution_count": 69,
     "metadata": {},
     "output_type": "execute_result"
    }
   ],
   "source": [
    "tech_types = df.tech_1.unique().tolist()\n",
    "\n",
    "traces = []\n",
    "\n",
    "colors = [\"white\", \"rgb(0,116,217)\",\"rgb(255,65,54)\",\"rgb(133,20,75)\",\"rgb(255,133,27)\",\n",
    "         'green', 'yellow', 'pink', 'black', 'lightgrey', 'teal', 'maroon']\n",
    "\n",
    "scale = 75\n",
    "\n",
    "for i in range(len(tech_types)):\n",
    "    df_sub = df_small[df_small['tech_1'] == tech_types[i]]\n",
    "    trace = go.Scatter(\n",
    "    x = df_sub['date_installed'],\n",
    "    y = df_sub['efficiency'],\n",
    "    name = tech_types[i],\n",
    "    mode = 'markers',\n",
    "    marker = dict(\n",
    "        size = df_sub['size_kw']/scale,\n",
    "        color = colors[i],\n",
    "        line = dict(\n",
    "            width = 2,\n",
    "            color = 'rgb(0, 0, 0)'\n",
    "        )\n",
    "    ))\n",
    "    traces.append(trace)\n",
    "    \n",
    "layout = dict(title = 'Efficiency By Tech Over Time',\n",
    "              yaxis = dict(zeroline = False),\n",
    "              xaxis = dict(zeroline = False)\n",
    "             )\n",
    "\n",
    "fig = dict(data=traces, layout=layout)\n",
    "py.iplot(fig, filename='efficiency_over_time')"
   ]
  },
  {
   "cell_type": "markdown",
   "metadata": {},
   "source": [
    "LINK TO GRAPH: https://plot.ly/~ebaker12/18/output/"
   ]
  },
  {
   "cell_type": "markdown",
   "metadata": {
    "collapsed": true
   },
   "source": [
    "### Story:\n",
    "\n",
    "could graph efficiency by type over time as a line graph, just showing average efficiency for the year.\n",
    "\n",
    "This isn't super informative, we could be getting more efficient but it's hard to see with this because they're are\n",
    "clearly just so many more installations over time as well, and they're dominating.  \n",
    "But maybe we actually are seeing an incease in efficiency over time.\n"
   ]
  },
  {
   "cell_type": "code",
   "execution_count": 7,
   "metadata": {
    "collapsed": true
   },
   "outputs": [],
   "source": [
    "df_small = df_small_lat_lon\n"
   ]
  },
  {
   "cell_type": "code",
   "execution_count": 9,
   "metadata": {
    "collapsed": true
   },
   "outputs": [],
   "source": [
    "df_small['efficiency'] = (df_small['annual_PV_prod']/df_small['cost'])**3"
   ]
  },
  {
   "cell_type": "code",
   "execution_count": 13,
   "metadata": {
    "collapsed": true
   },
   "outputs": [],
   "source": [
    "df_group = df_small[['date_installed', 'annual_PV_prod', 'cost']]"
   ]
  },
  {
   "cell_type": "code",
   "execution_count": 14,
   "metadata": {},
   "outputs": [
    {
     "name": "stderr",
     "output_type": "stream",
     "text": [
      "//anaconda/lib/python2.7/site-packages/pandas/core/generic.py:2773: SettingWithCopyWarning:\n",
      "\n",
      "\n",
      "A value is trying to be set on a copy of a slice from a DataFrame.\n",
      "Try using .loc[row_indexer,col_indexer] = value instead\n",
      "\n",
      "See the caveats in the documentation: http://pandas.pydata.org/pandas-docs/stable/indexing.html#indexing-view-versus-copy\n",
      "\n"
     ]
    }
   ],
   "source": [
    "df_group.date_installed = pd.to_datetime(df_group.date_installed)"
   ]
  },
  {
   "cell_type": "code",
   "execution_count": 15,
   "metadata": {},
   "outputs": [
    {
     "name": "stdout",
     "output_type": "stream",
     "text": [
      "<class 'pandas.core.frame.DataFrame'>\n",
      "Int64Index: 9999 entries, 0 to 9998\n",
      "Data columns (total 3 columns):\n",
      "date_installed    9999 non-null datetime64[ns]\n",
      "annual_PV_prod    7653 non-null float64\n",
      "cost              9999 non-null float64\n",
      "dtypes: datetime64[ns](1), float64(2)\n",
      "memory usage: 312.5 KB\n"
     ]
    }
   ],
   "source": [
    "df_group.info()"
   ]
  },
  {
   "cell_type": "code",
   "execution_count": 17,
   "metadata": {},
   "outputs": [
    {
     "name": "stderr",
     "output_type": "stream",
     "text": [
      "/anaconda/lib/python2.7/site-packages/ipykernel_launcher.py:1: SettingWithCopyWarning:\n",
      "\n",
      "\n",
      "A value is trying to be set on a copy of a slice from a DataFrame.\n",
      "Try using .loc[row_indexer,col_indexer] = value instead\n",
      "\n",
      "See the caveats in the documentation: http://pandas.pydata.org/pandas-docs/stable/indexing.html#indexing-view-versus-copy\n",
      "\n"
     ]
    }
   ],
   "source": [
    "df_group['year_installed'] = [date.year for date in df_group['date_installed']]"
   ]
  },
  {
   "cell_type": "code",
   "execution_count": 19,
   "metadata": {
    "collapsed": true
   },
   "outputs": [],
   "source": [
    "df_yearly = df_group.groupby('year_installed').sum()"
   ]
  },
  {
   "cell_type": "code",
   "execution_count": 21,
   "metadata": {
    "collapsed": true
   },
   "outputs": [],
   "source": [
    "df_yearly.dropna(inplace=True)"
   ]
  },
  {
   "cell_type": "code",
   "execution_count": 23,
   "metadata": {
    "collapsed": true
   },
   "outputs": [],
   "source": [
    "df_yearly['efficiency'] = df_yearly.annual_PV_prod / df_yearly.cost"
   ]
  },
  {
   "cell_type": "code",
   "execution_count": 24,
   "metadata": {},
   "outputs": [
    {
     "data": {
      "text/html": [
       "<div>\n",
       "<table border=\"1\" class=\"dataframe\">\n",
       "  <thead>\n",
       "    <tr style=\"text-align: right;\">\n",
       "      <th></th>\n",
       "      <th>annual_PV_prod</th>\n",
       "      <th>cost</th>\n",
       "      <th>efficiency</th>\n",
       "    </tr>\n",
       "    <tr>\n",
       "      <th>year_installed</th>\n",
       "      <th></th>\n",
       "      <th></th>\n",
       "      <th></th>\n",
       "    </tr>\n",
       "  </thead>\n",
       "  <tbody>\n",
       "    <tr>\n",
       "      <th>1999</th>\n",
       "      <td>1.377328e+05</td>\n",
       "      <td>3.352702e+05</td>\n",
       "      <td>0.410811</td>\n",
       "    </tr>\n",
       "    <tr>\n",
       "      <th>2000</th>\n",
       "      <td>1.929612e+04</td>\n",
       "      <td>1.344369e+05</td>\n",
       "      <td>0.143533</td>\n",
       "    </tr>\n",
       "    <tr>\n",
       "      <th>2001</th>\n",
       "      <td>4.511974e+04</td>\n",
       "      <td>6.083574e+05</td>\n",
       "      <td>0.074167</td>\n",
       "    </tr>\n",
       "    <tr>\n",
       "      <th>2002</th>\n",
       "      <td>1.263346e+05</td>\n",
       "      <td>1.448742e+06</td>\n",
       "      <td>0.087203</td>\n",
       "    </tr>\n",
       "    <tr>\n",
       "      <th>2003</th>\n",
       "      <td>6.147635e+05</td>\n",
       "      <td>5.012647e+06</td>\n",
       "      <td>0.122642</td>\n",
       "    </tr>\n",
       "    <tr>\n",
       "      <th>2004</th>\n",
       "      <td>5.066172e+05</td>\n",
       "      <td>3.792133e+06</td>\n",
       "      <td>0.133597</td>\n",
       "    </tr>\n",
       "    <tr>\n",
       "      <th>2005</th>\n",
       "      <td>3.929482e+05</td>\n",
       "      <td>3.758582e+06</td>\n",
       "      <td>0.104547</td>\n",
       "    </tr>\n",
       "    <tr>\n",
       "      <th>2006</th>\n",
       "      <td>1.530290e+06</td>\n",
       "      <td>1.832303e+07</td>\n",
       "      <td>0.083517</td>\n",
       "    </tr>\n",
       "    <tr>\n",
       "      <th>2007</th>\n",
       "      <td>2.732355e+06</td>\n",
       "      <td>3.235354e+07</td>\n",
       "      <td>0.084453</td>\n",
       "    </tr>\n",
       "    <tr>\n",
       "      <th>2008</th>\n",
       "      <td>2.395937e+06</td>\n",
       "      <td>2.484113e+07</td>\n",
       "      <td>0.096450</td>\n",
       "    </tr>\n",
       "    <tr>\n",
       "      <th>2009</th>\n",
       "      <td>7.414247e+06</td>\n",
       "      <td>6.352952e+07</td>\n",
       "      <td>0.116706</td>\n",
       "    </tr>\n",
       "    <tr>\n",
       "      <th>2010</th>\n",
       "      <td>6.323508e+06</td>\n",
       "      <td>5.931086e+07</td>\n",
       "      <td>0.106616</td>\n",
       "    </tr>\n",
       "    <tr>\n",
       "      <th>2011</th>\n",
       "      <td>1.292975e+07</td>\n",
       "      <td>9.968081e+07</td>\n",
       "      <td>0.129711</td>\n",
       "    </tr>\n",
       "    <tr>\n",
       "      <th>2012</th>\n",
       "      <td>1.547171e+07</td>\n",
       "      <td>1.206470e+08</td>\n",
       "      <td>0.128239</td>\n",
       "    </tr>\n",
       "    <tr>\n",
       "      <th>2013</th>\n",
       "      <td>1.958435e+07</td>\n",
       "      <td>1.109869e+08</td>\n",
       "      <td>0.176456</td>\n",
       "    </tr>\n",
       "    <tr>\n",
       "      <th>2014</th>\n",
       "      <td>2.357123e+07</td>\n",
       "      <td>8.546430e+07</td>\n",
       "      <td>0.275802</td>\n",
       "    </tr>\n",
       "    <tr>\n",
       "      <th>2015</th>\n",
       "      <td>2.821484e+07</td>\n",
       "      <td>9.959693e+07</td>\n",
       "      <td>0.283290</td>\n",
       "    </tr>\n",
       "  </tbody>\n",
       "</table>\n",
       "</div>"
      ],
      "text/plain": [
       "                annual_PV_prod          cost  efficiency\n",
       "year_installed                                          \n",
       "1999              1.377328e+05  3.352702e+05    0.410811\n",
       "2000              1.929612e+04  1.344369e+05    0.143533\n",
       "2001              4.511974e+04  6.083574e+05    0.074167\n",
       "2002              1.263346e+05  1.448742e+06    0.087203\n",
       "2003              6.147635e+05  5.012647e+06    0.122642\n",
       "2004              5.066172e+05  3.792133e+06    0.133597\n",
       "2005              3.929482e+05  3.758582e+06    0.104547\n",
       "2006              1.530290e+06  1.832303e+07    0.083517\n",
       "2007              2.732355e+06  3.235354e+07    0.084453\n",
       "2008              2.395937e+06  2.484113e+07    0.096450\n",
       "2009              7.414247e+06  6.352952e+07    0.116706\n",
       "2010              6.323508e+06  5.931086e+07    0.106616\n",
       "2011              1.292975e+07  9.968081e+07    0.129711\n",
       "2012              1.547171e+07  1.206470e+08    0.128239\n",
       "2013              1.958435e+07  1.109869e+08    0.176456\n",
       "2014              2.357123e+07  8.546430e+07    0.275802\n",
       "2015              2.821484e+07  9.959693e+07    0.283290"
      ]
     },
     "execution_count": 24,
     "metadata": {},
     "output_type": "execute_result"
    }
   ],
   "source": [
    "df_yearly"
   ]
  },
  {
   "cell_type": "code",
   "execution_count": 34,
   "metadata": {},
   "outputs": [
    {
     "data": {
      "text/html": [
       "<iframe id=\"igraph\" scrolling=\"no\" style=\"border:none;\" seamless=\"seamless\" src=\"https://plot.ly/~ebaker12/22.embed\" height=\"525px\" width=\"100%\"></iframe>"
      ],
      "text/plain": [
       "<plotly.tools.PlotlyDisplay object>"
      ]
     },
     "execution_count": 34,
     "metadata": {},
     "output_type": "execute_result"
    }
   ],
   "source": [
    "\n",
    "# Create traces\n",
    "\n",
    "# Output\n",
    "trace0 = go.Scatter(\n",
    "    x = list(df_yearly.index),\n",
    "    y = df_yearly['annual_PV_prod'],\n",
    "    mode = 'lines+markers',\n",
    "    name = 'Output'\n",
    ")\n",
    "\n",
    "# Cost\n",
    "trace1 = go.Scatter(\n",
    "    x = list(df_yearly.index),\n",
    "    y = df_yearly['cost'],\n",
    "    mode = 'lines+markers',\n",
    "    name = 'Cost'\n",
    ")\n",
    "\n",
    "\n",
    "data = [trace0, trace1]\n",
    "\n",
    "layout = dict(title = 'Total Cost and Output',\n",
    "              yaxis = dict(zeroline = False),\n",
    "              xaxis = dict(zeroline = False)\n",
    "             )\n",
    "\n",
    "py.iplot(data, layout = layout, filename='Total Cost and Output')"
   ]
  },
  {
   "cell_type": "markdown",
   "metadata": {},
   "source": [
    "LINK TO GRAPH: https://plot.ly/~ebaker12/22/output-vs-cost/"
   ]
  },
  {
   "cell_type": "markdown",
   "metadata": {},
   "source": [
    "### Story\n",
    "\n",
    "This isn't particularly interesting, as it's just the total amount spent on solar installtions in the data, and total amount of solar output.  It is somewhat interesting how much it's spiking in the past 10 years."
   ]
  },
  {
   "cell_type": "code",
   "execution_count": 40,
   "metadata": {},
   "outputs": [
    {
     "data": {
      "text/html": [
       "<iframe id=\"igraph\" scrolling=\"no\" style=\"border:none;\" seamless=\"seamless\" src=\"https://plot.ly/~ebaker12/18.embed\" height=\"525px\" width=\"100%\"></iframe>"
      ],
      "text/plain": [
       "<plotly.tools.PlotlyDisplay object>"
      ]
     },
     "execution_count": 40,
     "metadata": {},
     "output_type": "execute_result"
    }
   ],
   "source": [
    "\n",
    "# Create traces\n",
    "\n",
    "# Efficiency\n",
    "trace0 = go.Scatter(\n",
    "    x = list(df_yearly.iloc[1:,:].index),\n",
    "    y = df_yearly.iloc[1:,:]['efficiency'],\n",
    "    mode = 'lines+markers',\n",
    "    name = 'Output'\n",
    ")\n",
    "\n",
    "data = [trace0]\n",
    "\n",
    "layout = dict(title = 'Efficiency Over Time',\n",
    "              yaxis = dict(zeroline = False),\n",
    "              xaxis = dict(zeroline = False)\n",
    "             )\n",
    "\n",
    "py.iplot(data, layout = layout, filename='efficiency_over_time')"
   ]
  },
  {
   "cell_type": "markdown",
   "metadata": {},
   "source": [
    "LINK TO GRAPH: https://plot.ly/~ebaker12/18/output/\n",
    "    \n",
    "There's no title, but this is efficiency over time."
   ]
  },
  {
   "cell_type": "markdown",
   "metadata": {},
   "source": [
    "### Let's also look at cost_per_watt over time.\n",
    "\n"
   ]
  },
  {
   "cell_type": "code",
   "execution_count": 36,
   "metadata": {},
   "outputs": [
    {
     "name": "stderr",
     "output_type": "stream",
     "text": [
      "/anaconda/lib/python2.7/site-packages/ipykernel_launcher.py:1: SettingWithCopyWarning:\n",
      "\n",
      "\n",
      "A value is trying to be set on a copy of a slice from a DataFrame.\n",
      "Try using .loc[row_indexer,col_indexer] = value instead\n",
      "\n",
      "See the caveats in the documentation: http://pandas.pydata.org/pandas-docs/stable/indexing.html#indexing-view-versus-copy\n",
      "\n"
     ]
    }
   ],
   "source": [
    "df_group['cost_per_watt'] = df_small['cost_per_watt']"
   ]
  },
  {
   "cell_type": "code",
   "execution_count": 38,
   "metadata": {
    "collapsed": true
   },
   "outputs": [],
   "source": [
    "df_yearly_avg = df_group.groupby(\"year_installed\").mean()"
   ]
  },
  {
   "cell_type": "code",
   "execution_count": 51,
   "metadata": {},
   "outputs": [
    {
     "data": {
      "text/html": [
       "<div>\n",
       "<table border=\"1\" class=\"dataframe\">\n",
       "  <thead>\n",
       "    <tr style=\"text-align: right;\">\n",
       "      <th></th>\n",
       "      <th>annual_PV_prod</th>\n",
       "      <th>cost</th>\n",
       "      <th>cost_per_watt</th>\n",
       "    </tr>\n",
       "    <tr>\n",
       "      <th>year_installed</th>\n",
       "      <th></th>\n",
       "      <th></th>\n",
       "      <th></th>\n",
       "    </tr>\n",
       "  </thead>\n",
       "  <tbody>\n",
       "    <tr>\n",
       "      <th>2000</th>\n",
       "      <td>9648.058715</td>\n",
       "      <td>26887.374501</td>\n",
       "      <td>7.373135</td>\n",
       "    </tr>\n",
       "    <tr>\n",
       "      <th>2001</th>\n",
       "      <td>3759.978726</td>\n",
       "      <td>21727.051619</td>\n",
       "      <td>8.461430</td>\n",
       "    </tr>\n",
       "    <tr>\n",
       "      <th>2002</th>\n",
       "      <td>5263.941437</td>\n",
       "      <td>30182.117460</td>\n",
       "      <td>9.057615</td>\n",
       "    </tr>\n",
       "    <tr>\n",
       "      <th>2003</th>\n",
       "      <td>16615.229699</td>\n",
       "      <td>65099.305866</td>\n",
       "      <td>8.160041</td>\n",
       "    </tr>\n",
       "    <tr>\n",
       "      <th>2004</th>\n",
       "      <td>9742.638525</td>\n",
       "      <td>37177.775147</td>\n",
       "      <td>7.699935</td>\n",
       "    </tr>\n",
       "    <tr>\n",
       "      <th>2005</th>\n",
       "      <td>9355.909203</td>\n",
       "      <td>39151.894453</td>\n",
       "      <td>7.499216</td>\n",
       "    </tr>\n",
       "    <tr>\n",
       "      <th>2006</th>\n",
       "      <td>17003.221309</td>\n",
       "      <td>101232.221261</td>\n",
       "      <td>8.053195</td>\n",
       "    </tr>\n",
       "    <tr>\n",
       "      <th>2007</th>\n",
       "      <td>21514.608081</td>\n",
       "      <td>110046.046614</td>\n",
       "      <td>8.105686</td>\n",
       "    </tr>\n",
       "    <tr>\n",
       "      <th>2008</th>\n",
       "      <td>17747.680871</td>\n",
       "      <td>75048.731338</td>\n",
       "      <td>8.185140</td>\n",
       "    </tr>\n",
       "    <tr>\n",
       "      <th>2009</th>\n",
       "      <td>28849.210832</td>\n",
       "      <td>119641.284779</td>\n",
       "      <td>7.852581</td>\n",
       "    </tr>\n",
       "    <tr>\n",
       "      <th>2010</th>\n",
       "      <td>14984.616961</td>\n",
       "      <td>73495.483359</td>\n",
       "      <td>6.978715</td>\n",
       "    </tr>\n",
       "    <tr>\n",
       "      <th>2011</th>\n",
       "      <td>24349.803623</td>\n",
       "      <td>108703.172277</td>\n",
       "      <td>6.570620</td>\n",
       "    </tr>\n",
       "    <tr>\n",
       "      <th>2012</th>\n",
       "      <td>25075.701063</td>\n",
       "      <td>110685.334405</td>\n",
       "      <td>5.519315</td>\n",
       "    </tr>\n",
       "    <tr>\n",
       "      <th>2013</th>\n",
       "      <td>16897.626657</td>\n",
       "      <td>90233.275846</td>\n",
       "      <td>4.867284</td>\n",
       "    </tr>\n",
       "    <tr>\n",
       "      <th>2014</th>\n",
       "      <td>14148.398052</td>\n",
       "      <td>49920.734861</td>\n",
       "      <td>4.653440</td>\n",
       "    </tr>\n",
       "    <tr>\n",
       "      <th>2015</th>\n",
       "      <td>11441.540077</td>\n",
       "      <td>39366.374353</td>\n",
       "      <td>4.582662</td>\n",
       "    </tr>\n",
       "  </tbody>\n",
       "</table>\n",
       "</div>"
      ],
      "text/plain": [
       "                annual_PV_prod           cost  cost_per_watt\n",
       "year_installed                                              \n",
       "2000               9648.058715   26887.374501       7.373135\n",
       "2001               3759.978726   21727.051619       8.461430\n",
       "2002               5263.941437   30182.117460       9.057615\n",
       "2003              16615.229699   65099.305866       8.160041\n",
       "2004               9742.638525   37177.775147       7.699935\n",
       "2005               9355.909203   39151.894453       7.499216\n",
       "2006              17003.221309  101232.221261       8.053195\n",
       "2007              21514.608081  110046.046614       8.105686\n",
       "2008              17747.680871   75048.731338       8.185140\n",
       "2009              28849.210832  119641.284779       7.852581\n",
       "2010              14984.616961   73495.483359       6.978715\n",
       "2011              24349.803623  108703.172277       6.570620\n",
       "2012              25075.701063  110685.334405       5.519315\n",
       "2013              16897.626657   90233.275846       4.867284\n",
       "2014              14148.398052   49920.734861       4.653440\n",
       "2015              11441.540077   39366.374353       4.582662"
      ]
     },
     "execution_count": 51,
     "metadata": {},
     "output_type": "execute_result"
    }
   ],
   "source": [
    "df_yearly_avg.iloc[4:,:]"
   ]
  },
  {
   "cell_type": "code",
   "execution_count": 56,
   "metadata": {},
   "outputs": [
    {
     "data": {
      "text/html": [
       "<iframe id=\"igraph\" scrolling=\"no\" style=\"border:none;\" seamless=\"seamless\" src=\"https://plot.ly/~ebaker12/26.embed\" height=\"525px\" width=\"100%\"></iframe>"
      ],
      "text/plain": [
       "<plotly.tools.PlotlyDisplay object>"
      ]
     },
     "execution_count": 56,
     "metadata": {},
     "output_type": "execute_result"
    }
   ],
   "source": [
    "# Create traces\n",
    "\n",
    "# cost_per_watt\n",
    "trace0 = go.Scatter(\n",
    "    x = list(df_yearly_avg.iloc[4:,:].index),\n",
    "    y = df_yearly_avg.iloc[4:,]['cost_per_watt'],\n",
    "    mode = 'lines+markers',\n",
    "    name = 'Output'\n",
    ")\n",
    "\n",
    "\n",
    "# output/installation_cost\n",
    "trace1 = go.Scatter(\n",
    "    x = list(df_yearly.iloc[1:,:].index),\n",
    "    y = df_yearly.iloc[1:,:]['efficiency'] * 30,\n",
    "    mode = 'lines+markers',\n",
    "    name = 'Efficiency'\n",
    ")\n",
    "\n",
    "data = [trace0, trace1]\n",
    "\n",
    "layout = go.Layout(title = 'Cost Per Watt and Efficiency Over Time',\n",
    "              yaxis = dict(zeroline = False),\n",
    "              xaxis = dict(zeroline = False)\n",
    "             )\n",
    "\n",
    "py.iplot(data, layout = layout, filename='cost_per_watt_efficiency_over_time')"
   ]
  },
  {
   "cell_type": "markdown",
   "metadata": {},
   "source": [
    "LINK TO GRAPH: https://plot.ly/~ebaker12/26/output-vs-efficiency/"
   ]
  },
  {
   "cell_type": "markdown",
   "metadata": {},
   "source": [
    "## Story:\n",
    "\n",
    "1.  Pretty clear trend that efficiency is going up and cost is coming down.\n",
    "2.  Looks like cost per watt is calculated from the same data as calculcatio for efficiency, given how they move together so clearly.\n",
    "3.  Given that efficiency and cost are so different now than they were ten years ago, we may want to limit our model to only include data from after 2013/14.  Could also just use date installed as an input to our eventual model, assuming these trends continue\n",
    "\n",
    "Would be interesting to factor in technology type, states, incentive programs to this."
   ]
  },
  {
   "cell_type": "code",
   "execution_count": null,
   "metadata": {
    "collapsed": true
   },
   "outputs": [],
   "source": []
  },
  {
   "cell_type": "markdown",
   "metadata": {},
   "source": [
    "# Comparing Reported Annual PV and Annual PV"
   ]
  },
  {
   "cell_type": "code",
   "execution_count": 69,
   "metadata": {
    "collapsed": true
   },
   "outputs": [],
   "source": [
    "# looks like these are very correlated, byt there are some situations where they differ quite a bit."
   ]
  },
  {
   "cell_type": "code",
   "execution_count": 68,
   "metadata": {},
   "outputs": [
    {
     "data": {
      "text/html": [
       "<div>\n",
       "<table border=\"1\" class=\"dataframe\">\n",
       "  <thead>\n",
       "    <tr style=\"text-align: right;\">\n",
       "      <th></th>\n",
       "      <th>reported_annual_energy_prod</th>\n",
       "      <th>annual_PV_prod</th>\n",
       "    </tr>\n",
       "  </thead>\n",
       "  <tbody>\n",
       "    <tr>\n",
       "      <th>reported_annual_energy_prod</th>\n",
       "      <td>1.000000</td>\n",
       "      <td>0.896673</td>\n",
       "    </tr>\n",
       "    <tr>\n",
       "      <th>annual_PV_prod</th>\n",
       "      <td>0.896673</td>\n",
       "      <td>1.000000</td>\n",
       "    </tr>\n",
       "  </tbody>\n",
       "</table>\n",
       "</div>"
      ],
      "text/plain": [
       "                             reported_annual_energy_prod  annual_PV_prod\n",
       "reported_annual_energy_prod                     1.000000        0.896673\n",
       "annual_PV_prod                                  0.896673        1.000000"
      ]
     },
     "execution_count": 68,
     "metadata": {},
     "output_type": "execute_result"
    }
   ],
   "source": [
    "df[['reported_annual_energy_prod', 'annual_PV_prod']].corr()\n"
   ]
  },
  {
   "cell_type": "code",
   "execution_count": 70,
   "metadata": {},
   "outputs": [
    {
     "data": {
      "text/plain": [
       "<matplotlib.collections.PathCollection at 0x13d8b9690>"
      ]
     },
     "execution_count": 70,
     "metadata": {},
     "output_type": "execute_result"
    },
    {
     "data": {
      "image/png": "[encoded data removed]",
      "text/plain": [
       "<matplotlib.figure.Figure at 0x13bc35610>"
      ]
     },
     "metadata": {},
     "output_type": "display_data"
    }
   ],
   "source": [
    "fig = plt.figure(figsize=(9,6))\n",
    "plt.scatter(df['reported_annual_energy_prod'], df['annual_PV_prod'])"
   ]
  },
  {
   "cell_type": "code",
   "execution_count": 16,
   "metadata": {},
   "outputs": [
    {
     "data": {
      "text/plain": [
       "<matplotlib.text.Text at 0x138049750>"
      ]
     },
     "execution_count": 16,
     "metadata": {},
     "output_type": "execute_result"
    },
    {
     "data": {
      "image/png": "[encoded data removed]",
      "text/plain": [
       "<matplotlib.figure.Figure at 0x127161950>"
      ]
     },
     "metadata": {},
     "output_type": "display_data"
    }
   ],
   "source": [
    "# limiting this a bit.\n",
    "\n",
    "# There are far more missing values on reported than the other, so considering the similarities\n",
    "# it seems fine to just go with annual_pv.\n",
    "\n",
    "fig= plt.figure(figsize=(9,6))\n",
    "ax = fig.add_subplot(1,1,1)\n",
    "ax.scatter(df['reported_annual_energy_prod'], df['annual_PV_prod'])\n",
    "ax.set_xlim(-1000000,10000000)\n",
    "ax.set_ylim(-1000000,10000000)\n",
    "ax.set_xlabel(\"reported_annual_energy_prod\")\n",
    "ax.set_ylabel(\"annual_PV_prod\")"
   ]
  },
  {
   "cell_type": "markdown",
   "metadata": {},
   "source": [
    "# Insolation with Cost_per_Watt"
   ]
  },
  {
   "cell_type": "code",
   "execution_count": 19,
   "metadata": {},
   "outputs": [
    {
     "data": {
      "text/plain": [
       "<matplotlib.text.Text at 0x13782ead0>"
      ]
     },
     "execution_count": 19,
     "metadata": {},
     "output_type": "execute_result"
    },
    {
     "data": {
      "image/png": "[encoded data removed]",
      "text/plain": [
       "<matplotlib.figure.Figure at 0x139248e10>"
      ]
     },
     "metadata": {},
     "output_type": "display_data"
    }
   ],
   "source": [
    "fig= plt.figure(figsize=(9,6))\n",
    "ax = fig.add_subplot(1,1,1)\n",
    "ax.scatter(df['annual_insolation'], df['cost_per_watt'], alpha=0.2)\n",
    "ax.set_xlabel(\"annual_insolation\")\n",
    "ax.set_ylabel(\"cost_per_watt\")\n"
   ]
  },
  {
   "cell_type": "markdown",
   "metadata": {},
   "source": [
    "my hypothesis here is that the more insolation, the cheaper the electricity.  It's hard to tell, but if anything\n",
    "it looks like there's the opposite relationship\n",
    "\n",
    "That being said, it's hard to get much from this."
   ]
  },
  {
   "cell_type": "markdown",
   "metadata": {},
   "source": [
    "# Correlations"
   ]
  },
  {
   "cell_type": "code",
   "execution_count": 27,
   "metadata": {
    "collapsed": true
   },
   "outputs": [],
   "source": [
    "# let's just look at the correlations with all of the numeric features, maybe something will pop out.\n",
    "# I'm particuarly curious if there are any that correlate with cost_per_watt.\n",
    "\n",
    "def correlation_heat_map(df):\n",
    "    corrs = df.corr()\n",
    "    \n",
    "    # set figure size\n",
    "    fig, ax = plt.subplots(figsize = (13, 8.5))\n",
    "    \n",
    "    # generate a mask for the upper triagle \n",
    "    mask = np.zeros_like(corrs, dtype=np.bool)\n",
    "    mask[np.triu_indices_from(mask)] = True\n",
    "    \n",
    "    #plot heatmap\n",
    "    ax = sns.heatmap(corrs, mask=mask, annot = True, cbar=False)\n",
    "    \n",
    "    #resize labels\n",
    "    ax.set_xticklabels(ax.xaxis.get_ticklabels(), fontsize=14, rotation=90)\n",
    "    ax.set_yticklabels(ax.yaxis.get_ticklabels(), fontsize=14, rotation=0)\n",
    "    \n",
    "    plt.show()"
   ]
  },
  {
   "cell_type": "code",
   "execution_count": 29,
   "metadata": {
    "collapsed": true
   },
   "outputs": [],
   "source": [
    "del(df['index'])\n",
    "del(df['level_0'])"
   ]
  },
  {
   "cell_type": "code",
   "execution_count": 30,
   "metadata": {},
   "outputs": [
    {
     "data": {
      "image/png": "[encoded data removed]",
      "text/plain": [
       "<matplotlib.figure.Figure at 0x1427d7950>"
      ]
     },
     "metadata": {},
     "output_type": "display_data"
    }
   ],
   "source": [
    "correlation_heat_map(df)"
   ]
  },
  {
   "cell_type": "markdown",
   "metadata": {},
   "source": [
    "### Takeaways:\n",
    "\n",
    "1. Size is directly correlated with sales tax, amount of energy and cost, which of course makes sense.\n",
    "2. There's a slight negative correlation with appraised and cost per watt, which indicates that perhaps being appraised yields cheaper energy.\n",
    "3. This is a little silly, but we see a very slight positive correlation with zipcode and cost_per_watt.  Higher zipcodes are generally on the west coast, so maybe there's more expensive energy on the west coast.  Will want to include geographic variables in the final model.\n",
    "4. There really ISN'T an obvious connection between cost_per_watt and insolation, which is one of my main thoughts going into this.  The insolation data in this data set isn't as granular as what I'm gathering, so it'll be interesting to see what we get with that data."
   ]
  },
  {
   "cell_type": "code",
   "execution_count": null,
   "metadata": {
    "collapsed": true
   },
   "outputs": [],
   "source": []
  }
 ],
 "metadata": {
  "kernelspec": {
   "display_name": "Python 3",
   "language": "python",
   "name": "python3"
  },
  "language_info": {
   "codemirror_mode": {
    "name": "ipython",
    "version": 3
   },
   "file_extension": ".py",
   "mimetype": "text/x-python",
   "name": "python",
   "nbconvert_exporter": "python",
   "pygments_lexer": "ipython3",
   "version": "3.6.6"
  }
 },
 "nbformat": 4,
 "nbformat_minor": 2
}
