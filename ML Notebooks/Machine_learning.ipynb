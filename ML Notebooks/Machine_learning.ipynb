{
 "cells": [
  {
   "cell_type": "markdown",
   "metadata": {},
   "source": [
    "# Machine Learning"
   ]
  },
  {
   "cell_type": "code",
   "execution_count": 1,
   "metadata": {},
   "outputs": [],
   "source": [
    "import sqlite3\n",
    "import pandas as pd\n",
    "import numpy as np\n",
    "\n",
    "conn = sqlite3.Connection(\"./capstone.sqlite\")\n",
    "\n",
    "df = pd.read_sql(\"SELECT * FROM open_pv_clean\", con=conn)"
   ]
  },
  {
   "cell_type": "code",
   "execution_count": 2,
   "metadata": {},
   "outputs": [],
   "source": [
    "import matplotlib.pyplot as ply\n",
    "import seaborn as sns\n",
    "import plotly.plotly as py"
   ]
  },
  {
   "cell_type": "markdown",
   "metadata": {},
   "source": [
    "## Incentive Programs\n",
    "\n",
    "I'd like to get down the number of incentive program names, similar to utility names."
   ]
  },
  {
   "cell_type": "code",
   "execution_count": 3,
   "metadata": {},
   "outputs": [
    {
     "data": {
      "text/plain": [
       "66"
      ]
     },
     "execution_count": 3,
     "metadata": {},
     "output_type": "execute_result"
    }
   ],
   "source": [
    "# it's not actually too bad, but maybe there's some mislabeling?\n",
    "\n",
    "len(df.incentive_prog_names.value_counts())"
   ]
  },
  {
   "cell_type": "code",
   "execution_count": 4,
   "metadata": {},
   "outputs": [
    {
     "data": {
      "text/plain": [
       "['Ajo Improvement Company',\n",
       " 'Ameren',\n",
       " 'Arizona Public Service',\n",
       " 'Arkansas State Energy Office',\n",
       " 'Austin Energy',\n",
       " 'Bear Valley Electric (California Center for Sustainable Energy)',\n",
       " 'CPS Energy',\n",
       " 'California Energy Commission (Emerging Renewables Program)',\n",
       " 'California Energy Commission (New Solar Homes Partnership)',\n",
       " 'California Public Utilities Commission (California Solar Initiative)',\n",
       " 'California Public Utilities Commission (Non-CSI Net Metered Systems)',\n",
       " 'California Public Utilities Commission (Self-Generation Incentive Program)',\n",
       " 'City of Palo Alto Utilities',\n",
       " 'Connecticut Clean Energy Finance and Investment Authority',\n",
       " 'Delaware Department of Natural Resources and Environmental Control',\n",
       " 'Duncan Valley Electric Cooperative',\n",
       " 'Efficiency Maine',\n",
       " 'El Paso Electric',\n",
       " 'Entergy',\n",
       " 'Florida Energy & Climate Commission',\n",
       " 'Gainesville Regional Utilities',\n",
       " 'Graham County Electric Cooperative',\n",
       " 'Illinois Department of Commerce & Economic Opportunity',\n",
       " 'Imperial Irrigation District',\n",
       " 'Kansas City Power & Light',\n",
       " 'Los Angeles Department of Water & Power',\n",
       " 'Maryland Energy Administration',\n",
       " 'Massachusetts Clean Energy Center',\n",
       " 'Massachusetts Department of Energy Resources',\n",
       " 'Minnesota Department of Commerce',\n",
       " 'Mohave Electric Cooperative',\n",
       " 'Morenci Water and Electric',\n",
       " 'NV Energy',\n",
       " 'Navopache Electric Cooperative',\n",
       " 'New Hampshire Public Utilities Commission',\n",
       " 'New Jersey Board of Public Utilities (CORE & REIP Programs)',\n",
       " 'New Jersey Board of Public Utilities (SREC Program)',\n",
       " 'New Mexico Energy, Minerals and Natural Resources Department',\n",
       " 'New York State Energy Research and Development Authority',\n",
       " 'Ohio Public Utilities Commission',\n",
       " 'Oncor Electric Delivery Company',\n",
       " 'Oregon Department of Energy',\n",
       " 'Orlando Utilities Commission',\n",
       " 'Pacific Power',\n",
       " 'Pacific Power (California Center for Sustainable Energy)',\n",
       " 'Pennsylvania Department of Environmental Protection',\n",
       " 'Pennsylvania Sustainable Development Fund',\n",
       " 'Rebuild a Greener San Diego (California Center for Sustainable Energy)',\n",
       " 'Rhode Island Office of Energy Resources',\n",
       " 'Rocky Mountain Power',\n",
       " 'Roseville Electric',\n",
       " 'Sacramento Municipal Utility District',\n",
       " 'Salt River Project',\n",
       " 'Sharyland Utilities',\n",
       " 'Southwestern Electric Power Company',\n",
       " 'Sulphur Springs Valley Electric Cooperative',\n",
       " 'Texas Central Company',\n",
       " 'Texas New Mexico Power Company',\n",
       " 'Texas North Company',\n",
       " 'Trico Electric Cooperative',\n",
       " 'Tucson Electric Power',\n",
       " 'UniSource Energy Services',\n",
       " 'Washington, DC Department of Energy & Environment',\n",
       " 'Washington, DC Public Service Commission',\n",
       " 'Wisconsin Focus on Energy',\n",
       " 'no_incentive_program']"
      ]
     },
     "execution_count": 4,
     "metadata": {},
     "output_type": "execute_result"
    }
   ],
   "source": [
    "# Doesn't look like there's much to be done here, just going to leave it be.\n",
    "\n",
    "incentive_progs = sorted(df.incentive_prog_names.unique())\n",
    "incentive_progs"
   ]
  },
  {
   "cell_type": "code",
   "execution_count": 5,
   "metadata": {},
   "outputs": [
    {
     "name": "stdout",
     "output_type": "stream",
     "text": [
      "<class 'pandas.core.frame.DataFrame'>\n",
      "RangeIndex: 1020710 entries, 0 to 1020709\n",
      "Data columns (total 33 columns):\n",
      "level_0                        1020710 non-null int64\n",
      "index                          1020710 non-null int64\n",
      "state                          1020710 non-null object\n",
      "date_installed                 1020710 non-null object\n",
      "incentive_prog_names           1020710 non-null object\n",
      "type                           1020710 non-null object\n",
      "size_kw                        1020710 non-null float64\n",
      "appraised                      1020710 non-null float64\n",
      "zipcode                        1020710 non-null float64\n",
      "install_type                   1020710 non-null object\n",
      "installer                      1020710 non-null object\n",
      "cost_per_watt                  763133 non-null float64\n",
      "cost                           1020710 non-null float64\n",
      "lbnl_tts                       1020710 non-null float64\n",
      "city                           799148 non-null object\n",
      "utility_clean                  1020710 non-null object\n",
      "tech_1                         580919 non-null object\n",
      "model1_clean                   580919 non-null object\n",
      "county                         1020710 non-null object\n",
      "annual_PV_prod                 787463 non-null float64\n",
      "annual_insolation              780969 non-null float64\n",
      "rebate                         1020710 non-null object\n",
      "sales_tax_cost                 355309 non-null float64\n",
      "tilt1                          383365 non-null float64\n",
      "tracking_type                  526058 non-null object\n",
      "azimuth1                       363281 non-null float64\n",
      "manufacturer                   231607 non-null object\n",
      "inv_man_clean                  49933 non-null object\n",
      "reported_annual_energy_prod    204429 non-null float64\n",
      "new_constr                     1020710 non-null float64\n",
      "tracking                       1020710 non-null float64\n",
      "3rdparty                       1020710 non-null float64\n",
      "bipv                           1020710 non-null int64\n",
      "dtypes: float64(15), int64(3), object(15)\n",
      "memory usage: 257.0+ MB\n"
     ]
    }
   ],
   "source": [
    "df.info()"
   ]
  },
  {
   "cell_type": "markdown",
   "metadata": {},
   "source": [
    "## Tracking + Tilt\n",
    "\n",
    "What is the tilt value for installations that have tracking?"
   ]
  },
  {
   "cell_type": "code",
   "execution_count": 6,
   "metadata": {},
   "outputs": [],
   "source": [
    "mask = df[df['tracking'] == 1]"
   ]
  },
  {
   "cell_type": "markdown",
   "metadata": {},
   "source": [
    "## Starting to Drop Columns and NAs to build Final Dataset.\n",
    "\n",
    "At this point it seems like I may have exhausted my ability to clean up this dataset much more.\n",
    "\n",
    "columns to include:\n",
    "\n",
    "- state                          \n",
    "- date_installed                 \n",
    "- incentive_prog_names           \n",
    "- type                          \n",
    "- size_kw                        \n",
    "- appraised                      \n",
    "- zipcode                        \n",
    "- install_type                   \n",
    "- installer                      \n",
    "- cost_per_watt \n",
    "- lbnl_tts                      \n",
    "- utility_clean                 \n",
    "- model1_clean                   \n",
    "- annual_PV_prod                 \n",
    "- annual_insolation              \n",
    "- tech_1                         \n",
    "- rebate                         \n",
    "- new_constr                     \n",
    "- tracking                       \n",
    "- 3rdparty                       \n",
    "- bipv                           "
   ]
  },
  {
   "cell_type": "code",
   "execution_count": 7,
   "metadata": {},
   "outputs": [],
   "source": [
    "df_final = df[['state', 'date_installed', 'incentive_prog_names', 'type', 'size_kw', 'appraised', 'install_type',\n",
    "              'installer', 'cost_per_watt', 'lbnl_tts', 'utility_clean', 'model1_clean', 'annual_PV_prod', \n",
    "              'annual_insolation', 'tech_1', 'rebate', 'new_constr', 'tracking', '3rdparty', 'bipv']]"
   ]
  },
  {
   "cell_type": "code",
   "execution_count": 8,
   "metadata": {},
   "outputs": [],
   "source": [
    "# dropping any row where we don't have cost per watt, given that's ultimately what I'm interesting in predicting.\n",
    "\n",
    "# It might actually be more interesting to look at predicting annual PV produced, but we can look into that later.\n",
    "\n",
    "df_final = df_final[df_final.cost_per_watt.notnull()]"
   ]
  },
  {
   "cell_type": "code",
   "execution_count": 9,
   "metadata": {},
   "outputs": [
    {
     "name": "stdout",
     "output_type": "stream",
     "text": [
      "<class 'pandas.core.frame.DataFrame'>\n",
      "Int64Index: 763133 entries, 0 to 1020709\n",
      "Data columns (total 20 columns):\n",
      "state                   763133 non-null object\n",
      "date_installed          763133 non-null object\n",
      "incentive_prog_names    763133 non-null object\n",
      "type                    763133 non-null object\n",
      "size_kw                 763133 non-null float64\n",
      "appraised               763133 non-null float64\n",
      "install_type            763133 non-null object\n",
      "installer               763133 non-null object\n",
      "cost_per_watt           763133 non-null float64\n",
      "lbnl_tts                763133 non-null float64\n",
      "utility_clean           763133 non-null object\n",
      "model1_clean            422387 non-null object\n",
      "annual_PV_prod          556526 non-null float64\n",
      "annual_insolation       550320 non-null float64\n",
      "tech_1                  422387 non-null object\n",
      "rebate                  763133 non-null object\n",
      "new_constr              763133 non-null float64\n",
      "tracking                763133 non-null float64\n",
      "3rdparty                763133 non-null float64\n",
      "bipv                    763133 non-null int64\n",
      "dtypes: float64(9), int64(1), object(10)\n",
      "memory usage: 122.3+ MB\n"
     ]
    }
   ],
   "source": [
    "# there are some tough calls to make here, to drop the columns with null values, or to drop a bunch of rows.\n",
    "# I could try training models both ways and see what happens.\n",
    "\n",
    "df_final.info() "
   ]
  },
  {
   "cell_type": "code",
   "execution_count": 10,
   "metadata": {},
   "outputs": [
    {
     "name": "stderr",
     "output_type": "stream",
     "text": [
      "C:\\Anaconda\\lib\\site-packages\\sklearn\\ensemble\\weight_boosting.py:29: DeprecationWarning:\n",
      "\n",
      "numpy.core.umath_tests is an internal NumPy module and should not be imported. It will be removed in a future NumPy release.\n",
      "\n"
     ]
    }
   ],
   "source": [
    "from sklearn.ensemble import RandomForestClassifier"
   ]
  },
  {
   "cell_type": "code",
   "execution_count": 11,
   "metadata": {},
   "outputs": [],
   "source": [
    "rand_for = RandomForestClassifier(max_features = 'auto', min_samples_split = 20)"
   ]
  },
  {
   "cell_type": "code",
   "execution_count": 12,
   "metadata": {},
   "outputs": [],
   "source": [
    "from sklearn.model_selection import train_test_split"
   ]
  },
  {
   "cell_type": "code",
   "execution_count": 13,
   "metadata": {},
   "outputs": [],
   "source": [
    "df_final.date_installed = pd.to_datetime(df_final.date_installed)\n"
   ]
  },
  {
   "cell_type": "code",
   "execution_count": 14,
   "metadata": {},
   "outputs": [],
   "source": [
    "df_final.date_installed = pd.to_numeric(df_final.date_installed)"
   ]
  },
  {
   "cell_type": "code",
   "execution_count": 15,
   "metadata": {},
   "outputs": [],
   "source": [
    "df_final.rename(columns = {'3rdparty': \"third_party\"}, inplace=True)"
   ]
  },
  {
   "cell_type": "code",
   "execution_count": 16,
   "metadata": {},
   "outputs": [],
   "source": [
    "import patsy\n",
    "\n",
    "formula = \"cost_per_watt ~ state + date_installed + incentive_prog_names + type + size_kw + appraised + install_type + installer + lbnl_tts + utility_clean + rebate + new_constr + tracking + third_party + bipv\""
   ]
  },
  {
   "cell_type": "code",
   "execution_count": 17,
   "metadata": {},
   "outputs": [
    {
     "ename": "MemoryError",
     "evalue": "",
     "output_type": "error",
     "traceback": [
      "\u001b[1;31m---------------------------------------------------------------------------\u001b[0m",
      "\u001b[1;31mMemoryError\u001b[0m                               Traceback (most recent call last)",
      "\u001b[1;32m<ipython-input-17-a57b6fa58439>\u001b[0m in \u001b[0;36m<module>\u001b[1;34m()\u001b[0m\n\u001b[1;32m----> 1\u001b[1;33m \u001b[0my\u001b[0m\u001b[1;33m,\u001b[0m \u001b[0mX\u001b[0m \u001b[1;33m=\u001b[0m \u001b[0mpatsy\u001b[0m\u001b[1;33m.\u001b[0m\u001b[0mdmatrices\u001b[0m\u001b[1;33m(\u001b[0m\u001b[0mformula\u001b[0m\u001b[1;33m,\u001b[0m \u001b[0mdf_final\u001b[0m\u001b[1;33m,\u001b[0m \u001b[0mreturn_type\u001b[0m \u001b[1;33m=\u001b[0m \u001b[1;34m'dataframe'\u001b[0m\u001b[1;33m)\u001b[0m\u001b[1;33m\u001b[0m\u001b[0m\n\u001b[0m",
      "\u001b[1;32mC:\\Anaconda\\lib\\site-packages\\patsy\\highlevel.py\u001b[0m in \u001b[0;36mdmatrices\u001b[1;34m(formula_like, data, eval_env, NA_action, return_type)\u001b[0m\n\u001b[0;32m    308\u001b[0m     \u001b[0meval_env\u001b[0m \u001b[1;33m=\u001b[0m \u001b[0mEvalEnvironment\u001b[0m\u001b[1;33m.\u001b[0m\u001b[0mcapture\u001b[0m\u001b[1;33m(\u001b[0m\u001b[0meval_env\u001b[0m\u001b[1;33m,\u001b[0m \u001b[0mreference\u001b[0m\u001b[1;33m=\u001b[0m\u001b[1;36m1\u001b[0m\u001b[1;33m)\u001b[0m\u001b[1;33m\u001b[0m\u001b[0m\n\u001b[0;32m    309\u001b[0m     (lhs, rhs) = _do_highlevel_design(formula_like, data, eval_env,\n\u001b[1;32m--> 310\u001b[1;33m                                       NA_action, return_type)\n\u001b[0m\u001b[0;32m    311\u001b[0m     \u001b[1;32mif\u001b[0m \u001b[0mlhs\u001b[0m\u001b[1;33m.\u001b[0m\u001b[0mshape\u001b[0m\u001b[1;33m[\u001b[0m\u001b[1;36m1\u001b[0m\u001b[1;33m]\u001b[0m \u001b[1;33m==\u001b[0m \u001b[1;36m0\u001b[0m\u001b[1;33m:\u001b[0m\u001b[1;33m\u001b[0m\u001b[0m\n\u001b[0;32m    312\u001b[0m         \u001b[1;32mraise\u001b[0m \u001b[0mPatsyError\u001b[0m\u001b[1;33m(\u001b[0m\u001b[1;34m\"model is missing required outcome variables\"\u001b[0m\u001b[1;33m)\u001b[0m\u001b[1;33m\u001b[0m\u001b[0m\n",
      "\u001b[1;32mC:\\Anaconda\\lib\\site-packages\\patsy\\highlevel.py\u001b[0m in \u001b[0;36m_do_highlevel_design\u001b[1;34m(formula_like, data, eval_env, NA_action, return_type)\u001b[0m\n\u001b[0;32m    163\u001b[0m         \u001b[1;32mreturn\u001b[0m \u001b[0miter\u001b[0m\u001b[1;33m(\u001b[0m\u001b[1;33m[\u001b[0m\u001b[0mdata\u001b[0m\u001b[1;33m]\u001b[0m\u001b[1;33m)\u001b[0m\u001b[1;33m\u001b[0m\u001b[0m\n\u001b[0;32m    164\u001b[0m     design_infos = _try_incr_builders(formula_like, data_iter_maker, eval_env,\n\u001b[1;32m--> 165\u001b[1;33m                                       NA_action)\n\u001b[0m\u001b[0;32m    166\u001b[0m     \u001b[1;32mif\u001b[0m \u001b[0mdesign_infos\u001b[0m \u001b[1;32mis\u001b[0m \u001b[1;32mnot\u001b[0m \u001b[1;32mNone\u001b[0m\u001b[1;33m:\u001b[0m\u001b[1;33m\u001b[0m\u001b[0m\n\u001b[0;32m    167\u001b[0m         return build_design_matrices(design_infos, data,\n",
      "\u001b[1;32mC:\\Anaconda\\lib\\site-packages\\patsy\\highlevel.py\u001b[0m in \u001b[0;36m_try_incr_builders\u001b[1;34m(formula_like, data_iter_maker, eval_env, NA_action)\u001b[0m\n\u001b[0;32m     68\u001b[0m                                       \u001b[0mdata_iter_maker\u001b[0m\u001b[1;33m,\u001b[0m\u001b[1;33m\u001b[0m\u001b[0m\n\u001b[0;32m     69\u001b[0m                                       \u001b[0meval_env\u001b[0m\u001b[1;33m,\u001b[0m\u001b[1;33m\u001b[0m\u001b[0m\n\u001b[1;32m---> 70\u001b[1;33m                                       NA_action)\n\u001b[0m\u001b[0;32m     71\u001b[0m     \u001b[1;32melse\u001b[0m\u001b[1;33m:\u001b[0m\u001b[1;33m\u001b[0m\u001b[0m\n\u001b[0;32m     72\u001b[0m         \u001b[1;32mreturn\u001b[0m \u001b[1;32mNone\u001b[0m\u001b[1;33m\u001b[0m\u001b[0m\n",
      "\u001b[1;32mC:\\Anaconda\\lib\\site-packages\\patsy\\build.py\u001b[0m in \u001b[0;36mdesign_matrix_builders\u001b[1;34m(termlists, data_iter_maker, eval_env, NA_action)\u001b[0m\n\u001b[0;32m    719\u001b[0m         term_to_subterm_infos = _make_subterm_infos(termlist,\n\u001b[0;32m    720\u001b[0m                                                     \u001b[0mnum_column_counts\u001b[0m\u001b[1;33m,\u001b[0m\u001b[1;33m\u001b[0m\u001b[0m\n\u001b[1;32m--> 721\u001b[1;33m                                                     cat_levels_contrasts)\n\u001b[0m\u001b[0;32m    722\u001b[0m         \u001b[1;32massert\u001b[0m \u001b[0misinstance\u001b[0m\u001b[1;33m(\u001b[0m\u001b[0mterm_to_subterm_infos\u001b[0m\u001b[1;33m,\u001b[0m \u001b[0mOrderedDict\u001b[0m\u001b[1;33m)\u001b[0m\u001b[1;33m\u001b[0m\u001b[0m\n\u001b[0;32m    723\u001b[0m         \u001b[1;32massert\u001b[0m \u001b[0mfrozenset\u001b[0m\u001b[1;33m(\u001b[0m\u001b[0mterm_to_subterm_infos\u001b[0m\u001b[1;33m)\u001b[0m \u001b[1;33m==\u001b[0m \u001b[0mfrozenset\u001b[0m\u001b[1;33m(\u001b[0m\u001b[0mtermlist\u001b[0m\u001b[1;33m)\u001b[0m\u001b[1;33m\u001b[0m\u001b[0m\n",
      "\u001b[1;32mC:\\Anaconda\\lib\\site-packages\\patsy\\build.py\u001b[0m in \u001b[0;36m_make_subterm_infos\u001b[1;34m(terms, num_column_counts, cat_levels_contrasts)\u001b[0m\n\u001b[0;32m    626\u001b[0m                         coded = code_contrast_matrix(factor_coding[factor],\n\u001b[0;32m    627\u001b[0m                                                      \u001b[0mlevels\u001b[0m\u001b[1;33m,\u001b[0m \u001b[0mcontrast\u001b[0m\u001b[1;33m,\u001b[0m\u001b[1;33m\u001b[0m\u001b[0m\n\u001b[1;32m--> 628\u001b[1;33m                                                      default=Treatment)\n\u001b[0m\u001b[0;32m    629\u001b[0m                         \u001b[0mcontrast_matrices\u001b[0m\u001b[1;33m[\u001b[0m\u001b[0mfactor\u001b[0m\u001b[1;33m]\u001b[0m \u001b[1;33m=\u001b[0m \u001b[0mcoded\u001b[0m\u001b[1;33m\u001b[0m\u001b[0m\n\u001b[0;32m    630\u001b[0m                         \u001b[0msubterm_columns\u001b[0m \u001b[1;33m*=\u001b[0m \u001b[0mcoded\u001b[0m\u001b[1;33m.\u001b[0m\u001b[0mmatrix\u001b[0m\u001b[1;33m.\u001b[0m\u001b[0mshape\u001b[0m\u001b[1;33m[\u001b[0m\u001b[1;36m1\u001b[0m\u001b[1;33m]\u001b[0m\u001b[1;33m\u001b[0m\u001b[0m\n",
      "\u001b[1;32mC:\\Anaconda\\lib\\site-packages\\patsy\\contrasts.py\u001b[0m in \u001b[0;36mcode_contrast_matrix\u001b[1;34m(intercept, levels, contrast, default)\u001b[0m\n\u001b[0;32m    600\u001b[0m         \u001b[1;32mreturn\u001b[0m \u001b[0mcontrast\u001b[0m\u001b[1;33m.\u001b[0m\u001b[0mcode_with_intercept\u001b[0m\u001b[1;33m(\u001b[0m\u001b[0mlevels\u001b[0m\u001b[1;33m)\u001b[0m\u001b[1;33m\u001b[0m\u001b[0m\n\u001b[0;32m    601\u001b[0m     \u001b[1;32melse\u001b[0m\u001b[1;33m:\u001b[0m\u001b[1;33m\u001b[0m\u001b[0m\n\u001b[1;32m--> 602\u001b[1;33m         \u001b[1;32mreturn\u001b[0m \u001b[0mcontrast\u001b[0m\u001b[1;33m.\u001b[0m\u001b[0mcode_without_intercept\u001b[0m\u001b[1;33m(\u001b[0m\u001b[0mlevels\u001b[0m\u001b[1;33m)\u001b[0m\u001b[1;33m\u001b[0m\u001b[0m\n\u001b[0m\u001b[0;32m    603\u001b[0m \u001b[1;33m\u001b[0m\u001b[0m\n",
      "\u001b[1;32mC:\\Anaconda\\lib\\site-packages\\patsy\\contrasts.py\u001b[0m in \u001b[0;36mcode_without_intercept\u001b[1;34m(self, levels)\u001b[0m\n\u001b[0;32m    184\u001b[0m         contrasts = np.vstack((eye[:reference, :],\n\u001b[0;32m    185\u001b[0m                                 \u001b[0mnp\u001b[0m\u001b[1;33m.\u001b[0m\u001b[0mzeros\u001b[0m\u001b[1;33m(\u001b[0m\u001b[1;33m(\u001b[0m\u001b[1;36m1\u001b[0m\u001b[1;33m,\u001b[0m \u001b[0mlen\u001b[0m\u001b[1;33m(\u001b[0m\u001b[0mlevels\u001b[0m\u001b[1;33m)\u001b[0m \u001b[1;33m-\u001b[0m \u001b[1;36m1\u001b[0m\u001b[1;33m)\u001b[0m\u001b[1;33m)\u001b[0m\u001b[1;33m,\u001b[0m\u001b[1;33m\u001b[0m\u001b[0m\n\u001b[1;32m--> 186\u001b[1;33m                                 eye[reference:, :]))\n\u001b[0m\u001b[0;32m    187\u001b[0m         \u001b[0mnames\u001b[0m \u001b[1;33m=\u001b[0m \u001b[0m_name_levels\u001b[0m\u001b[1;33m(\u001b[0m\u001b[1;34m\"T.\"\u001b[0m\u001b[1;33m,\u001b[0m \u001b[0mlevels\u001b[0m\u001b[1;33m[\u001b[0m\u001b[1;33m:\u001b[0m\u001b[0mreference\u001b[0m\u001b[1;33m]\u001b[0m \u001b[1;33m+\u001b[0m \u001b[0mlevels\u001b[0m\u001b[1;33m[\u001b[0m\u001b[0mreference\u001b[0m \u001b[1;33m+\u001b[0m \u001b[1;36m1\u001b[0m\u001b[1;33m:\u001b[0m\u001b[1;33m]\u001b[0m\u001b[1;33m)\u001b[0m\u001b[1;33m\u001b[0m\u001b[0m\n\u001b[0;32m    188\u001b[0m         \u001b[1;32mreturn\u001b[0m \u001b[0mContrastMatrix\u001b[0m\u001b[1;33m(\u001b[0m\u001b[0mcontrasts\u001b[0m\u001b[1;33m,\u001b[0m \u001b[0mnames\u001b[0m\u001b[1;33m)\u001b[0m\u001b[1;33m\u001b[0m\u001b[0m\n",
      "\u001b[1;32mC:\\Anaconda\\lib\\site-packages\\numpy\\core\\shape_base.py\u001b[0m in \u001b[0;36mvstack\u001b[1;34m(tup)\u001b[0m\n\u001b[0;32m    232\u001b[0m \u001b[1;33m\u001b[0m\u001b[0m\n\u001b[0;32m    233\u001b[0m     \"\"\"\n\u001b[1;32m--> 234\u001b[1;33m     \u001b[1;32mreturn\u001b[0m \u001b[0m_nx\u001b[0m\u001b[1;33m.\u001b[0m\u001b[0mconcatenate\u001b[0m\u001b[1;33m(\u001b[0m\u001b[1;33m[\u001b[0m\u001b[0matleast_2d\u001b[0m\u001b[1;33m(\u001b[0m\u001b[0m_m\u001b[0m\u001b[1;33m)\u001b[0m \u001b[1;32mfor\u001b[0m \u001b[0m_m\u001b[0m \u001b[1;32min\u001b[0m \u001b[0mtup\u001b[0m\u001b[1;33m]\u001b[0m\u001b[1;33m,\u001b[0m \u001b[1;36m0\u001b[0m\u001b[1;33m)\u001b[0m\u001b[1;33m\u001b[0m\u001b[0m\n\u001b[0m\u001b[0;32m    235\u001b[0m \u001b[1;33m\u001b[0m\u001b[0m\n\u001b[0;32m    236\u001b[0m \u001b[1;32mdef\u001b[0m \u001b[0mhstack\u001b[0m\u001b[1;33m(\u001b[0m\u001b[0mtup\u001b[0m\u001b[1;33m)\u001b[0m\u001b[1;33m:\u001b[0m\u001b[1;33m\u001b[0m\u001b[0m\n",
      "\u001b[1;31mMemoryError\u001b[0m: "
     ]
    }
   ],
   "source": [
    "y, X = patsy.dmatrices(formula, df_final, return_type = 'dataframe')"
   ]
  },
  {
   "cell_type": "code",
   "execution_count": null,
   "metadata": {},
   "outputs": [],
   "source": [
    "X_train, X_test, y_train, y_test = train_test_split(X, y)"
   ]
  },
  {
   "cell_type": "code",
   "execution_count": null,
   "metadata": {},
   "outputs": [],
   "source": []
  }
 ],
 "metadata": {
  "kernelspec": {
   "display_name": "Python 3",
   "language": "python",
   "name": "python3"
  },
  "language_info": {
   "codemirror_mode": {
    "name": "ipython",
    "version": 3
   },
   "file_extension": ".py",
   "mimetype": "text/x-python",
   "name": "python",
   "nbconvert_exporter": "python",
   "pygments_lexer": "ipython3",
   "version": "3.6.6"
  }
 },
 "nbformat": 4,
 "nbformat_minor": 2
}
