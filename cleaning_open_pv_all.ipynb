{
 "cells": [
  {
   "cell_type": "markdown",
   "metadata": {},
   "source": [
    "# Cleaning the Open PV Data Set\n",
    "\n",
    "Ultimately, it would be great to be able to merge in the zipcode NREL Solar to this, to use this to predict cost per watt and reported annual energy produced.  There's a ton of blank values, and this is self reported data, so it's probably going to require a LOT of cleaning."
   ]
  },
  {
   "cell_type": "code",
   "execution_count": 1,
   "metadata": {},
   "outputs": [],
   "source": [
    "import pandas as pd\n",
    "import numpy as np\n"
   ]
  },
  {
   "cell_type": "code",
   "execution_count": 2,
   "metadata": {},
   "outputs": [
    {
     "name": "stderr",
     "output_type": "stream",
     "text": [
      "C:\\Anaconda\\lib\\site-packages\\IPython\\core\\interactiveshell.py:2785: DtypeWarning: Columns (2,5,8,12,13,14,15,16,20,23,25,26,27,28,32,50) have mixed types. Specify dtype option on import or set low_memory=False.\n",
      "  interactivity=interactivity, compiler=compiler, result=result)\n"
     ]
    }
   ],
   "source": [
    "# loading in the open_pv_all data set\n",
    "\n",
    "df = pd.read_csv(\"./openpv_all.csv\")"
   ]
  },
  {
   "cell_type": "code",
   "execution_count": 3,
   "metadata": {},
   "outputs": [
    {
     "name": "stdout",
     "output_type": "stream",
     "text": [
      "<class 'pandas.core.frame.DataFrame'>\n",
      "RangeIndex: 1020715 entries, 0 to 1020714\n",
      "Data columns (total 81 columns):\n",
      "state                          1020715 non-null object\n",
      "date_installed                 1020710 non-null object\n",
      "incentive_prog_names           797958 non-null object\n",
      "type                           1020710 non-null object\n",
      "size_kw                        1020710 non-null float64\n",
      "appraised                      224036 non-null object\n",
      "zipcode                        1020710 non-null float64\n",
      "install_type                   978134 non-null object\n",
      "installer                      702647 non-null object\n",
      "cost_per_watt                  763133 non-null float64\n",
      "cost                           763294 non-null float64\n",
      "lbnl_tts_version_year          797958 non-null float64\n",
      "lbnl_tts                       797958 non-null object\n",
      "city                           799148 non-null object\n",
      "utility_clean                  792720 non-null object\n",
      "tech_1                         580919 non-null object\n",
      "model1_clean                   580919 non-null object\n",
      "county                         998652 non-null object\n",
      "annual_PV_prod                 780969 non-null float64\n",
      "annual_insolation              780969 non-null float64\n",
      "rebate                         386698 non-null object\n",
      "sales_tax_cost                 355309 non-null float64\n",
      "tilt1                          383365 non-null float64\n",
      "tracking_type                  526058 non-null object\n",
      "azimuth1                       363281 non-null float64\n",
      "manuf2_clean                   231607 non-null object\n",
      "manuf3_clean                   209653 non-null object\n",
      "manuf1_clean                   201121 non-null object\n",
      "inv_man_clean                  49933 non-null object\n",
      "reported_annual_energy_prod    204429 non-null float64\n",
      "incentivetype                  0 non-null float64\n",
      "year_app_implied               0 non-null float64\n",
      "year                           68 non-null object\n",
      "npv_fit_real                   0 non-null float64\n",
      "application_implied            0 non-null float64\n",
      "npv_pbi_real                   0 non-null float64\n",
      "other_incentive                0 non-null float64\n",
      "appraised_cluster              0 non-null float64\n",
      "inflation                      0 non-null float64\n",
      "other_incentive_real           0 non-null float64\n",
      "zip_available                  0 non-null float64\n",
      "cust_city                      0 non-null float64\n",
      "pbi                            0 non-null float64\n",
      "pbi_real                       0 non-null float64\n",
      "pbi_length                     5427 non-null float64\n",
      "application                    0 non-null float64\n",
      "fit_length                     0 non-null float64\n",
      "fit_rate                       0 non-null float64\n",
      "fit_payment                    0 non-null float64\n",
      "_3rdparty_implied              0 non-null float64\n",
      "utility                        2117 non-null object\n",
      "install_price_real_w           0 non-null float64\n",
      "install_price                  0 non-null float64\n",
      "installer_clean                0 non-null float64\n",
      "manuf1_                        0 non-null float64\n",
      "inverter_reported              0 non-null float64\n",
      "rebate_real                    0 non-null float64\n",
      "model1                         0 non-null float64\n",
      "_3rdparty                      0 non-null float64\n",
      "inv_model_reported             0 non-null float64\n",
      "microinv_solarhub              0 non-null float64\n",
      "bipv_3                         5255 non-null float64\n",
      "bipv_2                         5255 non-null float64\n",
      "bipv_1                         5255 non-null float64\n",
      "sales_tax_rate                 0 non-null float64\n",
      "sales_tax_cost_real            0 non-null float64\n",
      "bipv_all                       0 non-null float64\n",
      "thinfilm_all                   0 non-null float64\n",
      "china                          0 non-null float64\n",
      "sys_sizeac                     0 non-null float64\n",
      "pbi_rate                       0 non-null float64\n",
      "new_constr                     27106 non-null float64\n",
      "effic_1                        0 non-null float64\n",
      "cust_county                    0 non-null float64\n",
      "tracking                       1930 non-null float64\n",
      "inv_model_clean                0 non-null float64\n",
      "mod_cost_real                  0 non-null float64\n",
      "inv_cost_real                  0 non-null float64\n",
      "bos_powerclerk_real            0 non-null float64\n",
      "permitting_real                0 non-null float64\n",
      "3rdparty                       306993 non-null float64\n",
      "dtypes: float64(60), object(21)\n",
      "memory usage: 630.8+ MB\n"
     ]
    }
   ],
   "source": [
    "# There are a bunch of columns that are totally null, just going to get rid of all of those.\n",
    "\n",
    "df.info()"
   ]
  },
  {
   "cell_type": "code",
   "execution_count": 4,
   "metadata": {},
   "outputs": [],
   "source": [
    "# Getting rid of columns where there's no data\n",
    "\n",
    "# first getting a list all the column names where there's no data.\n",
    "\n",
    "non_null_cols = [col for col in df.columns if df[col].notnull().sum() != 0]"
   ]
  },
  {
   "cell_type": "code",
   "execution_count": 5,
   "metadata": {},
   "outputs": [],
   "source": [
    "# limiting the dataframe to just non-null columns\n",
    "\n",
    "df = df[non_null_cols]"
   ]
  },
  {
   "cell_type": "code",
   "execution_count": 6,
   "metadata": {},
   "outputs": [
    {
     "name": "stdout",
     "output_type": "stream",
     "text": [
      "<class 'pandas.core.frame.DataFrame'>\n",
      "RangeIndex: 1020715 entries, 0 to 1020714\n",
      "Data columns (total 39 columns):\n",
      "state                          1020715 non-null object\n",
      "date_installed                 1020710 non-null object\n",
      "incentive_prog_names           797958 non-null object\n",
      "type                           1020710 non-null object\n",
      "size_kw                        1020710 non-null float64\n",
      "appraised                      224036 non-null object\n",
      "zipcode                        1020710 non-null float64\n",
      "install_type                   978134 non-null object\n",
      "installer                      702647 non-null object\n",
      "cost_per_watt                  763133 non-null float64\n",
      "cost                           763294 non-null float64\n",
      "lbnl_tts_version_year          797958 non-null float64\n",
      "lbnl_tts                       797958 non-null object\n",
      "city                           799148 non-null object\n",
      "utility_clean                  792720 non-null object\n",
      "tech_1                         580919 non-null object\n",
      "model1_clean                   580919 non-null object\n",
      "county                         998652 non-null object\n",
      "annual_PV_prod                 780969 non-null float64\n",
      "annual_insolation              780969 non-null float64\n",
      "rebate                         386698 non-null object\n",
      "sales_tax_cost                 355309 non-null float64\n",
      "tilt1                          383365 non-null float64\n",
      "tracking_type                  526058 non-null object\n",
      "azimuth1                       363281 non-null float64\n",
      "manuf2_clean                   231607 non-null object\n",
      "manuf3_clean                   209653 non-null object\n",
      "manuf1_clean                   201121 non-null object\n",
      "inv_man_clean                  49933 non-null object\n",
      "reported_annual_energy_prod    204429 non-null float64\n",
      "year                           68 non-null object\n",
      "pbi_length                     5427 non-null float64\n",
      "utility                        2117 non-null object\n",
      "bipv_3                         5255 non-null float64\n",
      "bipv_2                         5255 non-null float64\n",
      "bipv_1                         5255 non-null float64\n",
      "new_constr                     27106 non-null float64\n",
      "tracking                       1930 non-null float64\n",
      "3rdparty                       306993 non-null float64\n",
      "dtypes: float64(18), object(21)\n",
      "memory usage: 303.7+ MB\n"
     ]
    }
   ],
   "source": [
    "# it worked!\n",
    "\n",
    "df.info()"
   ]
  },
  {
   "cell_type": "markdown",
   "metadata": {},
   "source": [
    "## Incentive Program Names\n",
    "\n",
    "\n",
    "These are probably pretty important to determining cost, so let's see if we can find some trend to impute it."
   ]
  },
  {
   "cell_type": "code",
   "execution_count": 7,
   "metadata": {},
   "outputs": [
    {
     "data": {
      "text/plain": [
       "California Public Utilities Commission (Non-CSI Net Metered Systems)          260940\n",
       "California Public Utilities Commission (California Solar Initiative)          148988\n",
       "New York State Energy Research and Development Authority                       44012\n",
       "Arizona Public Service                                                         40647\n",
       "Massachusetts Clean Energy Center                                              36810\n",
       "New Jersey Board of Public Utilities (SREC Program)                            34168\n",
       "California Energy Commission (Emerging Renewables Program)                     27952\n",
       "Massachusetts Department of Energy Resources                                   24828\n",
       "Los Angeles Department of Water & Power                                        19757\n",
       "California Energy Commission (New Solar Homes Partnership)                     17286\n",
       "Connecticut Clean Energy Finance and Investment Authority                      15746\n",
       "Salt River Project                                                             15275\n",
       "NV Energy                                                                      14530\n",
       "Sacramento Municipal Utility District                                          11694\n",
       "Tucson Electric Power                                                          10921\n",
       "New Jersey Board of Public Utilities (CORE & REIP Programs)                     8081\n",
       "Maryland Energy Administration                                                  7472\n",
       "Pennsylvania Department of Environmental Protection                             7033\n",
       "New Mexico Energy, Minerals and Natural Resources Department                    6527\n",
       "Austin Energy                                                                   4688\n",
       "Ameren                                                                          3650\n",
       "CPS Energy                                                                      3284\n",
       "Delaware Department of Natural Resources and Environmental Control              3022\n",
       "New Hampshire Public Utilities Commission                                       2909\n",
       "Imperial Irrigation District                                                    2333\n",
       "Wisconsin Focus on Energy                                                       2106\n",
       "Ohio Public Utilities Commission                                                1918\n",
       "UniSource Energy Services                                                       1827\n",
       "Oregon Department of Energy                                                     1637\n",
       "Kansas City Power & Light                                                       1517\n",
       "                                                                               ...  \n",
       "Minnesota Department of Commerce                                                1027\n",
       "Washington, DC Public Service Commission                                         953\n",
       "Oncor Electric Delivery Company                                                  904\n",
       "Washington, DC Department of Energy & Environment                                848\n",
       "City of Palo Alto Utilities                                                      823\n",
       "Pacific Power                                                                    698\n",
       "Efficiency Maine                                                                 551\n",
       "California Public Utilities Commission (Self-Generation Incentive Program)       544\n",
       "Rhode Island Office of Energy Resources                                          541\n",
       "Gainesville Regional Utilities                                                   478\n",
       "Mohave Electric Cooperative                                                      449\n",
       "Rocky Mountain Power                                                             430\n",
       "El Paso Electric                                                                 368\n",
       "Orlando Utilities Commission                                                     202\n",
       "Pennsylvania Sustainable Development Fund                                        200\n",
       "Pacific Power (California Center for Sustainable Energy)                         181\n",
       "Rebuild a Greener San Diego (California Center for Sustainable Energy)           152\n",
       "Texas Central Company                                                            146\n",
       "Navopache Electric Cooperative                                                   140\n",
       "Graham County Electric Cooperative                                               129\n",
       "Arkansas State Energy Office                                                      98\n",
       "Bear Valley Electric (California Center for Sustainable Energy)                   78\n",
       "Texas North Company                                                               74\n",
       "Entergy                                                                           57\n",
       "Southwestern Electric Power Company                                               39\n",
       "Texas New Mexico Power Company                                                    23\n",
       "Duncan Valley Electric Cooperative                                                 5\n",
       "Ajo Improvement Company                                                            3\n",
       "Morenci Water and Electric                                                         3\n",
       "Sharyland Utilities                                                                2\n",
       "Name: incentive_prog_names, Length: 65, dtype: int64"
      ]
     },
     "execution_count": 7,
     "metadata": {},
     "output_type": "execute_result"
    }
   ],
   "source": [
    "# There are a bunch of these incentive programs, which almost definitely have an influence on people's\n",
    "# eventual cost of solar.\n",
    "\n",
    "df['incentive_prog_names'].value_counts()"
   ]
  },
  {
   "cell_type": "code",
   "execution_count": 8,
   "metadata": {},
   "outputs": [],
   "source": [
    "# let's look at average cost_per_watt for these different commisions:\n",
    "\n",
    "import seaborn as sns\n",
    "import matplotlib.pyplot as plt\n",
    "\n",
    "%matplotlib inline"
   ]
  },
  {
   "cell_type": "code",
   "execution_count": 9,
   "metadata": {},
   "outputs": [
    {
     "name": "stderr",
     "output_type": "stream",
     "text": [
      "C:\\Anaconda\\lib\\site-packages\\scipy\\stats\\stats.py:1713: FutureWarning: Using a non-tuple sequence for multidimensional indexing is deprecated; use `arr[tuple(seq)]` instead of `arr[seq]`. In the future this will be interpreted as an array index, `arr[np.array(seq)]`, which will result either in an error or a different result.\n",
      "  return np.add.reduce(sorted[indexer] * weights, axis=axis) / sumval\n"
     ]
    },
    {
     "data": {
      "text/plain": [
       "<matplotlib.axes._subplots.AxesSubplot at 0x1c7173a5080>"
      ]
     },
     "execution_count": 9,
     "metadata": {},
     "output_type": "execute_result"
    },
    {
     "data": {
      "image/png": "[encoded data removed]",
      "text/plain": [
       "<Figure size 432x720 with 1 Axes>"
      ]
     },
     "metadata": {
      "needs_background": "light"
     },
     "output_type": "display_data"
    }
   ],
   "source": [
    "# There's definitely some variance around this, and it looks like within each of these the variance or price\n",
    "# is pretty tight.\n",
    "\n",
    "fig = plt.figure(figsize=(6,10))\n",
    "\n",
    "sns.barplot(x=df[\"cost_per_watt\"], y=df[\"incentive_prog_names\"], orient = 'h')"
   ]
  },
  {
   "cell_type": "code",
   "execution_count": 10,
   "metadata": {},
   "outputs": [],
   "source": [
    "# Either values where the incentive is plank means they didn't have an incentive program, or that \n",
    "# it isn't listed.  If it's the latter, maybe we can impute it.\n",
    "\n",
    "null_incentive_state = df.loc[df['incentive_prog_names'].isnull(), :].groupby(\"state\").size()"
   ]
  },
  {
   "cell_type": "code",
   "execution_count": 11,
   "metadata": {},
   "outputs": [
    {
     "data": {
      "text/plain": [
       "<zip at 0x1c7183383c8>"
      ]
     },
     "execution_count": 11,
     "metadata": {},
     "output_type": "execute_result"
    }
   ],
   "source": [
    "# looking at proportion by state with no incentive program compared to with incentive program may provide some clues\n",
    "\n",
    "zip(null_incentive_state.sort_values(ascending=False).index, sorted(null_incentive_state/sum(null_incentive_state), reverse=True))"
   ]
  },
  {
   "cell_type": "code",
   "execution_count": 12,
   "metadata": {},
   "outputs": [
    {
     "data": {
      "text/plain": [
       "<zip at 0x1c7182b9f08>"
      ]
     },
     "execution_count": 12,
     "metadata": {},
     "output_type": "execute_result"
    }
   ],
   "source": [
    "notnull_incentive_state = df.loc[df['incentive_prog_names'].notnull(), :].groupby(\"state\").size()\n",
    "\n",
    "zip(notnull_incentive_state.sort_values(ascending=False).index, sorted(notnull_incentive_state/sum(notnull_incentive_state), reverse=True))"
   ]
  },
  {
   "cell_type": "code",
   "execution_count": 13,
   "metadata": {},
   "outputs": [],
   "source": [
    "# looks like some states don't even show up, probably safe to assume that those states just don't have \n",
    "# incentive programs.\n",
    "\n",
    "# given that, it seems like it may be difficult to distingush between cases where there was no incentive program\n",
    "# available and where it was unreported.\n",
    "\n",
    "df['incentive_prog_names'].fillna(\"no_incentive_program\", inplace=True)"
   ]
  },
  {
   "cell_type": "markdown",
   "metadata": {},
   "source": [
    "## Utility_Clean\n",
    "\n",
    "I have a hunch that this is going to be heavily linked to states and/or counties, we can probably impute this by grabbing the mode value from each state or county.  Let's explore."
   ]
  },
  {
   "cell_type": "code",
   "execution_count": 14,
   "metadata": {},
   "outputs": [
    {
     "name": "stdout",
     "output_type": "stream",
     "text": [
      "<class 'pandas.core.frame.DataFrame'>\n",
      "RangeIndex: 1020715 entries, 0 to 1020714\n",
      "Data columns (total 39 columns):\n",
      "state                          1020715 non-null object\n",
      "date_installed                 1020710 non-null object\n",
      "incentive_prog_names           1020715 non-null object\n",
      "type                           1020710 non-null object\n",
      "size_kw                        1020710 non-null float64\n",
      "appraised                      224036 non-null object\n",
      "zipcode                        1020710 non-null float64\n",
      "install_type                   978134 non-null object\n",
      "installer                      702647 non-null object\n",
      "cost_per_watt                  763133 non-null float64\n",
      "cost                           763294 non-null float64\n",
      "lbnl_tts_version_year          797958 non-null float64\n",
      "lbnl_tts                       797958 non-null object\n",
      "city                           799148 non-null object\n",
      "utility_clean                  792720 non-null object\n",
      "tech_1                         580919 non-null object\n",
      "model1_clean                   580919 non-null object\n",
      "county                         998652 non-null object\n",
      "annual_PV_prod                 780969 non-null float64\n",
      "annual_insolation              780969 non-null float64\n",
      "rebate                         386698 non-null object\n",
      "sales_tax_cost                 355309 non-null float64\n",
      "tilt1                          383365 non-null float64\n",
      "tracking_type                  526058 non-null object\n",
      "azimuth1                       363281 non-null float64\n",
      "manuf2_clean                   231607 non-null object\n",
      "manuf3_clean                   209653 non-null object\n",
      "manuf1_clean                   201121 non-null object\n",
      "inv_man_clean                  49933 non-null object\n",
      "reported_annual_energy_prod    204429 non-null float64\n",
      "year                           68 non-null object\n",
      "pbi_length                     5427 non-null float64\n",
      "utility                        2117 non-null object\n",
      "bipv_3                         5255 non-null float64\n",
      "bipv_2                         5255 non-null float64\n",
      "bipv_1                         5255 non-null float64\n",
      "new_constr                     27106 non-null float64\n",
      "tracking                       1930 non-null float64\n",
      "3rdparty                       306993 non-null float64\n",
      "dtypes: float64(18), object(21)\n",
      "memory usage: 303.7+ MB\n"
     ]
    }
   ],
   "source": [
    "df.info()"
   ]
  },
  {
   "cell_type": "code",
   "execution_count": 15,
   "metadata": {},
   "outputs": [
    {
     "data": {
      "text/plain": [
       "state  utility_clean                              \n",
       "AR     Carroll Electric Coop Corp                         1\n",
       "       Carroll Electric Coop Corp - (AR)                  1\n",
       "       Entergy Arkansas Inc                              61\n",
       "       Oklahoma Gas & Electric Co                         3\n",
       "       Southwestern Electric Power Co                    32\n",
       "AZ     Ajo Improvement Company                            3\n",
       "       Arizona Public Service                         40647\n",
       "       Duncan Valley Electric Cooperative                 5\n",
       "       Graham County Electric Cooperative               129\n",
       "       Mohave Electric Cooperative                      449\n",
       "       Morenci Water and Electric                         3\n",
       "       Navopache Electric Cooperative                   140\n",
       "       Salt River Project                             15275\n",
       "       Sulphur Springs Valley Electric Cooperative     1266\n",
       "       Trico Electric Cooperative                      1357\n",
       "       Tucson Electric Power                          10921\n",
       "       UniSource Energy Services                       1827\n",
       "CA     Bear Valley Electric Service                      96\n",
       "       Burbank Water and Power                            5\n",
       "       City of Palo Alto Utilities                      823\n",
       "       City of Riverside                                  2\n",
       "       City of San Francisco                              3\n",
       "       Constellation                                      1\n",
       "       DIRECT ACCESS - APS                                1\n",
       "       Hetch Hetchy                                       4\n",
       "       Imperial Irrigation District                    2334\n",
       "       LADWP                                              6\n",
       "       Lodi Electric                                      2\n",
       "       Los Angeles Department of Water & Power        19757\n",
       "       Pacific Gas & Electric Co                       2664\n",
       "                                                      ...  \n",
       "PA     PPL Electric Utilities                          2433\n",
       "       PPL Electric Utilities Corp                      381\n",
       "       Penn Power                                        38\n",
       "       PennPwr                                            1\n",
       "       Pennsylvania Electric Co                          54\n",
       "       Pennsylvania Power Co                              2\n",
       "       UGI                                               55\n",
       "       Wellsboro                                          3\n",
       "       West Penn Power Co                                39\n",
       "       West Penn Power Company                          110\n",
       "RI     National Grid                                    541\n",
       "TX     Austin Energy                                   4688\n",
       "       CPS Energy                                      3284\n",
       "       El Paso Electric                                 368\n",
       "       Entergy                                           57\n",
       "       Oncor Electric Delivery Company                  904\n",
       "       Sharyland Utilities                                2\n",
       "       Southwestern Electric Power Company               39\n",
       "       Texas Central Company                            146\n",
       "       Texas New Mexico Power Company                    23\n",
       "       Texas North Company                               74\n",
       "UT     Rocky Mountain Power                             430\n",
       "WI     Barron Electric Coop                              13\n",
       "       Northern States Power Co                         134\n",
       "       Northern States Power Co - Wisconsin              26\n",
       "       Superior Water and Light Co                        6\n",
       "       Superior Water, Light and Power Co                 1\n",
       "       Wisconsin Electric Power Co                     1231\n",
       "       Wisconsin Power & Light Co                       343\n",
       "       Wisconsin Public Service Corp                    172\n",
       "Length: 396, dtype: int64"
      ]
     },
     "execution_count": 15,
     "metadata": {},
     "output_type": "execute_result"
    }
   ],
   "source": [
    "# We can already see that there's quite a bit of deviation within states, for instance a lof of CA is on \n",
    "# Los Angeles Department of Water & Power, and a lot is on Pacific Gas & Electric Co, maybe county will help.\n",
    "\n",
    "df.groupby(['state', 'utility_clean']).size()"
   ]
  },
  {
   "cell_type": "code",
   "execution_count": 16,
   "metadata": {},
   "outputs": [
    {
     "data": {
      "text/html": [
       "<div>\n",
       "<style scoped>\n",
       "    .dataframe tbody tr th:only-of-type {\n",
       "        vertical-align: middle;\n",
       "    }\n",
       "\n",
       "    .dataframe tbody tr th {\n",
       "        vertical-align: top;\n",
       "    }\n",
       "\n",
       "    .dataframe thead th {\n",
       "        text-align: right;\n",
       "    }\n",
       "</style>\n",
       "<table border=\"1\" class=\"dataframe\">\n",
       "  <thead>\n",
       "    <tr style=\"text-align: right;\">\n",
       "      <th></th>\n",
       "      <th>state</th>\n",
       "      <th>county</th>\n",
       "      <th>utility_clean</th>\n",
       "      <th>0</th>\n",
       "    </tr>\n",
       "  </thead>\n",
       "  <tbody>\n",
       "    <tr>\n",
       "      <th>0</th>\n",
       "      <td>AR</td>\n",
       "      <td>Benton</td>\n",
       "      <td>Southwestern Electric Power Co</td>\n",
       "      <td>6</td>\n",
       "    </tr>\n",
       "    <tr>\n",
       "      <th>1</th>\n",
       "      <td>AR</td>\n",
       "      <td>Boone</td>\n",
       "      <td>Entergy Arkansas Inc</td>\n",
       "      <td>3</td>\n",
       "    </tr>\n",
       "    <tr>\n",
       "      <th>2</th>\n",
       "      <td>AR</td>\n",
       "      <td>Carroll</td>\n",
       "      <td>Entergy Arkansas Inc</td>\n",
       "      <td>4</td>\n",
       "    </tr>\n",
       "    <tr>\n",
       "      <th>3</th>\n",
       "      <td>AR</td>\n",
       "      <td>Chicot</td>\n",
       "      <td>Entergy Arkansas Inc</td>\n",
       "      <td>1</td>\n",
       "    </tr>\n",
       "    <tr>\n",
       "      <th>4</th>\n",
       "      <td>AR</td>\n",
       "      <td>Crawford</td>\n",
       "      <td>Oklahoma Gas &amp; Electric Co</td>\n",
       "      <td>2</td>\n",
       "    </tr>\n",
       "    <tr>\n",
       "      <th>5</th>\n",
       "      <td>AR</td>\n",
       "      <td>Faulkner</td>\n",
       "      <td>Entergy Arkansas Inc</td>\n",
       "      <td>3</td>\n",
       "    </tr>\n",
       "    <tr>\n",
       "      <th>6</th>\n",
       "      <td>AR</td>\n",
       "      <td>Franklin</td>\n",
       "      <td>Oklahoma Gas &amp; Electric Co</td>\n",
       "      <td>1</td>\n",
       "    </tr>\n",
       "    <tr>\n",
       "      <th>7</th>\n",
       "      <td>AR</td>\n",
       "      <td>Garland</td>\n",
       "      <td>Entergy Arkansas Inc</td>\n",
       "      <td>4</td>\n",
       "    </tr>\n",
       "    <tr>\n",
       "      <th>8</th>\n",
       "      <td>AR</td>\n",
       "      <td>Grant</td>\n",
       "      <td>Entergy Arkansas Inc</td>\n",
       "      <td>2</td>\n",
       "    </tr>\n",
       "    <tr>\n",
       "      <th>9</th>\n",
       "      <td>AR</td>\n",
       "      <td>Hempstead</td>\n",
       "      <td>Entergy Arkansas Inc</td>\n",
       "      <td>1</td>\n",
       "    </tr>\n",
       "    <tr>\n",
       "      <th>10</th>\n",
       "      <td>AR</td>\n",
       "      <td>Independence</td>\n",
       "      <td>Entergy Arkansas Inc</td>\n",
       "      <td>1</td>\n",
       "    </tr>\n",
       "    <tr>\n",
       "      <th>11</th>\n",
       "      <td>AR</td>\n",
       "      <td>Lincoln</td>\n",
       "      <td>Entergy Arkansas Inc</td>\n",
       "      <td>1</td>\n",
       "    </tr>\n",
       "    <tr>\n",
       "      <th>12</th>\n",
       "      <td>AR</td>\n",
       "      <td>Logan</td>\n",
       "      <td>Entergy Arkansas Inc</td>\n",
       "      <td>2</td>\n",
       "    </tr>\n",
       "    <tr>\n",
       "      <th>13</th>\n",
       "      <td>AR</td>\n",
       "      <td>Madison</td>\n",
       "      <td>Carroll Electric Coop Corp</td>\n",
       "      <td>1</td>\n",
       "    </tr>\n",
       "    <tr>\n",
       "      <th>14</th>\n",
       "      <td>AR</td>\n",
       "      <td>Madison</td>\n",
       "      <td>Carroll Electric Coop Corp - (AR)</td>\n",
       "      <td>1</td>\n",
       "    </tr>\n",
       "    <tr>\n",
       "      <th>15</th>\n",
       "      <td>AR</td>\n",
       "      <td>Marion</td>\n",
       "      <td>Entergy Arkansas Inc</td>\n",
       "      <td>1</td>\n",
       "    </tr>\n",
       "    <tr>\n",
       "      <th>16</th>\n",
       "      <td>AR</td>\n",
       "      <td>Newton</td>\n",
       "      <td>Entergy Arkansas Inc</td>\n",
       "      <td>4</td>\n",
       "    </tr>\n",
       "    <tr>\n",
       "      <th>17</th>\n",
       "      <td>AR</td>\n",
       "      <td>Pike</td>\n",
       "      <td>Entergy Arkansas Inc</td>\n",
       "      <td>1</td>\n",
       "    </tr>\n",
       "    <tr>\n",
       "      <th>18</th>\n",
       "      <td>AR</td>\n",
       "      <td>Polk</td>\n",
       "      <td>Southwestern Electric Power Co</td>\n",
       "      <td>6</td>\n",
       "    </tr>\n",
       "    <tr>\n",
       "      <th>19</th>\n",
       "      <td>AR</td>\n",
       "      <td>Pope</td>\n",
       "      <td>Entergy Arkansas Inc</td>\n",
       "      <td>1</td>\n",
       "    </tr>\n",
       "    <tr>\n",
       "      <th>20</th>\n",
       "      <td>AR</td>\n",
       "      <td>Pulaski</td>\n",
       "      <td>Entergy Arkansas Inc</td>\n",
       "      <td>13</td>\n",
       "    </tr>\n",
       "    <tr>\n",
       "      <th>21</th>\n",
       "      <td>AR</td>\n",
       "      <td>Saline</td>\n",
       "      <td>Entergy Arkansas Inc</td>\n",
       "      <td>14</td>\n",
       "    </tr>\n",
       "    <tr>\n",
       "      <th>22</th>\n",
       "      <td>AR</td>\n",
       "      <td>Searcy</td>\n",
       "      <td>Entergy Arkansas Inc</td>\n",
       "      <td>2</td>\n",
       "    </tr>\n",
       "    <tr>\n",
       "      <th>23</th>\n",
       "      <td>AR</td>\n",
       "      <td>Sebastian</td>\n",
       "      <td>Southwestern Electric Power Co</td>\n",
       "      <td>2</td>\n",
       "    </tr>\n",
       "    <tr>\n",
       "      <th>24</th>\n",
       "      <td>AR</td>\n",
       "      <td>St Francis</td>\n",
       "      <td>Entergy Arkansas Inc</td>\n",
       "      <td>1</td>\n",
       "    </tr>\n",
       "    <tr>\n",
       "      <th>25</th>\n",
       "      <td>AR</td>\n",
       "      <td>Union</td>\n",
       "      <td>Entergy Arkansas Inc</td>\n",
       "      <td>1</td>\n",
       "    </tr>\n",
       "    <tr>\n",
       "      <th>26</th>\n",
       "      <td>AR</td>\n",
       "      <td>Van Buren</td>\n",
       "      <td>Entergy Arkansas Inc</td>\n",
       "      <td>1</td>\n",
       "    </tr>\n",
       "    <tr>\n",
       "      <th>27</th>\n",
       "      <td>AR</td>\n",
       "      <td>Washington</td>\n",
       "      <td>Southwestern Electric Power Co</td>\n",
       "      <td>18</td>\n",
       "    </tr>\n",
       "    <tr>\n",
       "      <th>28</th>\n",
       "      <td>AZ</td>\n",
       "      <td>Apache</td>\n",
       "      <td>Arizona Public Service</td>\n",
       "      <td>10</td>\n",
       "    </tr>\n",
       "    <tr>\n",
       "      <th>29</th>\n",
       "      <td>AZ</td>\n",
       "      <td>Apache</td>\n",
       "      <td>Navopache Electric Cooperative</td>\n",
       "      <td>60</td>\n",
       "    </tr>\n",
       "    <tr>\n",
       "      <th>...</th>\n",
       "      <td>...</td>\n",
       "      <td>...</td>\n",
       "      <td>...</td>\n",
       "      <td>...</td>\n",
       "    </tr>\n",
       "    <tr>\n",
       "      <th>1922</th>\n",
       "      <td>WI</td>\n",
       "      <td>Outagamie</td>\n",
       "      <td>Wisconsin Electric Power Co</td>\n",
       "      <td>62</td>\n",
       "    </tr>\n",
       "    <tr>\n",
       "      <th>1923</th>\n",
       "      <td>WI</td>\n",
       "      <td>Ozaukee</td>\n",
       "      <td>Wisconsin Electric Power Co</td>\n",
       "      <td>29</td>\n",
       "    </tr>\n",
       "    <tr>\n",
       "      <th>1924</th>\n",
       "      <td>WI</td>\n",
       "      <td>Pepin</td>\n",
       "      <td>Northern States Power Co</td>\n",
       "      <td>3</td>\n",
       "    </tr>\n",
       "    <tr>\n",
       "      <th>1925</th>\n",
       "      <td>WI</td>\n",
       "      <td>Pierce</td>\n",
       "      <td>Northern States Power Co</td>\n",
       "      <td>24</td>\n",
       "    </tr>\n",
       "    <tr>\n",
       "      <th>1926</th>\n",
       "      <td>WI</td>\n",
       "      <td>Pierce</td>\n",
       "      <td>Northern States Power Co - Wisconsin</td>\n",
       "      <td>6</td>\n",
       "    </tr>\n",
       "    <tr>\n",
       "      <th>1927</th>\n",
       "      <td>WI</td>\n",
       "      <td>Polk</td>\n",
       "      <td>Northern States Power Co</td>\n",
       "      <td>12</td>\n",
       "    </tr>\n",
       "    <tr>\n",
       "      <th>1928</th>\n",
       "      <td>WI</td>\n",
       "      <td>Polk</td>\n",
       "      <td>Northern States Power Co - Wisconsin</td>\n",
       "      <td>1</td>\n",
       "    </tr>\n",
       "    <tr>\n",
       "      <th>1929</th>\n",
       "      <td>WI</td>\n",
       "      <td>Portage</td>\n",
       "      <td>Wisconsin Power &amp; Light Co</td>\n",
       "      <td>30</td>\n",
       "    </tr>\n",
       "    <tr>\n",
       "      <th>1930</th>\n",
       "      <td>WI</td>\n",
       "      <td>Portage</td>\n",
       "      <td>Wisconsin Public Service Corp</td>\n",
       "      <td>79</td>\n",
       "    </tr>\n",
       "    <tr>\n",
       "      <th>1931</th>\n",
       "      <td>WI</td>\n",
       "      <td>Price</td>\n",
       "      <td>Northern States Power Co</td>\n",
       "      <td>6</td>\n",
       "    </tr>\n",
       "    <tr>\n",
       "      <th>1932</th>\n",
       "      <td>WI</td>\n",
       "      <td>Racine</td>\n",
       "      <td>Wisconsin Electric Power Co</td>\n",
       "      <td>30</td>\n",
       "    </tr>\n",
       "    <tr>\n",
       "      <th>1933</th>\n",
       "      <td>WI</td>\n",
       "      <td>Richland</td>\n",
       "      <td>Wisconsin Power &amp; Light Co</td>\n",
       "      <td>16</td>\n",
       "    </tr>\n",
       "    <tr>\n",
       "      <th>1934</th>\n",
       "      <td>WI</td>\n",
       "      <td>Rock</td>\n",
       "      <td>Wisconsin Electric Power Co</td>\n",
       "      <td>26</td>\n",
       "    </tr>\n",
       "    <tr>\n",
       "      <th>1935</th>\n",
       "      <td>WI</td>\n",
       "      <td>Sauk</td>\n",
       "      <td>Wisconsin Power &amp; Light Co</td>\n",
       "      <td>57</td>\n",
       "    </tr>\n",
       "    <tr>\n",
       "      <th>1936</th>\n",
       "      <td>WI</td>\n",
       "      <td>Sawyer</td>\n",
       "      <td>Northern States Power Co</td>\n",
       "      <td>5</td>\n",
       "    </tr>\n",
       "    <tr>\n",
       "      <th>1937</th>\n",
       "      <td>WI</td>\n",
       "      <td>Shawano</td>\n",
       "      <td>Wisconsin Electric Power Co</td>\n",
       "      <td>7</td>\n",
       "    </tr>\n",
       "    <tr>\n",
       "      <th>1938</th>\n",
       "      <td>WI</td>\n",
       "      <td>Sheboygan</td>\n",
       "      <td>Wisconsin Electric Power Co</td>\n",
       "      <td>30</td>\n",
       "    </tr>\n",
       "    <tr>\n",
       "      <th>1939</th>\n",
       "      <td>WI</td>\n",
       "      <td>St Croix</td>\n",
       "      <td>Northern States Power Co</td>\n",
       "      <td>5</td>\n",
       "    </tr>\n",
       "    <tr>\n",
       "      <th>1940</th>\n",
       "      <td>WI</td>\n",
       "      <td>Taylor</td>\n",
       "      <td>Northern States Power Co</td>\n",
       "      <td>8</td>\n",
       "    </tr>\n",
       "    <tr>\n",
       "      <th>1941</th>\n",
       "      <td>WI</td>\n",
       "      <td>Trempealeau</td>\n",
       "      <td>Northern States Power Co</td>\n",
       "      <td>2</td>\n",
       "    </tr>\n",
       "    <tr>\n",
       "      <th>1942</th>\n",
       "      <td>WI</td>\n",
       "      <td>Vernon</td>\n",
       "      <td>Wisconsin Power &amp; Light Co</td>\n",
       "      <td>29</td>\n",
       "    </tr>\n",
       "    <tr>\n",
       "      <th>1943</th>\n",
       "      <td>WI</td>\n",
       "      <td>Vilas</td>\n",
       "      <td>Wisconsin Electric Power Co</td>\n",
       "      <td>10</td>\n",
       "    </tr>\n",
       "    <tr>\n",
       "      <th>1944</th>\n",
       "      <td>WI</td>\n",
       "      <td>Walworth</td>\n",
       "      <td>Wisconsin Electric Power Co</td>\n",
       "      <td>57</td>\n",
       "    </tr>\n",
       "    <tr>\n",
       "      <th>1945</th>\n",
       "      <td>WI</td>\n",
       "      <td>Washburn</td>\n",
       "      <td>Northern States Power Co</td>\n",
       "      <td>2</td>\n",
       "    </tr>\n",
       "    <tr>\n",
       "      <th>1946</th>\n",
       "      <td>WI</td>\n",
       "      <td>Washington</td>\n",
       "      <td>Wisconsin Electric Power Co</td>\n",
       "      <td>29</td>\n",
       "    </tr>\n",
       "    <tr>\n",
       "      <th>1947</th>\n",
       "      <td>WI</td>\n",
       "      <td>Waukesha</td>\n",
       "      <td>Wisconsin Electric Power Co</td>\n",
       "      <td>86</td>\n",
       "    </tr>\n",
       "    <tr>\n",
       "      <th>1948</th>\n",
       "      <td>WI</td>\n",
       "      <td>Waupaca</td>\n",
       "      <td>Wisconsin Electric Power Co</td>\n",
       "      <td>51</td>\n",
       "    </tr>\n",
       "    <tr>\n",
       "      <th>1949</th>\n",
       "      <td>WI</td>\n",
       "      <td>Waushara</td>\n",
       "      <td>Wisconsin Electric Power Co</td>\n",
       "      <td>12</td>\n",
       "    </tr>\n",
       "    <tr>\n",
       "      <th>1950</th>\n",
       "      <td>WI</td>\n",
       "      <td>Winnebago</td>\n",
       "      <td>Wisconsin Electric Power Co</td>\n",
       "      <td>32</td>\n",
       "    </tr>\n",
       "    <tr>\n",
       "      <th>1951</th>\n",
       "      <td>WI</td>\n",
       "      <td>Wood</td>\n",
       "      <td>Wisconsin Power &amp; Light Co</td>\n",
       "      <td>34</td>\n",
       "    </tr>\n",
       "  </tbody>\n",
       "</table>\n",
       "<p>1952 rows × 4 columns</p>\n",
       "</div>"
      ],
      "text/plain": [
       "     state        county                         utility_clean   0\n",
       "0       AR        Benton        Southwestern Electric Power Co   6\n",
       "1       AR         Boone                  Entergy Arkansas Inc   3\n",
       "2       AR       Carroll                  Entergy Arkansas Inc   4\n",
       "3       AR        Chicot                  Entergy Arkansas Inc   1\n",
       "4       AR      Crawford            Oklahoma Gas & Electric Co   2\n",
       "5       AR      Faulkner                  Entergy Arkansas Inc   3\n",
       "6       AR      Franklin            Oklahoma Gas & Electric Co   1\n",
       "7       AR       Garland                  Entergy Arkansas Inc   4\n",
       "8       AR         Grant                  Entergy Arkansas Inc   2\n",
       "9       AR     Hempstead                  Entergy Arkansas Inc   1\n",
       "10      AR  Independence                  Entergy Arkansas Inc   1\n",
       "11      AR       Lincoln                  Entergy Arkansas Inc   1\n",
       "12      AR         Logan                  Entergy Arkansas Inc   2\n",
       "13      AR       Madison            Carroll Electric Coop Corp   1\n",
       "14      AR       Madison     Carroll Electric Coop Corp - (AR)   1\n",
       "15      AR        Marion                  Entergy Arkansas Inc   1\n",
       "16      AR        Newton                  Entergy Arkansas Inc   4\n",
       "17      AR          Pike                  Entergy Arkansas Inc   1\n",
       "18      AR          Polk        Southwestern Electric Power Co   6\n",
       "19      AR          Pope                  Entergy Arkansas Inc   1\n",
       "20      AR       Pulaski                  Entergy Arkansas Inc  13\n",
       "21      AR        Saline                  Entergy Arkansas Inc  14\n",
       "22      AR        Searcy                  Entergy Arkansas Inc   2\n",
       "23      AR     Sebastian        Southwestern Electric Power Co   2\n",
       "24      AR    St Francis                  Entergy Arkansas Inc   1\n",
       "25      AR         Union                  Entergy Arkansas Inc   1\n",
       "26      AR     Van Buren                  Entergy Arkansas Inc   1\n",
       "27      AR    Washington        Southwestern Electric Power Co  18\n",
       "28      AZ        Apache                Arizona Public Service  10\n",
       "29      AZ        Apache        Navopache Electric Cooperative  60\n",
       "...    ...           ...                                   ...  ..\n",
       "1922    WI     Outagamie           Wisconsin Electric Power Co  62\n",
       "1923    WI       Ozaukee           Wisconsin Electric Power Co  29\n",
       "1924    WI         Pepin              Northern States Power Co   3\n",
       "1925    WI        Pierce              Northern States Power Co  24\n",
       "1926    WI        Pierce  Northern States Power Co - Wisconsin   6\n",
       "1927    WI          Polk              Northern States Power Co  12\n",
       "1928    WI          Polk  Northern States Power Co - Wisconsin   1\n",
       "1929    WI       Portage            Wisconsin Power & Light Co  30\n",
       "1930    WI       Portage         Wisconsin Public Service Corp  79\n",
       "1931    WI         Price              Northern States Power Co   6\n",
       "1932    WI        Racine           Wisconsin Electric Power Co  30\n",
       "1933    WI      Richland            Wisconsin Power & Light Co  16\n",
       "1934    WI          Rock           Wisconsin Electric Power Co  26\n",
       "1935    WI          Sauk            Wisconsin Power & Light Co  57\n",
       "1936    WI        Sawyer              Northern States Power Co   5\n",
       "1937    WI       Shawano           Wisconsin Electric Power Co   7\n",
       "1938    WI     Sheboygan           Wisconsin Electric Power Co  30\n",
       "1939    WI      St Croix              Northern States Power Co   5\n",
       "1940    WI        Taylor              Northern States Power Co   8\n",
       "1941    WI   Trempealeau              Northern States Power Co   2\n",
       "1942    WI        Vernon            Wisconsin Power & Light Co  29\n",
       "1943    WI         Vilas           Wisconsin Electric Power Co  10\n",
       "1944    WI      Walworth           Wisconsin Electric Power Co  57\n",
       "1945    WI      Washburn              Northern States Power Co   2\n",
       "1946    WI    Washington           Wisconsin Electric Power Co  29\n",
       "1947    WI      Waukesha           Wisconsin Electric Power Co  86\n",
       "1948    WI       Waupaca           Wisconsin Electric Power Co  51\n",
       "1949    WI      Waushara           Wisconsin Electric Power Co  12\n",
       "1950    WI     Winnebago           Wisconsin Electric Power Co  32\n",
       "1951    WI          Wood            Wisconsin Power & Light Co  34\n",
       "\n",
       "[1952 rows x 4 columns]"
      ]
     },
     "execution_count": 16,
     "metadata": {},
     "output_type": "execute_result"
    }
   ],
   "source": [
    "# this looks quite a bit better, looks like in most counties there's only one or maybe 2 utilities that\n",
    "# people are on.\n",
    "\n",
    "county_utilities = pd.DataFrame(df.groupby(['state', 'county', 'utility_clean']).size()).reset_index()\n",
    "county_utilities"
   ]
  },
  {
   "cell_type": "code",
   "execution_count": 17,
   "metadata": {},
   "outputs": [
    {
     "data": {
      "text/html": [
       "<div>\n",
       "<style scoped>\n",
       "    .dataframe tbody tr th:only-of-type {\n",
       "        vertical-align: middle;\n",
       "    }\n",
       "\n",
       "    .dataframe tbody tr th {\n",
       "        vertical-align: top;\n",
       "    }\n",
       "\n",
       "    .dataframe thead th {\n",
       "        text-align: right;\n",
       "    }\n",
       "</style>\n",
       "<table border=\"1\" class=\"dataframe\">\n",
       "  <thead>\n",
       "    <tr style=\"text-align: right;\">\n",
       "      <th></th>\n",
       "      <th>state</th>\n",
       "      <th>county</th>\n",
       "      <th>utility_clean</th>\n",
       "      <th>0</th>\n",
       "    </tr>\n",
       "  </thead>\n",
       "  <tbody>\n",
       "    <tr>\n",
       "      <th>71</th>\n",
       "      <td>CA</td>\n",
       "      <td>Alameda</td>\n",
       "      <td>Pacific Gas &amp; Electric Co</td>\n",
       "      <td>191</td>\n",
       "    </tr>\n",
       "    <tr>\n",
       "      <th>72</th>\n",
       "      <td>CA</td>\n",
       "      <td>Alameda</td>\n",
       "      <td>Pacific Gas &amp; Electric Company</td>\n",
       "      <td>16285</td>\n",
       "    </tr>\n",
       "    <tr>\n",
       "      <th>73</th>\n",
       "      <td>CA</td>\n",
       "      <td>Alameda</td>\n",
       "      <td>Port of Oakland</td>\n",
       "      <td>1</td>\n",
       "    </tr>\n",
       "    <tr>\n",
       "      <th>74</th>\n",
       "      <td>CA</td>\n",
       "      <td>Alameda</td>\n",
       "      <td>Southern California Edison</td>\n",
       "      <td>5</td>\n",
       "    </tr>\n",
       "    <tr>\n",
       "      <th>75</th>\n",
       "      <td>CA</td>\n",
       "      <td>Amador</td>\n",
       "      <td>Pacific Gas &amp; Electric Co</td>\n",
       "      <td>1</td>\n",
       "    </tr>\n",
       "    <tr>\n",
       "      <th>76</th>\n",
       "      <td>CA</td>\n",
       "      <td>Amador</td>\n",
       "      <td>Pacific Gas &amp; Electric Company</td>\n",
       "      <td>663</td>\n",
       "    </tr>\n",
       "    <tr>\n",
       "      <th>77</th>\n",
       "      <td>CA</td>\n",
       "      <td>Butte</td>\n",
       "      <td>Pacific Gas &amp; Electric Co</td>\n",
       "      <td>76</td>\n",
       "    </tr>\n",
       "    <tr>\n",
       "      <th>78</th>\n",
       "      <td>CA</td>\n",
       "      <td>Butte</td>\n",
       "      <td>Pacific Gas &amp; Electric Company</td>\n",
       "      <td>5383</td>\n",
       "    </tr>\n",
       "    <tr>\n",
       "      <th>79</th>\n",
       "      <td>CA</td>\n",
       "      <td>Butte</td>\n",
       "      <td>Southern California Edison</td>\n",
       "      <td>1</td>\n",
       "    </tr>\n",
       "    <tr>\n",
       "      <th>80</th>\n",
       "      <td>CA</td>\n",
       "      <td>Calaveras</td>\n",
       "      <td>Pacific Gas &amp; Electric Company</td>\n",
       "      <td>1047</td>\n",
       "    </tr>\n",
       "    <tr>\n",
       "      <th>81</th>\n",
       "      <td>CA</td>\n",
       "      <td>Colusa</td>\n",
       "      <td>Pacific Gas &amp; Electric Company</td>\n",
       "      <td>460</td>\n",
       "    </tr>\n",
       "    <tr>\n",
       "      <th>82</th>\n",
       "      <td>CA</td>\n",
       "      <td>Contra Costa</td>\n",
       "      <td>Pacific Gas &amp; Electric Co</td>\n",
       "      <td>181</td>\n",
       "    </tr>\n",
       "    <tr>\n",
       "      <th>83</th>\n",
       "      <td>CA</td>\n",
       "      <td>Contra Costa</td>\n",
       "      <td>Pacific Gas &amp; Electric Company</td>\n",
       "      <td>20441</td>\n",
       "    </tr>\n",
       "    <tr>\n",
       "      <th>84</th>\n",
       "      <td>CA</td>\n",
       "      <td>Contra Costa</td>\n",
       "      <td>Southern California Edison</td>\n",
       "      <td>3</td>\n",
       "    </tr>\n",
       "    <tr>\n",
       "      <th>85</th>\n",
       "      <td>CA</td>\n",
       "      <td>Del Norte</td>\n",
       "      <td>Pacific Power &amp; Light Company</td>\n",
       "      <td>8</td>\n",
       "    </tr>\n",
       "    <tr>\n",
       "      <th>86</th>\n",
       "      <td>CA</td>\n",
       "      <td>El Dorado</td>\n",
       "      <td>Pacific Gas &amp; Electric Company</td>\n",
       "      <td>5541</td>\n",
       "    </tr>\n",
       "    <tr>\n",
       "      <th>87</th>\n",
       "      <td>CA</td>\n",
       "      <td>El Dorado</td>\n",
       "      <td>Sacramento Municipal Utility District</td>\n",
       "      <td>1</td>\n",
       "    </tr>\n",
       "    <tr>\n",
       "      <th>88</th>\n",
       "      <td>CA</td>\n",
       "      <td>El Dorado</td>\n",
       "      <td>San Diego Gas &amp; Electric Company</td>\n",
       "      <td>1</td>\n",
       "    </tr>\n",
       "    <tr>\n",
       "      <th>89</th>\n",
       "      <td>CA</td>\n",
       "      <td>Fresno</td>\n",
       "      <td>DIRECT ACCESS - APS</td>\n",
       "      <td>1</td>\n",
       "    </tr>\n",
       "    <tr>\n",
       "      <th>90</th>\n",
       "      <td>CA</td>\n",
       "      <td>Fresno</td>\n",
       "      <td>Pacific Gas &amp; Electric Co</td>\n",
       "      <td>251</td>\n",
       "    </tr>\n",
       "    <tr>\n",
       "      <th>91</th>\n",
       "      <td>CA</td>\n",
       "      <td>Fresno</td>\n",
       "      <td>Pacific Gas &amp; Electric Company</td>\n",
       "      <td>20245</td>\n",
       "    </tr>\n",
       "    <tr>\n",
       "      <th>92</th>\n",
       "      <td>CA</td>\n",
       "      <td>Fresno</td>\n",
       "      <td>San Diego Gas &amp; Electric Company</td>\n",
       "      <td>1</td>\n",
       "    </tr>\n",
       "    <tr>\n",
       "      <th>93</th>\n",
       "      <td>CA</td>\n",
       "      <td>Fresno</td>\n",
       "      <td>Southern California Edison</td>\n",
       "      <td>14</td>\n",
       "    </tr>\n",
       "    <tr>\n",
       "      <th>94</th>\n",
       "      <td>CA</td>\n",
       "      <td>Fresno</td>\n",
       "      <td>Southern California Edison Co</td>\n",
       "      <td>45</td>\n",
       "    </tr>\n",
       "    <tr>\n",
       "      <th>95</th>\n",
       "      <td>CA</td>\n",
       "      <td>Glenn</td>\n",
       "      <td>Pacific Gas &amp; Electric Co</td>\n",
       "      <td>75</td>\n",
       "    </tr>\n",
       "    <tr>\n",
       "      <th>96</th>\n",
       "      <td>CA</td>\n",
       "      <td>Glenn</td>\n",
       "      <td>Pacific Gas &amp; Electric Company</td>\n",
       "      <td>955</td>\n",
       "    </tr>\n",
       "    <tr>\n",
       "      <th>97</th>\n",
       "      <td>CA</td>\n",
       "      <td>Humboldt</td>\n",
       "      <td>Pacific Gas &amp; Electric Co</td>\n",
       "      <td>41</td>\n",
       "    </tr>\n",
       "    <tr>\n",
       "      <th>98</th>\n",
       "      <td>CA</td>\n",
       "      <td>Humboldt</td>\n",
       "      <td>Pacific Gas &amp; Electric Company</td>\n",
       "      <td>795</td>\n",
       "    </tr>\n",
       "    <tr>\n",
       "      <th>99</th>\n",
       "      <td>CA</td>\n",
       "      <td>Humboldt</td>\n",
       "      <td>San Diego Gas &amp; Electric Company</td>\n",
       "      <td>1</td>\n",
       "    </tr>\n",
       "    <tr>\n",
       "      <th>100</th>\n",
       "      <td>CA</td>\n",
       "      <td>Humboldt</td>\n",
       "      <td>Southern California Edison</td>\n",
       "      <td>3</td>\n",
       "    </tr>\n",
       "    <tr>\n",
       "      <th>...</th>\n",
       "      <td>...</td>\n",
       "      <td>...</td>\n",
       "      <td>...</td>\n",
       "      <td>...</td>\n",
       "    </tr>\n",
       "    <tr>\n",
       "      <th>222</th>\n",
       "      <td>CA</td>\n",
       "      <td>Solano</td>\n",
       "      <td>Pacific Gas &amp; Electric Co</td>\n",
       "      <td>15</td>\n",
       "    </tr>\n",
       "    <tr>\n",
       "      <th>223</th>\n",
       "      <td>CA</td>\n",
       "      <td>Solano</td>\n",
       "      <td>Pacific Gas &amp; Electric Company</td>\n",
       "      <td>7570</td>\n",
       "    </tr>\n",
       "    <tr>\n",
       "      <th>224</th>\n",
       "      <td>CA</td>\n",
       "      <td>Solano</td>\n",
       "      <td>Southern California Edison</td>\n",
       "      <td>2</td>\n",
       "    </tr>\n",
       "    <tr>\n",
       "      <th>225</th>\n",
       "      <td>CA</td>\n",
       "      <td>Sonoma</td>\n",
       "      <td>Pacific Gas &amp; Electric Co</td>\n",
       "      <td>54</td>\n",
       "    </tr>\n",
       "    <tr>\n",
       "      <th>226</th>\n",
       "      <td>CA</td>\n",
       "      <td>Sonoma</td>\n",
       "      <td>Pacific Gas &amp; Electric Company</td>\n",
       "      <td>9657</td>\n",
       "    </tr>\n",
       "    <tr>\n",
       "      <th>227</th>\n",
       "      <td>CA</td>\n",
       "      <td>Stanislaus</td>\n",
       "      <td>Pacific Gas &amp; Electric Co</td>\n",
       "      <td>1</td>\n",
       "    </tr>\n",
       "    <tr>\n",
       "      <th>228</th>\n",
       "      <td>CA</td>\n",
       "      <td>Stanislaus</td>\n",
       "      <td>Pacific Gas &amp; Electric Company</td>\n",
       "      <td>1324</td>\n",
       "    </tr>\n",
       "    <tr>\n",
       "      <th>229</th>\n",
       "      <td>CA</td>\n",
       "      <td>Sutter</td>\n",
       "      <td>Pacific Gas &amp; Electric Co</td>\n",
       "      <td>16</td>\n",
       "    </tr>\n",
       "    <tr>\n",
       "      <th>230</th>\n",
       "      <td>CA</td>\n",
       "      <td>Sutter</td>\n",
       "      <td>Pacific Gas &amp; Electric Company</td>\n",
       "      <td>2376</td>\n",
       "    </tr>\n",
       "    <tr>\n",
       "      <th>231</th>\n",
       "      <td>CA</td>\n",
       "      <td>Sutter</td>\n",
       "      <td>Southern California Edison</td>\n",
       "      <td>1</td>\n",
       "    </tr>\n",
       "    <tr>\n",
       "      <th>232</th>\n",
       "      <td>CA</td>\n",
       "      <td>Tehama</td>\n",
       "      <td>Pacific Gas &amp; Electric Co</td>\n",
       "      <td>99</td>\n",
       "    </tr>\n",
       "    <tr>\n",
       "      <th>233</th>\n",
       "      <td>CA</td>\n",
       "      <td>Tehama</td>\n",
       "      <td>Pacific Gas &amp; Electric Company</td>\n",
       "      <td>1611</td>\n",
       "    </tr>\n",
       "    <tr>\n",
       "      <th>234</th>\n",
       "      <td>CA</td>\n",
       "      <td>Tehama</td>\n",
       "      <td>Southern California Edison</td>\n",
       "      <td>1</td>\n",
       "    </tr>\n",
       "    <tr>\n",
       "      <th>235</th>\n",
       "      <td>CA</td>\n",
       "      <td>Trinity</td>\n",
       "      <td>Pacific Gas &amp; Electric Company</td>\n",
       "      <td>11</td>\n",
       "    </tr>\n",
       "    <tr>\n",
       "      <th>236</th>\n",
       "      <td>CA</td>\n",
       "      <td>Tulare</td>\n",
       "      <td>Pacific Gas &amp; Electric Co</td>\n",
       "      <td>293</td>\n",
       "    </tr>\n",
       "    <tr>\n",
       "      <th>237</th>\n",
       "      <td>CA</td>\n",
       "      <td>Tulare</td>\n",
       "      <td>Pacific Gas &amp; Electric Company</td>\n",
       "      <td>555</td>\n",
       "    </tr>\n",
       "    <tr>\n",
       "      <th>238</th>\n",
       "      <td>CA</td>\n",
       "      <td>Tulare</td>\n",
       "      <td>San Diego Gas &amp; Electric Company</td>\n",
       "      <td>1</td>\n",
       "    </tr>\n",
       "    <tr>\n",
       "      <th>239</th>\n",
       "      <td>CA</td>\n",
       "      <td>Tulare</td>\n",
       "      <td>Southern California Edison</td>\n",
       "      <td>6803</td>\n",
       "    </tr>\n",
       "    <tr>\n",
       "      <th>240</th>\n",
       "      <td>CA</td>\n",
       "      <td>Tulare</td>\n",
       "      <td>Southern California Edison Co</td>\n",
       "      <td>243</td>\n",
       "    </tr>\n",
       "    <tr>\n",
       "      <th>241</th>\n",
       "      <td>CA</td>\n",
       "      <td>Tuolumne</td>\n",
       "      <td>Pacific Gas &amp; Electric Company</td>\n",
       "      <td>596</td>\n",
       "    </tr>\n",
       "    <tr>\n",
       "      <th>242</th>\n",
       "      <td>CA</td>\n",
       "      <td>Ventura</td>\n",
       "      <td>Los Angeles Department of Water &amp; Power</td>\n",
       "      <td>1</td>\n",
       "    </tr>\n",
       "    <tr>\n",
       "      <th>243</th>\n",
       "      <td>CA</td>\n",
       "      <td>Ventura</td>\n",
       "      <td>Pacific Gas &amp; Electric Company</td>\n",
       "      <td>7</td>\n",
       "    </tr>\n",
       "    <tr>\n",
       "      <th>244</th>\n",
       "      <td>CA</td>\n",
       "      <td>Ventura</td>\n",
       "      <td>San Diego Gas &amp; Electric Company</td>\n",
       "      <td>1</td>\n",
       "    </tr>\n",
       "    <tr>\n",
       "      <th>245</th>\n",
       "      <td>CA</td>\n",
       "      <td>Ventura</td>\n",
       "      <td>Southern California Edison</td>\n",
       "      <td>11672</td>\n",
       "    </tr>\n",
       "    <tr>\n",
       "      <th>246</th>\n",
       "      <td>CA</td>\n",
       "      <td>Ventura</td>\n",
       "      <td>Southern California Edison Co</td>\n",
       "      <td>211</td>\n",
       "    </tr>\n",
       "    <tr>\n",
       "      <th>247</th>\n",
       "      <td>CA</td>\n",
       "      <td>Yolo</td>\n",
       "      <td>Pacific Gas &amp; Electric Co</td>\n",
       "      <td>24</td>\n",
       "    </tr>\n",
       "    <tr>\n",
       "      <th>248</th>\n",
       "      <td>CA</td>\n",
       "      <td>Yolo</td>\n",
       "      <td>Pacific Gas &amp; Electric Company</td>\n",
       "      <td>5572</td>\n",
       "    </tr>\n",
       "    <tr>\n",
       "      <th>249</th>\n",
       "      <td>CA</td>\n",
       "      <td>Yolo</td>\n",
       "      <td>Sacramento Municipal Utility District</td>\n",
       "      <td>1</td>\n",
       "    </tr>\n",
       "    <tr>\n",
       "      <th>250</th>\n",
       "      <td>CA</td>\n",
       "      <td>Yuba</td>\n",
       "      <td>Pacific Gas &amp; Electric Co</td>\n",
       "      <td>3</td>\n",
       "    </tr>\n",
       "    <tr>\n",
       "      <th>251</th>\n",
       "      <td>CA</td>\n",
       "      <td>Yuba</td>\n",
       "      <td>Pacific Gas &amp; Electric Company</td>\n",
       "      <td>1466</td>\n",
       "    </tr>\n",
       "  </tbody>\n",
       "</table>\n",
       "<p>181 rows × 4 columns</p>\n",
       "</div>"
      ],
      "text/plain": [
       "    state        county                            utility_clean      0\n",
       "71     CA       Alameda                Pacific Gas & Electric Co    191\n",
       "72     CA       Alameda           Pacific Gas & Electric Company  16285\n",
       "73     CA       Alameda                          Port of Oakland      1\n",
       "74     CA       Alameda               Southern California Edison      5\n",
       "75     CA        Amador                Pacific Gas & Electric Co      1\n",
       "76     CA        Amador           Pacific Gas & Electric Company    663\n",
       "77     CA         Butte                Pacific Gas & Electric Co     76\n",
       "78     CA         Butte           Pacific Gas & Electric Company   5383\n",
       "79     CA         Butte               Southern California Edison      1\n",
       "80     CA     Calaveras           Pacific Gas & Electric Company   1047\n",
       "81     CA        Colusa           Pacific Gas & Electric Company    460\n",
       "82     CA  Contra Costa                Pacific Gas & Electric Co    181\n",
       "83     CA  Contra Costa           Pacific Gas & Electric Company  20441\n",
       "84     CA  Contra Costa               Southern California Edison      3\n",
       "85     CA     Del Norte            Pacific Power & Light Company      8\n",
       "86     CA     El Dorado           Pacific Gas & Electric Company   5541\n",
       "87     CA     El Dorado    Sacramento Municipal Utility District      1\n",
       "88     CA     El Dorado         San Diego Gas & Electric Company      1\n",
       "89     CA        Fresno                      DIRECT ACCESS - APS      1\n",
       "90     CA        Fresno                Pacific Gas & Electric Co    251\n",
       "91     CA        Fresno           Pacific Gas & Electric Company  20245\n",
       "92     CA        Fresno         San Diego Gas & Electric Company      1\n",
       "93     CA        Fresno               Southern California Edison     14\n",
       "94     CA        Fresno            Southern California Edison Co     45\n",
       "95     CA         Glenn                Pacific Gas & Electric Co     75\n",
       "96     CA         Glenn           Pacific Gas & Electric Company    955\n",
       "97     CA      Humboldt                Pacific Gas & Electric Co     41\n",
       "98     CA      Humboldt           Pacific Gas & Electric Company    795\n",
       "99     CA      Humboldt         San Diego Gas & Electric Company      1\n",
       "100    CA      Humboldt               Southern California Edison      3\n",
       "..    ...           ...                                      ...    ...\n",
       "222    CA        Solano                Pacific Gas & Electric Co     15\n",
       "223    CA        Solano           Pacific Gas & Electric Company   7570\n",
       "224    CA        Solano               Southern California Edison      2\n",
       "225    CA        Sonoma                Pacific Gas & Electric Co     54\n",
       "226    CA        Sonoma           Pacific Gas & Electric Company   9657\n",
       "227    CA    Stanislaus                Pacific Gas & Electric Co      1\n",
       "228    CA    Stanislaus           Pacific Gas & Electric Company   1324\n",
       "229    CA        Sutter                Pacific Gas & Electric Co     16\n",
       "230    CA        Sutter           Pacific Gas & Electric Company   2376\n",
       "231    CA        Sutter               Southern California Edison      1\n",
       "232    CA        Tehama                Pacific Gas & Electric Co     99\n",
       "233    CA        Tehama           Pacific Gas & Electric Company   1611\n",
       "234    CA        Tehama               Southern California Edison      1\n",
       "235    CA       Trinity           Pacific Gas & Electric Company     11\n",
       "236    CA        Tulare                Pacific Gas & Electric Co    293\n",
       "237    CA        Tulare           Pacific Gas & Electric Company    555\n",
       "238    CA        Tulare         San Diego Gas & Electric Company      1\n",
       "239    CA        Tulare               Southern California Edison   6803\n",
       "240    CA        Tulare            Southern California Edison Co    243\n",
       "241    CA      Tuolumne           Pacific Gas & Electric Company    596\n",
       "242    CA       Ventura  Los Angeles Department of Water & Power      1\n",
       "243    CA       Ventura           Pacific Gas & Electric Company      7\n",
       "244    CA       Ventura         San Diego Gas & Electric Company      1\n",
       "245    CA       Ventura               Southern California Edison  11672\n",
       "246    CA       Ventura            Southern California Edison Co    211\n",
       "247    CA          Yolo                Pacific Gas & Electric Co     24\n",
       "248    CA          Yolo           Pacific Gas & Electric Company   5572\n",
       "249    CA          Yolo    Sacramento Municipal Utility District      1\n",
       "250    CA          Yuba                Pacific Gas & Electric Co      3\n",
       "251    CA          Yuba           Pacific Gas & Electric Company   1466\n",
       "\n",
       "[181 rows x 4 columns]"
      ]
     },
     "execution_count": 17,
     "metadata": {},
     "output_type": "execute_result"
    }
   ],
   "source": [
    "# Looking at california, looks like this is pretty robust, I'm also noticing that there's a ton of double labled stuff\n",
    "# let's also change 'Pacific Gas & Electric Co' to \"Pacific Gas & Electric Company\"\n",
    "\n",
    "county_utilities[county_utilities['state'] == \"CA\"]"
   ]
  },
  {
   "cell_type": "code",
   "execution_count": 18,
   "metadata": {},
   "outputs": [],
   "source": [
    "# changing some misnamed PG&E values\n",
    "\n",
    "df.loc[df['utility_clean'] == \"Pacific Gas & Electric Co\", 'utility_clean'] = \"Pacific Gas & Electric Company\""
   ]
  },
  {
   "cell_type": "code",
   "execution_count": 19,
   "metadata": {},
   "outputs": [
    {
     "name": "stdout",
     "output_type": "stream",
     "text": [
      "<class 'pandas.core.frame.DataFrame'>\n",
      "RangeIndex: 1020715 entries, 0 to 1020714\n",
      "Data columns (total 39 columns):\n",
      "state                          1020715 non-null object\n",
      "date_installed                 1020710 non-null object\n",
      "incentive_prog_names           1020715 non-null object\n",
      "type                           1020710 non-null object\n",
      "size_kw                        1020710 non-null float64\n",
      "appraised                      224036 non-null object\n",
      "zipcode                        1020710 non-null float64\n",
      "install_type                   978134 non-null object\n",
      "installer                      702647 non-null object\n",
      "cost_per_watt                  763133 non-null float64\n",
      "cost                           763294 non-null float64\n",
      "lbnl_tts_version_year          797958 non-null float64\n",
      "lbnl_tts                       797958 non-null object\n",
      "city                           799148 non-null object\n",
      "utility_clean                  792720 non-null object\n",
      "tech_1                         580919 non-null object\n",
      "model1_clean                   580919 non-null object\n",
      "county                         998652 non-null object\n",
      "annual_PV_prod                 780969 non-null float64\n",
      "annual_insolation              780969 non-null float64\n",
      "rebate                         386698 non-null object\n",
      "sales_tax_cost                 355309 non-null float64\n",
      "tilt1                          383365 non-null float64\n",
      "tracking_type                  526058 non-null object\n",
      "azimuth1                       363281 non-null float64\n",
      "manuf2_clean                   231607 non-null object\n",
      "manuf3_clean                   209653 non-null object\n",
      "manuf1_clean                   201121 non-null object\n",
      "inv_man_clean                  49933 non-null object\n",
      "reported_annual_energy_prod    204429 non-null float64\n",
      "year                           68 non-null object\n",
      "pbi_length                     5427 non-null float64\n",
      "utility                        2117 non-null object\n",
      "bipv_3                         5255 non-null float64\n",
      "bipv_2                         5255 non-null float64\n",
      "bipv_1                         5255 non-null float64\n",
      "new_constr                     27106 non-null float64\n",
      "tracking                       1930 non-null float64\n",
      "3rdparty                       306993 non-null float64\n",
      "dtypes: float64(18), object(21)\n",
      "memory usage: 303.7+ MB\n"
     ]
    }
   ],
   "source": [
    "df.info()"
   ]
  },
  {
   "cell_type": "code",
   "execution_count": 20,
   "metadata": {},
   "outputs": [],
   "source": [
    "# I'm just going to go ahead and impute the utility based on the mode for teh state"
   ]
  },
  {
   "cell_type": "code",
   "execution_count": 21,
   "metadata": {},
   "outputs": [],
   "source": [
    "import sqlite3\n",
    "\n",
    "conn = sqlite3.Connection(\"./capstone.sqlite\")\n",
    "conn.text_factory = str\n",
    "\n",
    "df.to_sql('open_pv_clean', con=conn, if_exists='replace')"
   ]
  },
  {
   "cell_type": "code",
   "execution_count": 22,
   "metadata": {},
   "outputs": [],
   "source": [
    "# cleaning up some fucked up shit with state entries.\n",
    "\n",
    "df.loc[df['state'] == 'PA ', 'state'] = 'PA'\n",
    "df.loc[df['state'] == 'MD ', 'state'] = 'MD'\n",
    "df.loc[df['state'] == 'OH ', 'state'] = \"OH\"\n",
    "states = list(df.state.unique())"
   ]
  },
  {
   "cell_type": "code",
   "execution_count": 23,
   "metadata": {},
   "outputs": [
    {
     "name": "stdout",
     "output_type": "stream",
     "text": [
      "TX non_nulls:  9585\n",
      "TX nulls:  4768\n",
      "\n",
      "\n",
      "IN non_nulls:  0\n",
      "IN nulls:  913\n",
      "\n",
      "\n",
      "CA non_nulls:  492026\n",
      "CA nulls:  134794\n",
      "\n",
      "\n",
      "OK non_nulls:  0\n",
      "OK nulls:  11\n",
      "\n",
      "\n",
      "OH non_nulls:  43\n",
      "OH nulls:  2250\n",
      "\n",
      "\n",
      "IL non_nulls:  1101\n",
      "IL nulls:  385\n",
      "\n",
      "\n",
      "MI non_nulls:  0\n",
      "MI nulls:  264\n",
      "\n",
      "\n",
      "VA non_nulls:  0\n",
      "VA nulls:  71\n",
      "\n",
      "\n",
      "WI non_nulls:  1926\n",
      "WI nulls:  1395\n",
      "\n",
      "\n",
      "CO non_nulls:  0\n",
      "CO nulls:  2606\n",
      "\n",
      "\n",
      "MD non_nulls:  6266\n",
      "MD nulls:  5177\n",
      "\n",
      "\n",
      "FL non_nulls:  1821\n",
      "FL nulls:  1163\n",
      "\n",
      "\n",
      "NY non_nulls:  44012\n",
      "NY nulls:  7007\n",
      "\n",
      "\n",
      "MA non_nulls:  61635\n",
      "MA nulls:  9786\n",
      "\n",
      "\n",
      "PA non_nulls:  7233\n",
      "PA nulls:  4238\n",
      "\n",
      "\n",
      "AZ non_nulls:  72022\n",
      "AZ nulls:  17339\n",
      "\n",
      "\n",
      "UT non_nulls:  430\n",
      "UT nulls:  387\n",
      "\n",
      "\n",
      "KY non_nulls:  0\n",
      "KY nulls:  33\n",
      "\n",
      "\n",
      "DE non_nulls:  3022\n",
      "DE nulls:  2102\n",
      "\n",
      "\n",
      "WA non_nulls:  0\n",
      "WA nulls:  209\n",
      "\n",
      "\n",
      "IA non_nulls:  0\n",
      "IA nulls:  206\n",
      "\n",
      "\n",
      "MS non_nulls:  0\n",
      "MS nulls:  71\n",
      "\n",
      "\n",
      "HI non_nulls:  0\n",
      "HI nulls:  2324\n",
      "\n",
      "\n",
      "KS non_nulls:  0\n",
      "KS nulls:  28\n",
      "\n",
      "\n",
      "GA non_nulls:  0\n",
      "GA nulls:  53\n",
      "\n",
      "\n",
      "ME non_nulls:  519\n",
      "ME nulls:  184\n",
      "\n",
      "\n",
      "NH non_nulls:  2893\n",
      "NH nulls:  608\n",
      "\n",
      "\n",
      "CT non_nulls:  15727\n",
      "CT nulls:  7916\n",
      "\n",
      "\n",
      "VT non_nulls:  0\n",
      "VT nulls:  1642\n",
      "\n",
      "\n",
      "NM non_nulls:  6526\n",
      "NM nulls:  1830\n",
      "\n",
      "\n",
      "AL non_nulls:  0\n",
      "AL nulls:  32\n",
      "\n",
      "\n",
      "MO non_nulls:  5167\n",
      "MO nulls:  337\n",
      "\n",
      "\n",
      "NJ non_nulls:  42246\n",
      "NJ nulls:  8801\n",
      "\n",
      "\n",
      "AK non_nulls:  0\n",
      "AK nulls:  22\n",
      "\n",
      "\n",
      "MN non_nulls:  1027\n",
      "MN nulls:  543\n",
      "\n",
      "\n",
      "MT non_nulls:  0\n",
      "MT nulls:  61\n",
      "\n",
      "\n",
      "ID non_nulls:  0\n",
      "ID nulls:  44\n",
      "\n",
      "\n",
      "SD non_nulls:  0\n",
      "SD nulls:  16\n",
      "\n",
      "\n",
      "ND non_nulls:  0\n",
      "ND nulls:  3\n",
      "\n",
      "\n",
      "RI non_nulls:  541\n",
      "RI nulls:  42\n",
      "\n",
      "\n",
      "NE non_nulls:  0\n",
      "NE nulls:  17\n",
      "\n",
      "\n",
      "TN non_nulls:  0\n",
      "TN nulls:  601\n",
      "\n",
      "\n",
      "DC non_nulls:  0\n",
      "DC nulls:  3296\n",
      "\n",
      "\n",
      "OR non_nulls:  2324\n",
      "OR nulls:  1956\n",
      "\n",
      "\n",
      "LA non_nulls:  0\n",
      "LA nulls:  345\n",
      "\n",
      "\n",
      "AR non_nulls:  98\n",
      "AR nulls:  141\n",
      "\n",
      "\n",
      "WV non_nulls:  0\n",
      "WV nulls:  92\n",
      "\n",
      "\n",
      "WY non_nulls:  0\n",
      "WY nulls:  157\n",
      "\n",
      "\n",
      "NC non_nulls:  0\n",
      "NC nulls:  75\n",
      "\n",
      "\n",
      "NV non_nulls:  14530\n",
      "NV nulls:  1518\n",
      "\n",
      "\n",
      "SC non_nulls:  0\n",
      "SC nulls:  132\n",
      "\n",
      "\n",
      "PR non_nulls:  0\n",
      "PR nulls:  4\n",
      "\n",
      "\n"
     ]
    }
   ],
   "source": [
    "# Looks like there are a few states where there's no listing.  let's just fill the states where there are some\n",
    "# utility listings, and fill the other ones with \"no utility listed\"\n",
    "\n",
    "for state in states:\n",
    "    print(state, \"non_nulls: \", df.loc[df['state'] == state, 'utility_clean'].notnull().sum())\n",
    "    print(state, \"nulls: \", df.loc[df['state'] == state, 'utility_clean'].isnull().sum())\n",
    "    print(\"\\n\")"
   ]
  },
  {
   "cell_type": "code",
   "execution_count": 24,
   "metadata": {},
   "outputs": [
    {
     "name": "stdout",
     "output_type": "stream",
     "text": [
      "0\n"
     ]
    }
   ],
   "source": [
    "states = list(df.state.unique())\n",
    "\n",
    "for state in states:\n",
    "    non_nulls = df.loc[df['state'] == state, 'utility_clean'].notnull().sum()\n",
    "    if non_nulls == 0:\n",
    "        df.loc[df['state'] == state, 'utility_clean'] = \"no utility listed\"\n",
    "    else:\n",
    "        mode_utility = df.loc[df['state'] == state, 'utility_clean'].value_counts().index[0]\n",
    "        mask = (df['state'] == state) & (df['utility_clean'].isnull())\n",
    "        df.loc[mask, 'utility_clean'] = mode_utility\n",
    "        \n",
    "print(df['utility_clean'].isnull().sum())"
   ]
  },
  {
   "cell_type": "code",
   "execution_count": 25,
   "metadata": {},
   "outputs": [
    {
     "data": {
      "text/plain": [
       "0"
      ]
     },
     "execution_count": 25,
     "metadata": {},
     "output_type": "execute_result"
    }
   ],
   "source": [
    "df.loc[df['state'] == 'CA', 'utility_clean'].isnull().sum()"
   ]
  },
  {
   "cell_type": "code",
   "execution_count": 26,
   "metadata": {},
   "outputs": [
    {
     "data": {
      "text/plain": [
       "state  utility_clean                              \n",
       "AK     no utility listed                                 22\n",
       "AL     no utility listed                                 32\n",
       "AR     Carroll Electric Coop Corp                         1\n",
       "       Carroll Electric Coop Corp - (AR)                  1\n",
       "       Entergy Arkansas Inc                             202\n",
       "       Oklahoma Gas & Electric Co                         3\n",
       "       Southwestern Electric Power Co                    32\n",
       "AZ     Ajo Improvement Company                            3\n",
       "       Arizona Public Service                         57986\n",
       "       Duncan Valley Electric Cooperative                 5\n",
       "       Graham County Electric Cooperative               129\n",
       "       Mohave Electric Cooperative                      449\n",
       "       Morenci Water and Electric                         3\n",
       "       Navopache Electric Cooperative                   140\n",
       "       Salt River Project                             15275\n",
       "       Sulphur Springs Valley Electric Cooperative     1266\n",
       "       Trico Electric Cooperative                      1357\n",
       "       Tucson Electric Power                          10921\n",
       "       UniSource Energy Services                       1827\n",
       "CA     Bear Valley Electric Service                      96\n",
       "       Burbank Water and Power                            5\n",
       "       City of Palo Alto Utilities                      823\n",
       "       City of Riverside                                  2\n",
       "       City of San Francisco                              3\n",
       "       Constellation                                      1\n",
       "       DIRECT ACCESS - APS                                1\n",
       "       Hetch Hetchy                                       4\n",
       "       Imperial Irrigation District                    2334\n",
       "       LADWP                                              6\n",
       "       Lodi Electric                                      2\n",
       "                                                      ...  \n",
       "PA     West Penn Power Company                          110\n",
       "PR     no utility listed                                  4\n",
       "RI     National Grid                                    583\n",
       "SC     no utility listed                                132\n",
       "SD     no utility listed                                 16\n",
       "TN     no utility listed                                601\n",
       "TX     Austin Energy                                   9456\n",
       "       CPS Energy                                      3284\n",
       "       El Paso Electric                                 368\n",
       "       Entergy                                           57\n",
       "       Oncor Electric Delivery Company                  904\n",
       "       Sharyland Utilities                                2\n",
       "       Southwestern Electric Power Company               39\n",
       "       Texas Central Company                            146\n",
       "       Texas New Mexico Power Company                    23\n",
       "       Texas North Company                               74\n",
       "UT     Rocky Mountain Power                             817\n",
       "VA     no utility listed                                 71\n",
       "VT     no utility listed                               1642\n",
       "WA     no utility listed                                209\n",
       "WI     Barron Electric Coop                              13\n",
       "       Northern States Power Co                         134\n",
       "       Northern States Power Co - Wisconsin              26\n",
       "       Superior Water and Light Co                        6\n",
       "       Superior Water, Light and Power Co                 1\n",
       "       Wisconsin Electric Power Co                     2626\n",
       "       Wisconsin Power & Light Co                       343\n",
       "       Wisconsin Public Service Corp                    172\n",
       "WV     no utility listed                                 92\n",
       "WY     no utility listed                                157\n",
       "Length: 423, dtype: int64"
      ]
     },
     "execution_count": 26,
     "metadata": {},
     "output_type": "execute_result"
    }
   ],
   "source": [
    "df.groupby(['state', 'utility_clean']).size()"
   ]
  },
  {
   "cell_type": "code",
   "execution_count": 27,
   "metadata": {},
   "outputs": [],
   "source": [
    "# saving this to the db\n",
    "df.to_sql(\"open_pv_clean\", con=conn, if_exists=\"replace\")"
   ]
  },
  {
   "cell_type": "markdown",
   "metadata": {},
   "source": [
    "# Install Type"
   ]
  },
  {
   "cell_type": "code",
   "execution_count": 28,
   "metadata": {},
   "outputs": [],
   "source": [
    "df = pd.read_sql(\"SELECT * FROM open_pv_clean\", con=conn)"
   ]
  },
  {
   "cell_type": "code",
   "execution_count": 29,
   "metadata": {},
   "outputs": [
    {
     "name": "stdout",
     "output_type": "stream",
     "text": [
      "<class 'pandas.core.frame.DataFrame'>\n",
      "RangeIndex: 1020715 entries, 0 to 1020714\n",
      "Data columns (total 40 columns):\n",
      "index                          1020715 non-null int64\n",
      "state                          1020715 non-null object\n",
      "date_installed                 1020710 non-null object\n",
      "incentive_prog_names           1020715 non-null object\n",
      "type                           1020710 non-null object\n",
      "size_kw                        1020710 non-null float64\n",
      "appraised                      224036 non-null float64\n",
      "zipcode                        1020710 non-null float64\n",
      "install_type                   978134 non-null object\n",
      "installer                      702647 non-null object\n",
      "cost_per_watt                  763133 non-null float64\n",
      "cost                           763294 non-null float64\n",
      "lbnl_tts_version_year          797958 non-null float64\n",
      "lbnl_tts                       797958 non-null float64\n",
      "city                           799148 non-null object\n",
      "utility_clean                  1020715 non-null object\n",
      "tech_1                         580919 non-null object\n",
      "model1_clean                   580919 non-null object\n",
      "county                         998652 non-null object\n",
      "annual_PV_prod                 780969 non-null float64\n",
      "annual_insolation              780969 non-null float64\n",
      "rebate                         386698 non-null object\n",
      "sales_tax_cost                 355309 non-null float64\n",
      "tilt1                          383365 non-null float64\n",
      "tracking_type                  526058 non-null object\n",
      "azimuth1                       363281 non-null float64\n",
      "manuf2_clean                   231607 non-null object\n",
      "manuf3_clean                   209653 non-null object\n",
      "manuf1_clean                   201121 non-null object\n",
      "inv_man_clean                  49933 non-null object\n",
      "reported_annual_energy_prod    204429 non-null float64\n",
      "year                           68 non-null object\n",
      "pbi_length                     5427 non-null float64\n",
      "utility                        2117 non-null object\n",
      "bipv_3                         5255 non-null float64\n",
      "bipv_2                         5255 non-null float64\n",
      "bipv_1                         5255 non-null float64\n",
      "new_constr                     27106 non-null float64\n",
      "tracking                       1930 non-null float64\n",
      "3rdparty                       306993 non-null float64\n",
      "dtypes: float64(20), int64(1), object(19)\n",
      "memory usage: 311.5+ MB\n"
     ]
    }
   ],
   "source": [
    "df.info()"
   ]
  },
  {
   "cell_type": "code",
   "execution_count": 30,
   "metadata": {},
   "outputs": [
    {
     "data": {
      "text/plain": [
       "residential                    728661\n",
       "Residential                    179452\n",
       "commercial                      24470\n",
       "Unknown                         15771\n",
       "Commercial                      11943\n",
       "unknown                          4034\n",
       "government                       3721\n",
       "nonprofit                        3003\n",
       "Government                       2027\n",
       "educational                      1703\n",
       "Nonprofit                        1217\n",
       "Educational                       710\n",
       "Customer                          371\n",
       "Agricultural                      312\n",
       "education                         290\n",
       "Utility                           138\n",
       "agricultural                      124\n",
       "utility                            92\n",
       "Institutional                      29\n",
       "Commercial - Other                 16\n",
       "Public                             11\n",
       "Gov't/NP                           11\n",
       "agriculture                         5\n",
       "public                              5\n",
       "Residential/SF                      5\n",
       "Nonresidential                      3\n",
       "Commercial - Small Business         2\n",
       "Small Business                      2\n",
       "Not Stated                          2\n",
       "Commerical                          1\n",
       "Commercial - Builders               1\n",
       "Municipal                           1\n",
       "Commercial - Agriculture            1\n",
       "Name: install_type, dtype: int64"
      ]
     },
     "execution_count": 30,
     "metadata": {},
     "output_type": "execute_result"
    }
   ],
   "source": [
    "# looks like there's a lot of improperly named stuff here.  if we just make them all lower case that will help.\n",
    "\n",
    "# we can also probably safely impute the empty values with residential.  Maybe there's some connection between\n",
    "# size and type though, let's look at a box plot for that.\n",
    "\n",
    "df.install_type.value_counts()"
   ]
  },
  {
   "cell_type": "code",
   "execution_count": 31,
   "metadata": {},
   "outputs": [],
   "source": [
    "# setting it all to lower case\n",
    "\n",
    "df['install_type'] = [install.lower() for install in df['install_type'].astype(str)]"
   ]
  },
  {
   "cell_type": "code",
   "execution_count": 32,
   "metadata": {},
   "outputs": [],
   "source": [
    "# consolidating commercial\n",
    "\n",
    "df['install_type'] = ['commercial' if \"commercial\" in install else install for install in df['install_type']]"
   ]
  },
  {
   "cell_type": "code",
   "execution_count": 33,
   "metadata": {},
   "outputs": [],
   "source": [
    "df['install_type'] = ['educational' if \"educat\" in install else\n",
    "                      'commercial' if 'commer' in install else\n",
    "                      'public' if \"gov't\" in install else\n",
    "                      'residential' if '/sf' in install else\n",
    "                      'agricultural' if 'agricu' in install else\n",
    "                      'public' if install == 'municipal' \n",
    "                      else install for install in df['install_type']]"
   ]
  },
  {
   "cell_type": "code",
   "execution_count": 34,
   "metadata": {},
   "outputs": [
    {
     "data": {
      "text/plain": [
       "residential       908118\n",
       "none               42581\n",
       "commercial         36434\n",
       "unknown            19805\n",
       "government          5748\n",
       "nonprofit           4220\n",
       "educational         2703\n",
       "agricultural         441\n",
       "customer             371\n",
       "utility              230\n",
       "institutional         29\n",
       "public                28\n",
       "nonresidential         3\n",
       "not stated             2\n",
       "small business         2\n",
       "Name: install_type, dtype: int64"
      ]
     },
     "execution_count": 34,
     "metadata": {},
     "output_type": "execute_result"
    }
   ],
   "source": [
    "df['install_type'].value_counts()"
   ]
  },
  {
   "cell_type": "code",
   "execution_count": 35,
   "metadata": {},
   "outputs": [],
   "source": [
    "# let's make some of the rando one's nan and get rid of small-business\n",
    "\n",
    "nan_labels = ['nonresidential', 'not stated', 'unknown', 'customer']\n",
    "\n",
    "df['install_type'] = ['nan' if install in nan_labels else\n",
    "                     'commercial' if 'small business' in install else\n",
    "                     install for install in df['install_type']]"
   ]
  },
  {
   "cell_type": "code",
   "execution_count": 36,
   "metadata": {
    "scrolled": true
   },
   "outputs": [
    {
     "data": {
      "text/plain": [
       "residential      908118\n",
       "none              42581\n",
       "commercial        36436\n",
       "nan               20181\n",
       "government         5748\n",
       "nonprofit          4220\n",
       "educational        2703\n",
       "agricultural        441\n",
       "utility             230\n",
       "institutional        29\n",
       "public               28\n",
       "Name: install_type, dtype: int64"
      ]
     },
     "execution_count": 36,
     "metadata": {},
     "output_type": "execute_result"
    }
   ],
   "source": [
    "# residential seriously dominates, but maybe there's some big trend we can use to imput the nan\n",
    "\n",
    "df['install_type'].value_counts()"
   ]
  },
  {
   "cell_type": "code",
   "execution_count": 37,
   "metadata": {},
   "outputs": [],
   "source": [
    "df['install_type'] = [np.nan if install == 'nan' else install for install in df['install_type']]"
   ]
  },
  {
   "cell_type": "code",
   "execution_count": 38,
   "metadata": {},
   "outputs": [],
   "source": [
    "import matplotlib.pyplot as plt\n",
    "import seaborn as sns\n",
    "%matplotlib inline"
   ]
  },
  {
   "cell_type": "code",
   "execution_count": 39,
   "metadata": {
    "scrolled": true
   },
   "outputs": [
    {
     "name": "stderr",
     "output_type": "stream",
     "text": [
      "C:\\Anaconda\\lib\\site-packages\\numpy\\lib\\function_base.py:3652: RuntimeWarning: Invalid value encountered in percentile\n",
      "  interpolation=interpolation)\n",
      "C:\\Anaconda\\lib\\site-packages\\matplotlib\\cbook\\__init__.py:1872: RuntimeWarning: invalid value encountered in less_equal\n",
      "  wiskhi = np.compress(x <= hival, x)\n",
      "C:\\Anaconda\\lib\\site-packages\\matplotlib\\cbook\\__init__.py:1879: RuntimeWarning: invalid value encountered in greater_equal\n",
      "  wisklo = np.compress(x >= loval, x)\n",
      "C:\\Anaconda\\lib\\site-packages\\matplotlib\\cbook\\__init__.py:1887: RuntimeWarning: invalid value encountered in less\n",
      "  np.compress(x < stats['whislo'], x),\n",
      "C:\\Anaconda\\lib\\site-packages\\matplotlib\\cbook\\__init__.py:1888: RuntimeWarning: invalid value encountered in greater\n",
      "  np.compress(x > stats['whishi'], x)\n"
     ]
    },
    {
     "data": {
      "text/plain": [
       "(0, 20000)"
      ]
     },
     "execution_count": 39,
     "metadata": {},
     "output_type": "execute_result"
    },
    {
     "data": {
      "image/png": "[encoded data removed]",
      "text/plain": [
       "<Figure size 720x432 with 1 Axes>"
      ]
     },
     "metadata": {
      "needs_background": "light"
     },
     "output_type": "display_data"
    }
   ],
   "source": [
    "fig = plt.figure(figsize=(10,6))\n",
    "\n",
    "# kind of hard to get anything out of this, also wtf nan and residential are just not even showing up.\n",
    "\n",
    "data = [df.loc[df['install_type'] == install, 'size_kw'] for install in df['install_type'].unique()]\n",
    "plt.boxplot(data, labels = df['install_type'].unique())\n",
    "plt.ylim(0,20000)"
   ]
  },
  {
   "cell_type": "code",
   "execution_count": 40,
   "metadata": {},
   "outputs": [
    {
     "name": "stderr",
     "output_type": "stream",
     "text": [
      "C:\\Anaconda\\lib\\site-packages\\scipy\\stats\\stats.py:1713: FutureWarning: Using a non-tuple sequence for multidimensional indexing is deprecated; use `arr[tuple(seq)]` instead of `arr[seq]`. In the future this will be interpreted as an array index, `arr[np.array(seq)]`, which will result either in an error or a different result.\n",
      "  return np.add.reduce(sorted[indexer] * weights, axis=axis) / sumval\n"
     ]
    },
    {
     "data": {
      "text/plain": [
       "<matplotlib.axes._subplots.AxesSubplot at 0x1c79d6f3ba8>"
      ]
     },
     "execution_count": 40,
     "metadata": {},
     "output_type": "execute_result"
    },
    {
     "data": {
      "image/png": "[encoded data removed]",
      "text/plain": [
       "<Figure size 432x720 with 1 Axes>"
      ]
     },
     "metadata": {
      "needs_background": "light"
     },
     "output_type": "display_data"
    }
   ],
   "source": [
    "fig = plt.figure(figsize=(6,10))\n",
    "sns.barplot(y=df['install_type'], x=df['size_kw'], orient='h')"
   ]
  },
  {
   "cell_type": "code",
   "execution_count": 41,
   "metadata": {},
   "outputs": [],
   "source": [
    "# okay looks like anything larger than the max government one we can for sure say is utility, that's interesting\n",
    "# we have to ge rid of utility to see anything else.\n",
    "\n",
    "utility_cutoff = df.loc[df['install_type'] == 'utility', 'size_kw'].max()"
   ]
  },
  {
   "cell_type": "code",
   "execution_count": 42,
   "metadata": {},
   "outputs": [
    {
     "data": {
      "text/plain": [
       "333000.0"
      ]
     },
     "execution_count": 42,
     "metadata": {},
     "output_type": "execute_result"
    }
   ],
   "source": [
    "utility_cutoff"
   ]
  },
  {
   "cell_type": "code",
   "execution_count": 43,
   "metadata": {},
   "outputs": [
    {
     "name": "stderr",
     "output_type": "stream",
     "text": [
      "C:\\Anaconda\\lib\\site-packages\\scipy\\stats\\stats.py:1713: FutureWarning: Using a non-tuple sequence for multidimensional indexing is deprecated; use `arr[tuple(seq)]` instead of `arr[seq]`. In the future this will be interpreted as an array index, `arr[np.array(seq)]`, which will result either in an error or a different result.\n",
      "  return np.add.reduce(sorted[indexer] * weights, axis=axis) / sumval\n"
     ]
    },
    {
     "data": {
      "text/plain": [
       "<matplotlib.axes._subplots.AxesSubplot at 0x1c754f05be0>"
      ]
     },
     "execution_count": 43,
     "metadata": {},
     "output_type": "execute_result"
    },
    {
     "data": {
      "image/png": "[encoded data removed]",
      "text/plain": [
       "<Figure size 432x720 with 1 Axes>"
      ]
     },
     "metadata": {
      "needs_background": "light"
     },
     "output_type": "display_data"
    }
   ],
   "source": [
    "fig = plt.figure(figsize=(6,10))\n",
    "sns.barplot(y=df.loc[df['install_type'] != 'utility', 'install_type'],\n",
    "            x=df.loc[df['install_type'] != 'utility','size_kw'], orient='h')"
   ]
  },
  {
   "cell_type": "code",
   "execution_count": 44,
   "metadata": {},
   "outputs": [
    {
     "data": {
      "text/plain": [
       "residential      908118\n",
       "none              42581\n",
       "commercial        36436\n",
       "government         5748\n",
       "nonprofit          4220\n",
       "educational        2703\n",
       "agricultural        441\n",
       "utility             230\n",
       "institutional        29\n",
       "public               28\n",
       "Name: install_type, dtype: int64"
      ]
     },
     "execution_count": 44,
     "metadata": {},
     "output_type": "execute_result"
    }
   ],
   "source": [
    "df.install_type.value_counts()"
   ]
  },
  {
   "cell_type": "code",
   "execution_count": 45,
   "metadata": {},
   "outputs": [],
   "source": [
    "# I'll just make cutoffs for utility because it's such a standout, then residential, commercial, and government.\n",
    "\n",
    "# utility if > utility cuttoff\n",
    "# governement if <= utility cutoff and > education max\n",
    "# commercial if <= education max and > institutional max\n",
    "# residuential if <= instutional max\n",
    "\n",
    "utility_cutoff = df.loc[df['install_type'] == 'utility', 'size_kw'].max()\n",
    "education_max = df.loc[df['install_type'] == 'educational', 'size_kw'].max()\n",
    "instit_max = df.loc[df['install_type'] == 'institutional', 'size_kw'].max()\n",
    "\n",
    "\n",
    "def install_filler(row):\n",
    "    # this function will go through every row and fill in null values for install_type with a value based on the \n",
    "    # size of the installation\n",
    "    \n",
    "    # check if row is null.\n",
    "    if row['install_type'] == np.nan:\n",
    "        \n",
    "        # check if there's a size we can go off of.\n",
    "        if row['size_kw'] == np.nan:\n",
    "            \n",
    "            # compare size\n",
    "            if row['size_kw'] > utility_cutoff:\n",
    "                row['install_type'] = 'utility'\n",
    "            elif row['size_kw'] <= utility_cutoff and row['size_kw'] > education_max:\n",
    "                row['install_type'] = 'government'\n",
    "            elif row['size_kw'] <= education_max and row['size_kw'] > instit_max:\n",
    "                row['install_type'] = 'commercial'\n",
    "            else:\n",
    "                row['install_type'] = 'residential'\n",
    "                \n",
    "    return row "
   ]
  },
  {
   "cell_type": "code",
   "execution_count": 46,
   "metadata": {},
   "outputs": [],
   "source": [
    "df = df.apply(install_filler, axis=1)"
   ]
  },
  {
   "cell_type": "code",
   "execution_count": 47,
   "metadata": {},
   "outputs": [
    {
     "data": {
      "text/plain": [
       "20181"
      ]
     },
     "execution_count": 47,
     "metadata": {},
     "output_type": "execute_result"
    }
   ],
   "source": [
    "# forgot to fill ones that don't have a size with residential.\n",
    "\n",
    "df.install_type.isnull().sum()"
   ]
  },
  {
   "cell_type": "code",
   "execution_count": 48,
   "metadata": {},
   "outputs": [],
   "source": [
    "df.install_type.fillna(value='residential', inplace=True)"
   ]
  },
  {
   "cell_type": "code",
   "execution_count": 49,
   "metadata": {},
   "outputs": [
    {
     "data": {
      "text/plain": [
       "0"
      ]
     },
     "execution_count": 49,
     "metadata": {},
     "output_type": "execute_result"
    }
   ],
   "source": [
    "df.install_type.isnull().sum()"
   ]
  },
  {
   "cell_type": "code",
   "execution_count": 50,
   "metadata": {},
   "outputs": [
    {
     "data": {
      "text/plain": [
       "residential      928299\n",
       "none              42581\n",
       "commercial        36436\n",
       "government         5748\n",
       "nonprofit          4220\n",
       "educational        2703\n",
       "agricultural        441\n",
       "utility             230\n",
       "institutional        29\n",
       "public               28\n",
       "Name: install_type, dtype: int64"
      ]
     },
     "execution_count": 50,
     "metadata": {},
     "output_type": "execute_result"
    }
   ],
   "source": [
    "# we did it.\n",
    "\n",
    "df.install_type.value_counts()"
   ]
  },
  {
   "cell_type": "code",
   "execution_count": 51,
   "metadata": {},
   "outputs": [],
   "source": [
    "del(df['index'])"
   ]
  },
  {
   "cell_type": "code",
   "execution_count": 53,
   "metadata": {},
   "outputs": [],
   "source": [
    "# saving to the database.\n",
    "\n",
    "df.to_sql('open_pv_clean_backup', con=conn, if_exists=\"replace\")"
   ]
  },
  {
   "cell_type": "code",
   "execution_count": 54,
   "metadata": {},
   "outputs": [],
   "source": [
    "df.to_sql('open_pv_clean', con=conn, if_exists=\"replace\")"
   ]
  },
  {
   "cell_type": "markdown",
   "metadata": {},
   "source": [
    "# Appraised"
   ]
  },
  {
   "cell_type": "code",
   "execution_count": 55,
   "metadata": {},
   "outputs": [
    {
     "data": {
      "text/plain": [
       "1.0    224036\n",
       "Name: appraised, dtype: int64"
      ]
     },
     "execution_count": 55,
     "metadata": {},
     "output_type": "execute_result"
    }
   ],
   "source": [
    "# looks like it's just one value, seems safe to assume that it's just a binary thing, so we can just leave it blank\n",
    "\n",
    "df.appraised.value_counts()"
   ]
  },
  {
   "cell_type": "code",
   "execution_count": 56,
   "metadata": {},
   "outputs": [],
   "source": [
    "# I'm going to change this to a 1 / 0 ohe situation.\n",
    "\n",
    "df.appraised.fillna(0, inplace=True)"
   ]
  },
  {
   "cell_type": "code",
   "execution_count": 57,
   "metadata": {},
   "outputs": [],
   "source": [
    "mask = df.appraised == True\n",
    "df.loc[mask, 'appraised'] = 1"
   ]
  },
  {
   "cell_type": "code",
   "execution_count": 58,
   "metadata": {},
   "outputs": [],
   "source": [
    "df.appraised = pd.to_numeric(df.appraised)"
   ]
  },
  {
   "cell_type": "markdown",
   "metadata": {},
   "source": [
    "# Zipcode and address information"
   ]
  },
  {
   "cell_type": "code",
   "execution_count": 59,
   "metadata": {},
   "outputs": [
    {
     "name": "stdout",
     "output_type": "stream",
     "text": [
      "<class 'pandas.core.frame.DataFrame'>\n",
      "RangeIndex: 1020715 entries, 0 to 1020714\n",
      "Data columns (total 39 columns):\n",
      "state                          1020715 non-null object\n",
      "date_installed                 1020710 non-null object\n",
      "incentive_prog_names           1020715 non-null object\n",
      "type                           1020710 non-null object\n",
      "size_kw                        1020710 non-null float64\n",
      "appraised                      1020715 non-null float64\n",
      "zipcode                        1020710 non-null float64\n",
      "install_type                   1020715 non-null object\n",
      "installer                      702647 non-null object\n",
      "cost_per_watt                  763133 non-null float64\n",
      "cost                           763294 non-null float64\n",
      "lbnl_tts_version_year          797958 non-null float64\n",
      "lbnl_tts                       797958 non-null float64\n",
      "city                           799148 non-null object\n",
      "utility_clean                  1020715 non-null object\n",
      "tech_1                         580919 non-null object\n",
      "model1_clean                   580919 non-null object\n",
      "county                         998652 non-null object\n",
      "annual_PV_prod                 780969 non-null float64\n",
      "annual_insolation              780969 non-null float64\n",
      "rebate                         386698 non-null object\n",
      "sales_tax_cost                 355309 non-null float64\n",
      "tilt1                          383365 non-null float64\n",
      "tracking_type                  526058 non-null object\n",
      "azimuth1                       363281 non-null float64\n",
      "manuf2_clean                   231607 non-null object\n",
      "manuf3_clean                   209653 non-null object\n",
      "manuf1_clean                   201121 non-null object\n",
      "inv_man_clean                  49933 non-null object\n",
      "reported_annual_energy_prod    204429 non-null float64\n",
      "year                           68 non-null object\n",
      "pbi_length                     5427 non-null float64\n",
      "utility                        2117 non-null object\n",
      "bipv_3                         5255 non-null float64\n",
      "bipv_2                         5255 non-null float64\n",
      "bipv_1                         5255 non-null float64\n",
      "new_constr                     27106 non-null float64\n",
      "tracking                       1930 non-null float64\n",
      "3rdparty                       306993 non-null float64\n",
      "dtypes: float64(20), object(19)\n",
      "memory usage: 303.7+ MB\n"
     ]
    }
   ],
   "source": [
    "df.info()"
   ]
  },
  {
   "cell_type": "code",
   "execution_count": 60,
   "metadata": {},
   "outputs": [
    {
     "data": {
      "text/html": [
       "<div>\n",
       "<style scoped>\n",
       "    .dataframe tbody tr th:only-of-type {\n",
       "        vertical-align: middle;\n",
       "    }\n",
       "\n",
       "    .dataframe tbody tr th {\n",
       "        vertical-align: top;\n",
       "    }\n",
       "\n",
       "    .dataframe thead th {\n",
       "        text-align: right;\n",
       "    }\n",
       "</style>\n",
       "<table border=\"1\" class=\"dataframe\">\n",
       "  <thead>\n",
       "    <tr style=\"text-align: right;\">\n",
       "      <th></th>\n",
       "      <th>state</th>\n",
       "      <th>date_installed</th>\n",
       "      <th>incentive_prog_names</th>\n",
       "      <th>type</th>\n",
       "      <th>size_kw</th>\n",
       "      <th>appraised</th>\n",
       "      <th>zipcode</th>\n",
       "      <th>install_type</th>\n",
       "      <th>installer</th>\n",
       "      <th>cost_per_watt</th>\n",
       "      <th>...</th>\n",
       "      <th>reported_annual_energy_prod</th>\n",
       "      <th>year</th>\n",
       "      <th>pbi_length</th>\n",
       "      <th>utility</th>\n",
       "      <th>bipv_3</th>\n",
       "      <th>bipv_2</th>\n",
       "      <th>bipv_1</th>\n",
       "      <th>new_constr</th>\n",
       "      <th>tracking</th>\n",
       "      <th>3rdparty</th>\n",
       "    </tr>\n",
       "  </thead>\n",
       "  <tbody>\n",
       "    <tr>\n",
       "      <th>627</th>\n",
       "      <td>IN</td>\n",
       "      <td>None</td>\n",
       "      <td>no_incentive_program</td>\n",
       "      <td>None</td>\n",
       "      <td>NaN</td>\n",
       "      <td>0.0</td>\n",
       "      <td>NaN</td>\n",
       "      <td>none</td>\n",
       "      <td>None</td>\n",
       "      <td>NaN</td>\n",
       "      <td>...</td>\n",
       "      <td>NaN</td>\n",
       "      <td>None</td>\n",
       "      <td>NaN</td>\n",
       "      <td>None</td>\n",
       "      <td>NaN</td>\n",
       "      <td>NaN</td>\n",
       "      <td>NaN</td>\n",
       "      <td>NaN</td>\n",
       "      <td>NaN</td>\n",
       "      <td>NaN</td>\n",
       "    </tr>\n",
       "    <tr>\n",
       "      <th>283268</th>\n",
       "      <td>OH</td>\n",
       "      <td>None</td>\n",
       "      <td>no_incentive_program</td>\n",
       "      <td>None</td>\n",
       "      <td>NaN</td>\n",
       "      <td>0.0</td>\n",
       "      <td>NaN</td>\n",
       "      <td>none</td>\n",
       "      <td>None</td>\n",
       "      <td>NaN</td>\n",
       "      <td>...</td>\n",
       "      <td>NaN</td>\n",
       "      <td>None</td>\n",
       "      <td>NaN</td>\n",
       "      <td>None</td>\n",
       "      <td>NaN</td>\n",
       "      <td>NaN</td>\n",
       "      <td>NaN</td>\n",
       "      <td>NaN</td>\n",
       "      <td>NaN</td>\n",
       "      <td>NaN</td>\n",
       "    </tr>\n",
       "    <tr>\n",
       "      <th>283285</th>\n",
       "      <td>PA</td>\n",
       "      <td>None</td>\n",
       "      <td>no_incentive_program</td>\n",
       "      <td>None</td>\n",
       "      <td>NaN</td>\n",
       "      <td>0.0</td>\n",
       "      <td>NaN</td>\n",
       "      <td>none</td>\n",
       "      <td>None</td>\n",
       "      <td>NaN</td>\n",
       "      <td>...</td>\n",
       "      <td>NaN</td>\n",
       "      <td>None</td>\n",
       "      <td>NaN</td>\n",
       "      <td>None</td>\n",
       "      <td>NaN</td>\n",
       "      <td>NaN</td>\n",
       "      <td>NaN</td>\n",
       "      <td>NaN</td>\n",
       "      <td>NaN</td>\n",
       "      <td>NaN</td>\n",
       "    </tr>\n",
       "    <tr>\n",
       "      <th>283456</th>\n",
       "      <td>OH</td>\n",
       "      <td>None</td>\n",
       "      <td>no_incentive_program</td>\n",
       "      <td>None</td>\n",
       "      <td>NaN</td>\n",
       "      <td>0.0</td>\n",
       "      <td>NaN</td>\n",
       "      <td>none</td>\n",
       "      <td>None</td>\n",
       "      <td>NaN</td>\n",
       "      <td>...</td>\n",
       "      <td>NaN</td>\n",
       "      <td>None</td>\n",
       "      <td>NaN</td>\n",
       "      <td>None</td>\n",
       "      <td>NaN</td>\n",
       "      <td>NaN</td>\n",
       "      <td>NaN</td>\n",
       "      <td>NaN</td>\n",
       "      <td>NaN</td>\n",
       "      <td>NaN</td>\n",
       "    </tr>\n",
       "    <tr>\n",
       "      <th>283475</th>\n",
       "      <td>PA</td>\n",
       "      <td>None</td>\n",
       "      <td>no_incentive_program</td>\n",
       "      <td>None</td>\n",
       "      <td>NaN</td>\n",
       "      <td>0.0</td>\n",
       "      <td>NaN</td>\n",
       "      <td>none</td>\n",
       "      <td>None</td>\n",
       "      <td>NaN</td>\n",
       "      <td>...</td>\n",
       "      <td>NaN</td>\n",
       "      <td>None</td>\n",
       "      <td>NaN</td>\n",
       "      <td>None</td>\n",
       "      <td>NaN</td>\n",
       "      <td>NaN</td>\n",
       "      <td>NaN</td>\n",
       "      <td>NaN</td>\n",
       "      <td>NaN</td>\n",
       "      <td>NaN</td>\n",
       "    </tr>\n",
       "  </tbody>\n",
       "</table>\n",
       "<p>5 rows × 39 columns</p>\n",
       "</div>"
      ],
      "text/plain": [
       "       state date_installed  incentive_prog_names  type  size_kw  appraised  \\\n",
       "627       IN           None  no_incentive_program  None      NaN        0.0   \n",
       "283268    OH           None  no_incentive_program  None      NaN        0.0   \n",
       "283285    PA           None  no_incentive_program  None      NaN        0.0   \n",
       "283456    OH           None  no_incentive_program  None      NaN        0.0   \n",
       "283475    PA           None  no_incentive_program  None      NaN        0.0   \n",
       "\n",
       "        zipcode install_type installer  cost_per_watt    ...     \\\n",
       "627         NaN         none      None            NaN    ...      \n",
       "283268      NaN         none      None            NaN    ...      \n",
       "283285      NaN         none      None            NaN    ...      \n",
       "283456      NaN         none      None            NaN    ...      \n",
       "283475      NaN         none      None            NaN    ...      \n",
       "\n",
       "        reported_annual_energy_prod  year  pbi_length utility bipv_3 bipv_2  \\\n",
       "627                             NaN  None         NaN    None    NaN    NaN   \n",
       "283268                          NaN  None         NaN    None    NaN    NaN   \n",
       "283285                          NaN  None         NaN    None    NaN    NaN   \n",
       "283456                          NaN  None         NaN    None    NaN    NaN   \n",
       "283475                          NaN  None         NaN    None    NaN    NaN   \n",
       "\n",
       "       bipv_1 new_constr  tracking  3rdparty  \n",
       "627       NaN        NaN       NaN       NaN  \n",
       "283268    NaN        NaN       NaN       NaN  \n",
       "283285    NaN        NaN       NaN       NaN  \n",
       "283456    NaN        NaN       NaN       NaN  \n",
       "283475    NaN        NaN       NaN       NaN  \n",
       "\n",
       "[5 rows x 39 columns]"
      ]
     },
     "execution_count": 60,
     "metadata": {},
     "output_type": "execute_result"
    }
   ],
   "source": [
    "# looks like these just suck i'm dropping them.\n",
    "\n",
    "df.loc[df['zipcode'].isnull(), :]"
   ]
  },
  {
   "cell_type": "code",
   "execution_count": 61,
   "metadata": {},
   "outputs": [],
   "source": [
    "df = df.loc[df['zipcode'].notnull(), :]"
   ]
  },
  {
   "cell_type": "code",
   "execution_count": 62,
   "metadata": {},
   "outputs": [],
   "source": [
    "df.to_sql('open_pv_clean', con=conn, if_exists=\"replace\")"
   ]
  },
  {
   "cell_type": "markdown",
   "metadata": {},
   "source": [
    "# Installer"
   ]
  },
  {
   "cell_type": "code",
   "execution_count": 63,
   "metadata": {},
   "outputs": [
    {
     "data": {
      "text/plain": [
       "SolarCity                            168125\n",
       "Vivint                                41615\n",
       "Sunpower                              19925\n",
       "Verengo                               16396\n",
       "Sungevity                             14939\n",
       "Rec Solar                             14291\n",
       "PetersenDean                          11235\n",
       "RGS/Real Goods                        10951\n",
       "Sunrun                                 9968\n",
       "Grid Alternatives                      8119\n",
       "Trinity Heating & Air                  7966\n",
       "Roof Diagnostics Solar & Electric      6012\n",
       "Self                                   5345\n",
       "American Solar Direct                  4917\n",
       "Direct Energy Solar                    4761\n",
       "American Solar Electric                4453\n",
       "Future Energy Corp                     4215\n",
       "Sullivan Solar Power                   4186\n",
       "Baker Electric                         3591\n",
       "Solar Service Center                   3295\n",
       "A1 Solar Power                         3180\n",
       "Next Step Living                       3172\n",
       "Solar Company                          3043\n",
       "Horizon Solar Power                    2660\n",
       "Solar Universe                         2623\n",
       "Trinity Solar                          2532\n",
       "Akeena                                 2463\n",
       "Sun Valley Solar Solutions             2348\n",
       "Heliopower                             2147\n",
       "Semper Solaris Construction            2095\n",
       "                                      ...  \n",
       "SOLAR SOLUTIONS PLUS, INC                 1\n",
       "Brundage Electric                         1\n",
       "Guerrier Electric                         1\n",
       "Hall'S All Renovation                     1\n",
       "Soliar                                    1\n",
       "Wtec                                      1\n",
       "Hale Custom Builders                      1\n",
       "Alliance Electric                         1\n",
       "North West Builders                       1\n",
       "Watts New Under                           1\n",
       "Girard Construction Co.                   1\n",
       "David Delorenzo                           1\n",
       "Deane Tompkins                            1\n",
       "Mccormick Owens Development               1\n",
       "Del Sol Energy Solutions                  1\n",
       "Solar Electric Company                    1\n",
       "Cgi Solar                                 1\n",
       "William Parrish                           1\n",
       "Regenesis Energy Services                 1\n",
       "Martins Electric                          1\n",
       "Richard Schirg & Sons                     1\n",
       "Star Solar                                1\n",
       "Zhen Hui Wu                               1\n",
       "Barter'S Electric                         1\n",
       "Brian Tarr                                1\n",
       "Hingham Municipal Lighting Plant          1\n",
       "Trademark Solar                           1\n",
       "Sylvia Marie                              1\n",
       "Ibrahim H Chalhoub                        1\n",
       "Maverick Woodworking                      1\n",
       "Name: installer, Length: 10958, dtype: int64"
      ]
     },
     "execution_count": 63,
     "metadata": {},
     "output_type": "execute_result"
    }
   ],
   "source": [
    "# installer is probably going to be regionally dependent, so maybe we can just do something similar to utility?\n",
    "\n",
    "df.installer.value_counts()"
   ]
  },
  {
   "cell_type": "code",
   "execution_count": 64,
   "metadata": {},
   "outputs": [
    {
     "data": {
      "text/html": [
       "<div>\n",
       "<style scoped>\n",
       "    .dataframe tbody tr th:only-of-type {\n",
       "        vertical-align: middle;\n",
       "    }\n",
       "\n",
       "    .dataframe tbody tr th {\n",
       "        vertical-align: top;\n",
       "    }\n",
       "\n",
       "    .dataframe thead th {\n",
       "        text-align: right;\n",
       "    }\n",
       "</style>\n",
       "<table border=\"1\" class=\"dataframe\">\n",
       "  <thead>\n",
       "    <tr style=\"text-align: right;\">\n",
       "      <th></th>\n",
       "      <th>0</th>\n",
       "    </tr>\n",
       "    <tr>\n",
       "      <th>installer</th>\n",
       "      <th></th>\n",
       "    </tr>\n",
       "  </thead>\n",
       "  <tbody>\n",
       "    <tr>\n",
       "      <th>SolarCity</th>\n",
       "      <td>4145</td>\n",
       "    </tr>\n",
       "    <tr>\n",
       "      <th>Sungevity</th>\n",
       "      <td>993</td>\n",
       "    </tr>\n",
       "    <tr>\n",
       "      <th>PetersenDean</th>\n",
       "      <td>799</td>\n",
       "    </tr>\n",
       "    <tr>\n",
       "      <th>Solar Company</th>\n",
       "      <td>496</td>\n",
       "    </tr>\n",
       "    <tr>\n",
       "      <th>Sun Light &amp; Power</th>\n",
       "      <td>436</td>\n",
       "    </tr>\n",
       "    <tr>\n",
       "      <th>Vivint</th>\n",
       "      <td>381</td>\n",
       "    </tr>\n",
       "    <tr>\n",
       "      <th>Rec Solar</th>\n",
       "      <td>361</td>\n",
       "    </tr>\n",
       "    <tr>\n",
       "      <th>Grid Alternatives</th>\n",
       "      <td>294</td>\n",
       "    </tr>\n",
       "    <tr>\n",
       "      <th>RGS/Real Goods</th>\n",
       "      <td>289</td>\n",
       "    </tr>\n",
       "    <tr>\n",
       "      <th>Sunrun</th>\n",
       "      <td>278</td>\n",
       "    </tr>\n",
       "    <tr>\n",
       "      <th>Solar Universe</th>\n",
       "      <td>262</td>\n",
       "    </tr>\n",
       "    <tr>\n",
       "      <th>Sky Power Systems</th>\n",
       "      <td>258</td>\n",
       "    </tr>\n",
       "    <tr>\n",
       "      <th>Bay Area Solar Solutions</th>\n",
       "      <td>249</td>\n",
       "    </tr>\n",
       "    <tr>\n",
       "      <th>A1 Solar Power</th>\n",
       "      <td>217</td>\n",
       "    </tr>\n",
       "    <tr>\n",
       "      <th>Complete Solar Solution</th>\n",
       "      <td>192</td>\n",
       "    </tr>\n",
       "    <tr>\n",
       "      <th>Clean Solar</th>\n",
       "      <td>170</td>\n",
       "    </tr>\n",
       "    <tr>\n",
       "      <th>A1 Sun</th>\n",
       "      <td>166</td>\n",
       "    </tr>\n",
       "    <tr>\n",
       "      <th>High Dedinition Solar</th>\n",
       "      <td>162</td>\n",
       "    </tr>\n",
       "    <tr>\n",
       "      <th>Next Energy</th>\n",
       "      <td>157</td>\n",
       "    </tr>\n",
       "    <tr>\n",
       "      <th>Solar Network Inc.</th>\n",
       "      <td>147</td>\n",
       "    </tr>\n",
       "    <tr>\n",
       "      <th>Diablo Solar Services</th>\n",
       "      <td>146</td>\n",
       "    </tr>\n",
       "    <tr>\n",
       "      <th>Sungate Energy Solutions</th>\n",
       "      <td>145</td>\n",
       "    </tr>\n",
       "    <tr>\n",
       "      <th>Super Solar</th>\n",
       "      <td>143</td>\n",
       "    </tr>\n",
       "    <tr>\n",
       "      <th>Akeena</th>\n",
       "      <td>137</td>\n",
       "    </tr>\n",
       "    <tr>\n",
       "      <th>Borrego Solar</th>\n",
       "      <td>135</td>\n",
       "    </tr>\n",
       "    <tr>\n",
       "      <th>Self</th>\n",
       "      <td>133</td>\n",
       "    </tr>\n",
       "    <tr>\n",
       "      <th>American Solar Direct</th>\n",
       "      <td>126</td>\n",
       "    </tr>\n",
       "    <tr>\n",
       "      <th>Future Energy Corp</th>\n",
       "      <td>126</td>\n",
       "    </tr>\n",
       "    <tr>\n",
       "      <th>Verengo</th>\n",
       "      <td>121</td>\n",
       "    </tr>\n",
       "    <tr>\n",
       "      <th>Sunpower</th>\n",
       "      <td>119</td>\n",
       "    </tr>\n",
       "    <tr>\n",
       "      <th>...</th>\n",
       "      <td>...</td>\n",
       "    </tr>\n",
       "    <tr>\n",
       "      <th>Gmi Construction</th>\n",
       "      <td>1</td>\n",
       "    </tr>\n",
       "    <tr>\n",
       "      <th>Gloria Solar</th>\n",
       "      <td>1</td>\n",
       "    </tr>\n",
       "    <tr>\n",
       "      <th>Glenn Forslin dba- Automation Solar</th>\n",
       "      <td>1</td>\n",
       "    </tr>\n",
       "    <tr>\n",
       "      <th>Glen Rand Concrete</th>\n",
       "      <td>1</td>\n",
       "    </tr>\n",
       "    <tr>\n",
       "      <th>Housing Construction Incorporation</th>\n",
       "      <td>1</td>\n",
       "    </tr>\n",
       "    <tr>\n",
       "      <th>I E T S</th>\n",
       "      <td>1</td>\n",
       "    </tr>\n",
       "    <tr>\n",
       "      <th>IC Equities LLC</th>\n",
       "      <td>1</td>\n",
       "    </tr>\n",
       "    <tr>\n",
       "      <th>Ideal Solar Solutions</th>\n",
       "      <td>1</td>\n",
       "    </tr>\n",
       "    <tr>\n",
       "      <th>Kimesmorris Construction</th>\n",
       "      <td>1</td>\n",
       "    </tr>\n",
       "    <tr>\n",
       "      <th>Kim Robinson</th>\n",
       "      <td>1</td>\n",
       "    </tr>\n",
       "    <tr>\n",
       "      <th>Killion Energy Dba Gci Solar</th>\n",
       "      <td>1</td>\n",
       "    </tr>\n",
       "    <tr>\n",
       "      <th>Keene Builders Plumbers &amp; Consultants</th>\n",
       "      <td>1</td>\n",
       "    </tr>\n",
       "    <tr>\n",
       "      <th>Keen Builders</th>\n",
       "      <td>1</td>\n",
       "    </tr>\n",
       "    <tr>\n",
       "      <th>Kaspzak Consulting</th>\n",
       "      <td>1</td>\n",
       "    </tr>\n",
       "    <tr>\n",
       "      <th>Joseph Vierra</th>\n",
       "      <td>1</td>\n",
       "    </tr>\n",
       "    <tr>\n",
       "      <th>Jonathan A Vernot</th>\n",
       "      <td>1</td>\n",
       "    </tr>\n",
       "    <tr>\n",
       "      <th>John White</th>\n",
       "      <td>1</td>\n",
       "    </tr>\n",
       "    <tr>\n",
       "      <th>John Croll Construction</th>\n",
       "      <td>1</td>\n",
       "    </tr>\n",
       "    <tr>\n",
       "      <th>Jim Mccoy</th>\n",
       "      <td>1</td>\n",
       "    </tr>\n",
       "    <tr>\n",
       "      <th>Jerry'S Plumbing &amp; Electric</th>\n",
       "      <td>1</td>\n",
       "    </tr>\n",
       "    <tr>\n",
       "      <th>Jason's Electric</th>\n",
       "      <td>1</td>\n",
       "    </tr>\n",
       "    <tr>\n",
       "      <th>James K. Collins</th>\n",
       "      <td>1</td>\n",
       "    </tr>\n",
       "    <tr>\n",
       "      <th>Jake Tornatzky</th>\n",
       "      <td>1</td>\n",
       "    </tr>\n",
       "    <tr>\n",
       "      <th>JTM Development</th>\n",
       "      <td>1</td>\n",
       "    </tr>\n",
       "    <tr>\n",
       "      <th>JP &amp; Sun</th>\n",
       "      <td>1</td>\n",
       "    </tr>\n",
       "    <tr>\n",
       "      <th>JC Innovative Energies</th>\n",
       "      <td>1</td>\n",
       "    </tr>\n",
       "    <tr>\n",
       "      <th>J &amp; J Gas &amp; Electric</th>\n",
       "      <td>1</td>\n",
       "    </tr>\n",
       "    <tr>\n",
       "      <th>Inviro Solutions Group</th>\n",
       "      <td>1</td>\n",
       "    </tr>\n",
       "    <tr>\n",
       "      <th>Intelisolar</th>\n",
       "      <td>1</td>\n",
       "    </tr>\n",
       "    <tr>\n",
       "      <th>advance home energy</th>\n",
       "      <td>1</td>\n",
       "    </tr>\n",
       "  </tbody>\n",
       "</table>\n",
       "<p>613 rows × 1 columns</p>\n",
       "</div>"
      ],
      "text/plain": [
       "                                          0\n",
       "installer                                  \n",
       "SolarCity                              4145\n",
       "Sungevity                               993\n",
       "PetersenDean                            799\n",
       "Solar Company                           496\n",
       "Sun Light & Power                       436\n",
       "Vivint                                  381\n",
       "Rec Solar                               361\n",
       "Grid Alternatives                       294\n",
       "RGS/Real Goods                          289\n",
       "Sunrun                                  278\n",
       "Solar Universe                          262\n",
       "Sky Power Systems                       258\n",
       "Bay Area Solar Solutions                249\n",
       "A1 Solar Power                          217\n",
       "Complete Solar Solution                 192\n",
       "Clean Solar                             170\n",
       "A1 Sun                                  166\n",
       "High Dedinition Solar                   162\n",
       "Next Energy                             157\n",
       "Solar Network Inc.                      147\n",
       "Diablo Solar Services                   146\n",
       "Sungate Energy Solutions                145\n",
       "Super Solar                             143\n",
       "Akeena                                  137\n",
       "Borrego Solar                           135\n",
       "Self                                    133\n",
       "American Solar Direct                   126\n",
       "Future Energy Corp                      126\n",
       "Verengo                                 121\n",
       "Sunpower                                119\n",
       "...                                     ...\n",
       "Gmi Construction                          1\n",
       "Gloria Solar                              1\n",
       "Glenn Forslin dba- Automation Solar       1\n",
       "Glen Rand Concrete                        1\n",
       "Housing Construction Incorporation        1\n",
       "I E T S                                   1\n",
       "IC Equities LLC                           1\n",
       "Ideal Solar Solutions                     1\n",
       "Kimesmorris Construction                  1\n",
       "Kim Robinson                              1\n",
       "Killion Energy Dba Gci Solar              1\n",
       "Keene Builders Plumbers & Consultants     1\n",
       "Keen Builders                             1\n",
       "Kaspzak Consulting                        1\n",
       "Joseph Vierra                             1\n",
       "Jonathan A Vernot                         1\n",
       "John White                                1\n",
       "John Croll Construction                   1\n",
       "Jim Mccoy                                 1\n",
       "Jerry'S Plumbing & Electric               1\n",
       "Jason's Electric                          1\n",
       "James K. Collins                          1\n",
       "Jake Tornatzky                            1\n",
       "JTM Development                           1\n",
       "JP & Sun                                  1\n",
       "JC Innovative Energies                    1\n",
       "J & J Gas & Electric                      1\n",
       "Inviro Solutions Group                    1\n",
       "Intelisolar                               1\n",
       "advance home energy                       1\n",
       "\n",
       "[613 rows x 1 columns]"
      ]
     },
     "execution_count": 64,
     "metadata": {},
     "output_type": "execute_result"
    }
   ],
   "source": [
    "# doesn't look like there's necesarily a clear connection between county and installer.\n",
    "\n",
    "mask = df['county'] == \"Alameda\"\n",
    "county_installers = pd.DataFrame(df.loc[mask, :].groupby(['installer']).size()).sort_values(0, ascending=False)\n",
    "county_installers"
   ]
  },
  {
   "cell_type": "code",
   "execution_count": 65,
   "metadata": {},
   "outputs": [],
   "source": [
    "sc_percent = 4145./sum(county_installers.values)[0]"
   ]
  },
  {
   "cell_type": "code",
   "execution_count": 66,
   "metadata": {},
   "outputs": [
    {
     "data": {
      "text/plain": [
       "0.2679206256867688"
      ]
     },
     "execution_count": 66,
     "metadata": {},
     "output_type": "execute_result"
    }
   ],
   "source": [
    "# solar city is 4 times bigger than the next biggest installer in alameda county and yet only as 26% of the installations.\n",
    "\n",
    "sc_percent"
   ]
  },
  {
   "cell_type": "code",
   "execution_count": 67,
   "metadata": {},
   "outputs": [
    {
     "data": {
      "text/plain": [
       "10958"
      ]
     },
     "execution_count": 67,
     "metadata": {},
     "output_type": "execute_result"
    }
   ],
   "source": [
    "# also, there's 10k installers... seems insane that I would actually use this as a feature.\n",
    "\n",
    "len(df.installer.value_counts())"
   ]
  },
  {
   "cell_type": "code",
   "execution_count": 69,
   "metadata": {},
   "outputs": [
    {
     "name": "stdout",
     "output_type": "stream",
     "text": [
      "TX Advanced Solar & Electric 0.21459747817652763\n",
      "IN Whole Sun Designs Inc 0.2334096109839817\n",
      "CA SolarCity 0.22479790241619602\n",
      "OK Paradise Energy Solutions 1.0\n",
      "OH Paradise Energy Solutions 0.88\n",
      "IL Solar Service 0.11616161616161616\n",
      "MI no installers 0\n",
      "VA Paradise Energy Solutions 0.8636363636363636\n",
      "WI Arch Electric - 297 0.09651898734177215\n",
      "CO no installers 0\n",
      "MD SolarCity 0.1695865451997197\n",
      "FL Solar Impact 0.11544628540887227\n",
      "NY Paradise Energy Solutions 0.7171717171717171\n",
      "MA SolarCity 0.2862848665655923\n",
      "PA Direct Energy Solar 0.07052054061287301\n",
      "AZ SolarCity 0.4263691110971708\n",
      "UT no installers 0\n",
      "KY Morton Solar, LLC 0.7777777777777778\n",
      "DE Sungevity 0.16869095816464239\n",
      "WA no installers 0\n",
      "IA Ideal Energy 0.9137931034482759\n",
      "MS no installers 0\n",
      "HI no installers 0\n",
      "KS SoCore Energy 1.0\n",
      "GA no installers 0\n",
      "ME ReVision Energy 0.5652173913043478\n",
      "NH Revision Energy 0.5827067669172933\n",
      "CT SolarCity 0.3188865828348187\n",
      "VT Integrated Solar and REC Solar 1.0\n",
      "NM Consolidated Solar Technologies 0.20312256049960967\n",
      "AL no installers 0\n",
      "MO Microgrid Solar Energy 0.1583287520615723\n",
      "NJ Trinity Heating & Air 0.1895603741698998\n",
      "AK no installers 0\n",
      "MN All Energy Solar 0.21241050119331742\n",
      "MT no installers 0\n",
      "ID Creative Energies 0.42857142857142855\n",
      "SD Creative Energies 1.0\n",
      "ND no installers 0\n",
      "RI no installers 0\n",
      "NE Nebraska Wind and Solar 1.0\n",
      "TN no installers 0\n",
      "DC no installers 0\n",
      "OR Green Store 0.07692307692307693\n",
      "LA Pontchartrain Mechanical 1.0\n",
      "AR Liberty Solar Solutions 0.20408163265306123\n",
      "WV no installers 0\n",
      "WY no installers 0\n",
      "NC no installers 0\n",
      "NV SolarCity 0.5217361207254604\n",
      "SC no installers 0\n",
      "PR no installers 0\n"
     ]
    },
    {
     "data": {
      "text/html": [
       "<div>\n",
       "<style scoped>\n",
       "    .dataframe tbody tr th:only-of-type {\n",
       "        vertical-align: middle;\n",
       "    }\n",
       "\n",
       "    .dataframe tbody tr th {\n",
       "        vertical-align: top;\n",
       "    }\n",
       "\n",
       "    .dataframe thead th {\n",
       "        text-align: right;\n",
       "    }\n",
       "</style>\n",
       "<table border=\"1\" class=\"dataframe\">\n",
       "  <thead>\n",
       "    <tr style=\"text-align: right;\">\n",
       "      <th></th>\n",
       "      <th>mode_installer</th>\n",
       "      <th>state</th>\n",
       "    </tr>\n",
       "  </thead>\n",
       "  <tbody>\n",
       "    <tr>\n",
       "      <th>0</th>\n",
       "      <td>Advanced Solar &amp; Electric</td>\n",
       "      <td>TX</td>\n",
       "    </tr>\n",
       "    <tr>\n",
       "      <th>1</th>\n",
       "      <td>Whole Sun Designs Inc</td>\n",
       "      <td>IN</td>\n",
       "    </tr>\n",
       "    <tr>\n",
       "      <th>2</th>\n",
       "      <td>SolarCity</td>\n",
       "      <td>CA</td>\n",
       "    </tr>\n",
       "    <tr>\n",
       "      <th>3</th>\n",
       "      <td>Paradise Energy Solutions</td>\n",
       "      <td>OK</td>\n",
       "    </tr>\n",
       "    <tr>\n",
       "      <th>4</th>\n",
       "      <td>Paradise Energy Solutions</td>\n",
       "      <td>OH</td>\n",
       "    </tr>\n",
       "    <tr>\n",
       "      <th>5</th>\n",
       "      <td>Solar Service</td>\n",
       "      <td>IL</td>\n",
       "    </tr>\n",
       "    <tr>\n",
       "      <th>6</th>\n",
       "      <td>no installers</td>\n",
       "      <td>MI</td>\n",
       "    </tr>\n",
       "    <tr>\n",
       "      <th>7</th>\n",
       "      <td>Paradise Energy Solutions</td>\n",
       "      <td>VA</td>\n",
       "    </tr>\n",
       "    <tr>\n",
       "      <th>8</th>\n",
       "      <td>Arch Electric - 297</td>\n",
       "      <td>WI</td>\n",
       "    </tr>\n",
       "    <tr>\n",
       "      <th>9</th>\n",
       "      <td>no installers</td>\n",
       "      <td>CO</td>\n",
       "    </tr>\n",
       "    <tr>\n",
       "      <th>10</th>\n",
       "      <td>SolarCity</td>\n",
       "      <td>MD</td>\n",
       "    </tr>\n",
       "    <tr>\n",
       "      <th>11</th>\n",
       "      <td>Solar Impact</td>\n",
       "      <td>FL</td>\n",
       "    </tr>\n",
       "    <tr>\n",
       "      <th>12</th>\n",
       "      <td>Paradise Energy Solutions</td>\n",
       "      <td>NY</td>\n",
       "    </tr>\n",
       "    <tr>\n",
       "      <th>13</th>\n",
       "      <td>SolarCity</td>\n",
       "      <td>MA</td>\n",
       "    </tr>\n",
       "    <tr>\n",
       "      <th>14</th>\n",
       "      <td>Direct Energy Solar</td>\n",
       "      <td>PA</td>\n",
       "    </tr>\n",
       "    <tr>\n",
       "      <th>15</th>\n",
       "      <td>SolarCity</td>\n",
       "      <td>AZ</td>\n",
       "    </tr>\n",
       "    <tr>\n",
       "      <th>16</th>\n",
       "      <td>no installers</td>\n",
       "      <td>UT</td>\n",
       "    </tr>\n",
       "    <tr>\n",
       "      <th>17</th>\n",
       "      <td>Morton Solar, LLC</td>\n",
       "      <td>KY</td>\n",
       "    </tr>\n",
       "    <tr>\n",
       "      <th>18</th>\n",
       "      <td>Sungevity</td>\n",
       "      <td>DE</td>\n",
       "    </tr>\n",
       "    <tr>\n",
       "      <th>19</th>\n",
       "      <td>no installers</td>\n",
       "      <td>WA</td>\n",
       "    </tr>\n",
       "    <tr>\n",
       "      <th>20</th>\n",
       "      <td>Ideal Energy</td>\n",
       "      <td>IA</td>\n",
       "    </tr>\n",
       "    <tr>\n",
       "      <th>21</th>\n",
       "      <td>no installers</td>\n",
       "      <td>MS</td>\n",
       "    </tr>\n",
       "    <tr>\n",
       "      <th>22</th>\n",
       "      <td>no installers</td>\n",
       "      <td>HI</td>\n",
       "    </tr>\n",
       "    <tr>\n",
       "      <th>23</th>\n",
       "      <td>SoCore Energy</td>\n",
       "      <td>KS</td>\n",
       "    </tr>\n",
       "    <tr>\n",
       "      <th>24</th>\n",
       "      <td>no installers</td>\n",
       "      <td>GA</td>\n",
       "    </tr>\n",
       "    <tr>\n",
       "      <th>25</th>\n",
       "      <td>ReVision Energy</td>\n",
       "      <td>ME</td>\n",
       "    </tr>\n",
       "    <tr>\n",
       "      <th>26</th>\n",
       "      <td>Revision Energy</td>\n",
       "      <td>NH</td>\n",
       "    </tr>\n",
       "    <tr>\n",
       "      <th>27</th>\n",
       "      <td>SolarCity</td>\n",
       "      <td>CT</td>\n",
       "    </tr>\n",
       "    <tr>\n",
       "      <th>28</th>\n",
       "      <td>Integrated Solar and REC Solar</td>\n",
       "      <td>VT</td>\n",
       "    </tr>\n",
       "    <tr>\n",
       "      <th>29</th>\n",
       "      <td>Consolidated Solar Technologies</td>\n",
       "      <td>NM</td>\n",
       "    </tr>\n",
       "    <tr>\n",
       "      <th>30</th>\n",
       "      <td>no installers</td>\n",
       "      <td>AL</td>\n",
       "    </tr>\n",
       "    <tr>\n",
       "      <th>31</th>\n",
       "      <td>Microgrid Solar Energy</td>\n",
       "      <td>MO</td>\n",
       "    </tr>\n",
       "    <tr>\n",
       "      <th>32</th>\n",
       "      <td>Trinity Heating &amp; Air</td>\n",
       "      <td>NJ</td>\n",
       "    </tr>\n",
       "    <tr>\n",
       "      <th>33</th>\n",
       "      <td>no installers</td>\n",
       "      <td>AK</td>\n",
       "    </tr>\n",
       "    <tr>\n",
       "      <th>34</th>\n",
       "      <td>All Energy Solar</td>\n",
       "      <td>MN</td>\n",
       "    </tr>\n",
       "    <tr>\n",
       "      <th>35</th>\n",
       "      <td>no installers</td>\n",
       "      <td>MT</td>\n",
       "    </tr>\n",
       "    <tr>\n",
       "      <th>36</th>\n",
       "      <td>Creative Energies</td>\n",
       "      <td>ID</td>\n",
       "    </tr>\n",
       "    <tr>\n",
       "      <th>37</th>\n",
       "      <td>Creative Energies</td>\n",
       "      <td>SD</td>\n",
       "    </tr>\n",
       "    <tr>\n",
       "      <th>38</th>\n",
       "      <td>no installers</td>\n",
       "      <td>ND</td>\n",
       "    </tr>\n",
       "    <tr>\n",
       "      <th>39</th>\n",
       "      <td>no installers</td>\n",
       "      <td>RI</td>\n",
       "    </tr>\n",
       "    <tr>\n",
       "      <th>40</th>\n",
       "      <td>Nebraska Wind and Solar</td>\n",
       "      <td>NE</td>\n",
       "    </tr>\n",
       "    <tr>\n",
       "      <th>41</th>\n",
       "      <td>no installers</td>\n",
       "      <td>TN</td>\n",
       "    </tr>\n",
       "    <tr>\n",
       "      <th>42</th>\n",
       "      <td>no installers</td>\n",
       "      <td>DC</td>\n",
       "    </tr>\n",
       "    <tr>\n",
       "      <th>43</th>\n",
       "      <td>Green Store</td>\n",
       "      <td>OR</td>\n",
       "    </tr>\n",
       "    <tr>\n",
       "      <th>44</th>\n",
       "      <td>Pontchartrain Mechanical</td>\n",
       "      <td>LA</td>\n",
       "    </tr>\n",
       "    <tr>\n",
       "      <th>45</th>\n",
       "      <td>Liberty Solar Solutions</td>\n",
       "      <td>AR</td>\n",
       "    </tr>\n",
       "    <tr>\n",
       "      <th>46</th>\n",
       "      <td>no installers</td>\n",
       "      <td>WV</td>\n",
       "    </tr>\n",
       "    <tr>\n",
       "      <th>47</th>\n",
       "      <td>no installers</td>\n",
       "      <td>WY</td>\n",
       "    </tr>\n",
       "    <tr>\n",
       "      <th>48</th>\n",
       "      <td>no installers</td>\n",
       "      <td>NC</td>\n",
       "    </tr>\n",
       "    <tr>\n",
       "      <th>49</th>\n",
       "      <td>SolarCity</td>\n",
       "      <td>NV</td>\n",
       "    </tr>\n",
       "    <tr>\n",
       "      <th>50</th>\n",
       "      <td>no installers</td>\n",
       "      <td>SC</td>\n",
       "    </tr>\n",
       "    <tr>\n",
       "      <th>51</th>\n",
       "      <td>no installers</td>\n",
       "      <td>PR</td>\n",
       "    </tr>\n",
       "  </tbody>\n",
       "</table>\n",
       "</div>"
      ],
      "text/plain": [
       "                     mode_installer state\n",
       "0         Advanced Solar & Electric    TX\n",
       "1             Whole Sun Designs Inc    IN\n",
       "2                         SolarCity    CA\n",
       "3         Paradise Energy Solutions    OK\n",
       "4         Paradise Energy Solutions    OH\n",
       "5                     Solar Service    IL\n",
       "6                     no installers    MI\n",
       "7         Paradise Energy Solutions    VA\n",
       "8               Arch Electric - 297    WI\n",
       "9                     no installers    CO\n",
       "10                        SolarCity    MD\n",
       "11                     Solar Impact    FL\n",
       "12        Paradise Energy Solutions    NY\n",
       "13                        SolarCity    MA\n",
       "14              Direct Energy Solar    PA\n",
       "15                        SolarCity    AZ\n",
       "16                    no installers    UT\n",
       "17                Morton Solar, LLC    KY\n",
       "18                        Sungevity    DE\n",
       "19                    no installers    WA\n",
       "20                     Ideal Energy    IA\n",
       "21                    no installers    MS\n",
       "22                    no installers    HI\n",
       "23                    SoCore Energy    KS\n",
       "24                    no installers    GA\n",
       "25                  ReVision Energy    ME\n",
       "26                  Revision Energy    NH\n",
       "27                        SolarCity    CT\n",
       "28   Integrated Solar and REC Solar    VT\n",
       "29  Consolidated Solar Technologies    NM\n",
       "30                    no installers    AL\n",
       "31           Microgrid Solar Energy    MO\n",
       "32            Trinity Heating & Air    NJ\n",
       "33                    no installers    AK\n",
       "34                 All Energy Solar    MN\n",
       "35                    no installers    MT\n",
       "36                Creative Energies    ID\n",
       "37                Creative Energies    SD\n",
       "38                    no installers    ND\n",
       "39                    no installers    RI\n",
       "40          Nebraska Wind and Solar    NE\n",
       "41                    no installers    TN\n",
       "42                    no installers    DC\n",
       "43                      Green Store    OR\n",
       "44         Pontchartrain Mechanical    LA\n",
       "45          Liberty Solar Solutions    AR\n",
       "46                    no installers    WV\n",
       "47                    no installers    WY\n",
       "48                    no installers    NC\n",
       "49                        SolarCity    NV\n",
       "50                    no installers    SC\n",
       "51                    no installers    PR"
      ]
     },
     "execution_count": 69,
     "metadata": {},
     "output_type": "execute_result"
    }
   ],
   "source": [
    "state_installers = []\n",
    "\n",
    "for state in states:\n",
    "    non_nulls = df.loc[df['state'] == state, 'installer'].notnull().sum()\n",
    "    mode_installer = None\n",
    "    if non_nulls == 0:\n",
    "        print(state, \"no installers\", 0)\n",
    "        mode_installer = \"no installers\"\n",
    "    else:\n",
    "        percent_biggest = float(df.loc[df['state'] == state, 'installer'].value_counts().values[0])/sum(df.loc[df['state'] == state, 'installer'].value_counts().values)\n",
    "        print(state, df.loc[df['state'] == state, 'installer'].value_counts().index[0], percent_biggest)\n",
    "        mode_installer = df.loc[df['state'] == state, 'installer'].value_counts().index[0]\n",
    "    state_installers.append({\n",
    "        \"state\": state,\n",
    "        \"mode_installer\": mode_installer\n",
    "    }\n",
    "    )\n",
    "\n",
    "state_mode_installers = pd.DataFrame(state_installers)\n",
    "state_mode_installers"
   ]
  },
  {
   "cell_type": "code",
   "execution_count": 70,
   "metadata": {},
   "outputs": [
    {
     "data": {
      "text/plain": [
       "SolarCity                            168125\n",
       "Vivint                                41615\n",
       "Sunpower                              19925\n",
       "Verengo                               16396\n",
       "Sungevity                             14939\n",
       "Rec Solar                             14291\n",
       "PetersenDean                          11235\n",
       "RGS/Real Goods                        10951\n",
       "Sunrun                                 9968\n",
       "Grid Alternatives                      8119\n",
       "Trinity Heating & Air                  7966\n",
       "Roof Diagnostics Solar & Electric      6012\n",
       "Self                                   5345\n",
       "American Solar Direct                  4917\n",
       "Direct Energy Solar                    4761\n",
       "American Solar Electric                4453\n",
       "Future Energy Corp                     4215\n",
       "Sullivan Solar Power                   4186\n",
       "Baker Electric                         3591\n",
       "Solar Service Center                   3295\n",
       "A1 Solar Power                         3180\n",
       "Next Step Living                       3172\n",
       "Solar Company                          3043\n",
       "Horizon Solar Power                    2660\n",
       "Solar Universe                         2623\n",
       "Trinity Solar                          2532\n",
       "Akeena                                 2463\n",
       "Sun Valley Solar Solutions             2348\n",
       "Heliopower                             2147\n",
       "Semper Solaris Construction            2095\n",
       "                                      ...  \n",
       "SOLAR SOLUTIONS PLUS, INC                 1\n",
       "Brundage Electric                         1\n",
       "Guerrier Electric                         1\n",
       "Hall'S All Renovation                     1\n",
       "Soliar                                    1\n",
       "Wtec                                      1\n",
       "Hale Custom Builders                      1\n",
       "Alliance Electric                         1\n",
       "North West Builders                       1\n",
       "Watts New Under                           1\n",
       "Girard Construction Co.                   1\n",
       "David Delorenzo                           1\n",
       "Deane Tompkins                            1\n",
       "Mccormick Owens Development               1\n",
       "Del Sol Energy Solutions                  1\n",
       "Solar Electric Company                    1\n",
       "Cgi Solar                                 1\n",
       "William Parrish                           1\n",
       "Regenesis Energy Services                 1\n",
       "Martins Electric                          1\n",
       "Richard Schirg & Sons                     1\n",
       "Star Solar                                1\n",
       "Zhen Hui Wu                               1\n",
       "Barter'S Electric                         1\n",
       "Brian Tarr                                1\n",
       "Hingham Municipal Lighting Plant          1\n",
       "Trademark Solar                           1\n",
       "Sylvia Marie                              1\n",
       "Ibrahim H Chalhoub                        1\n",
       "Maverick Woodworking                      1\n",
       "Name: installer, Length: 10958, dtype: int64"
      ]
     },
     "execution_count": 70,
     "metadata": {},
     "output_type": "execute_result"
    }
   ],
   "source": [
    "df['installer'].value_counts()"
   ]
  },
  {
   "cell_type": "code",
   "execution_count": 71,
   "metadata": {},
   "outputs": [
    {
     "data": {
      "text/plain": [
       "Index(['state', 'date_installed', 'incentive_prog_names', 'type', 'size_kw',\n",
       "       'appraised', 'zipcode', 'install_type', 'installer', 'cost_per_watt',\n",
       "       'cost', 'lbnl_tts_version_year', 'lbnl_tts', 'city', 'utility_clean',\n",
       "       'tech_1', 'model1_clean', 'county', 'annual_PV_prod',\n",
       "       'annual_insolation', 'rebate', 'sales_tax_cost', 'tilt1',\n",
       "       'tracking_type', 'azimuth1', 'manuf2_clean', 'manuf3_clean',\n",
       "       'manuf1_clean', 'inv_man_clean', 'reported_annual_energy_prod', 'year',\n",
       "       'pbi_length', 'utility', 'bipv_3', 'bipv_2', 'bipv_1', 'new_constr',\n",
       "       'tracking', '3rdparty'],\n",
       "      dtype='object')"
      ]
     },
     "execution_count": 71,
     "metadata": {},
     "output_type": "execute_result"
    }
   ],
   "source": [
    "df.columns"
   ]
  },
  {
   "cell_type": "code",
   "execution_count": 72,
   "metadata": {},
   "outputs": [
    {
     "data": {
      "text/plain": [
       "Poly           121271\n",
       "crystalline      2664\n",
       "Mono             2658\n",
       "CdTe              585\n",
       "Mono + a-Si       297\n",
       "CIGS                8\n",
       "a-Si                3\n",
       "Name: tech_1, dtype: int64"
      ]
     },
     "execution_count": 72,
     "metadata": {},
     "output_type": "execute_result"
    }
   ],
   "source": [
    "# interesting, looks like solarcity doesn't install many mono systems, maybe we can assign all the blanks\n",
    "# to solarcity if they're not mono, and see who the biggest installer is for mono and assign the rest to that one.\n",
    "\n",
    "\n",
    "# should go work on tech_1 next, this seems really important.\n",
    "# crystalline should probably be changed to \"poly\" because \n",
    "df.loc[df['installer'] == 'SolarCity', 'tech_1'].value_counts()"
   ]
  },
  {
   "cell_type": "code",
   "execution_count": 73,
   "metadata": {},
   "outputs": [
    {
     "data": {
      "text/plain": [
       "Sunpower                                                     14743\n",
       "RGS/Real Goods                                                5156\n",
       "Verengo                                                       4768\n",
       "PetersenDean                                                  4339\n",
       "Sungevity                                                     4107\n",
       "Future Energy Corp                                            3349\n",
       "Trinity Heating & Air                                         3135\n",
       "Baker Electric                                                2855\n",
       "Solar Company                                                 2760\n",
       "SolarCity                                                     2658\n",
       "A1 Solar Power                                                2356\n",
       "Sullivan Solar Power                                          1790\n",
       "Semper Solaris Construction                                   1724\n",
       "Akeena                                                        1633\n",
       "Self                                                          1572\n",
       "Leonard Roofing                                               1566\n",
       "Direct Energy Solar                                           1350\n",
       "Acro Energy Technologies                                      1262\n",
       "American Solar Electric                                       1131\n",
       "Cobalt Power Systems                                          1100\n",
       "Roof Diagnostics Solar & Electric                             1067\n",
       "Solar West Electric                                           1044\n",
       "Natural Energy                                                1018\n",
       "Smart Energy Solar                                             982\n",
       "Clean Solar                                                    979\n",
       "Sun Solar Energy Solutiions                                    960\n",
       "Elite Electric                                                 950\n",
       "Alternate Energy Systems                                       938\n",
       "Stellar Solar                                                  929\n",
       "Fralick Homes                                                  888\n",
       "                                                             ...  \n",
       "Lux Energy                                                       1\n",
       "Rico's General Construction                                      1\n",
       "Independent Energy Technologies                                  1\n",
       "Advanced Solar Integration Technologies                          1\n",
       "Barr West Electric                                               1\n",
       "Lalley Construction                                              1\n",
       "SilRay Inc                                                       1\n",
       "Sota Construction Services                                       1\n",
       "Al Construction Tech                                             1\n",
       "Lee Limperis Construction                                        1\n",
       "Modern Solar Electric                                            1\n",
       "Pro Star Services                                                1\n",
       "Mpe consulting                                                   1\n",
       "Michelle Kaufmann Homes Dba Mkhomes                              1\n",
       "Home Tight Inc                                                   1\n",
       "Helio Construction                                               1\n",
       "Pro Energy Solutions                                             1\n",
       "Millennium Builders                                              1\n",
       "Banner Air                                                       1\n",
       "Just Do It Builders                                              1\n",
       "Alternative Green Energy                                         1\n",
       "Backyard Solar                                                   1\n",
       "Rbs Solar                                                        1\n",
       "Ez Custom Electric                                               1\n",
       "pennies air conditioning, heating, solar and construction        1\n",
       "Boersma Construction                                             1\n",
       "Solus Energy                                                     1\n",
       "Tech Electric                                                    1\n",
       "Clean & Green Alternatives                                       1\n",
       "Mp2 Capital                                                      1\n",
       "Name: installer, Length: 4804, dtype: int64"
      ]
     },
     "execution_count": 73,
     "metadata": {},
     "output_type": "execute_result"
    }
   ],
   "source": [
    "# sunpower appears to be far and away the biggest installer of these kind.\n",
    "\n",
    "df.loc[df['tech_1'] == 'Mono', 'installer'].value_counts()"
   ]
  },
  {
   "cell_type": "code",
   "execution_count": 74,
   "metadata": {},
   "outputs": [
    {
     "data": {
      "text/plain": [
       "190005"
      ]
     },
     "execution_count": 74,
     "metadata": {},
     "output_type": "execute_result"
    }
   ],
   "source": [
    "df.loc[df['tech_1'] == 'Mono', 'installer'].notnull().sum()"
   ]
  },
  {
   "cell_type": "code",
   "execution_count": 75,
   "metadata": {},
   "outputs": [
    {
     "data": {
      "text/plain": [
       "Sunpower                                                     14743\n",
       "RGS/Real Goods                                                5156\n",
       "Verengo                                                       4768\n",
       "PetersenDean                                                  4339\n",
       "Sungevity                                                     4107\n",
       "Future Energy Corp                                            3349\n",
       "Trinity Heating & Air                                         3135\n",
       "Baker Electric                                                2855\n",
       "Solar Company                                                 2760\n",
       "SolarCity                                                     2658\n",
       "A1 Solar Power                                                2356\n",
       "Sullivan Solar Power                                          1790\n",
       "Semper Solaris Construction                                   1724\n",
       "Akeena                                                        1633\n",
       "Self                                                          1572\n",
       "Leonard Roofing                                               1566\n",
       "Direct Energy Solar                                           1350\n",
       "Acro Energy Technologies                                      1262\n",
       "American Solar Electric                                       1131\n",
       "Cobalt Power Systems                                          1100\n",
       "Roof Diagnostics Solar & Electric                             1067\n",
       "Solar West Electric                                           1044\n",
       "Natural Energy                                                1018\n",
       "Smart Energy Solar                                             982\n",
       "Clean Solar                                                    979\n",
       "Sun Solar Energy Solutiions                                    960\n",
       "Elite Electric                                                 950\n",
       "Alternate Energy Systems                                       938\n",
       "Stellar Solar                                                  929\n",
       "Fralick Homes                                                  888\n",
       "                                                             ...  \n",
       "Lux Energy                                                       1\n",
       "Rico's General Construction                                      1\n",
       "Independent Energy Technologies                                  1\n",
       "Advanced Solar Integration Technologies                          1\n",
       "Barr West Electric                                               1\n",
       "Lalley Construction                                              1\n",
       "SilRay Inc                                                       1\n",
       "Sota Construction Services                                       1\n",
       "Al Construction Tech                                             1\n",
       "Lee Limperis Construction                                        1\n",
       "Modern Solar Electric                                            1\n",
       "Pro Star Services                                                1\n",
       "Mpe consulting                                                   1\n",
       "Michelle Kaufmann Homes Dba Mkhomes                              1\n",
       "Home Tight Inc                                                   1\n",
       "Helio Construction                                               1\n",
       "Pro Energy Solutions                                             1\n",
       "Millennium Builders                                              1\n",
       "Banner Air                                                       1\n",
       "Just Do It Builders                                              1\n",
       "Alternative Green Energy                                         1\n",
       "Backyard Solar                                                   1\n",
       "Rbs Solar                                                        1\n",
       "Ez Custom Electric                                               1\n",
       "pennies air conditioning, heating, solar and construction        1\n",
       "Boersma Construction                                             1\n",
       "Solus Energy                                                     1\n",
       "Tech Electric                                                    1\n",
       "Clean & Green Alternatives                                       1\n",
       "Mp2 Capital                                                      1\n",
       "Name: installer, Length: 4804, dtype: int64"
      ]
     },
     "execution_count": 75,
     "metadata": {},
     "output_type": "execute_result"
    }
   ],
   "source": [
    "df.loc[df['tech_1'] == 'Mono', 'installer'].value_counts()"
   ]
  },
  {
   "cell_type": "code",
   "execution_count": 76,
   "metadata": {},
   "outputs": [
    {
     "data": {
      "text/plain": [
       "Solar Service                                  46\n",
       "Kapital Electric                               32\n",
       "Solar Energy Of Illinois                       28\n",
       "Earth Wind & Solar Energy                      22\n",
       "Ailey Solar Electric                           22\n",
       "Self                                           20\n",
       "Renewable Energy Alternatives                  18\n",
       "Tick Tock Energy                               16\n",
       "Day & Night Solar                              14\n",
       "Central Illinois Wind & Solar                  13\n",
       "Nadler Electrical Contracting                  13\n",
       "Straightup Solar                               12\n",
       "Wcp Solar Services                             12\n",
       "Sunair Systems                                 11\n",
       "Windfree Wind & Solar                          10\n",
       "Tropic Construction                             7\n",
       "Morton Solar                                    7\n",
       "Title Electric Company                          6\n",
       "Renewable Alternative Energy                    5\n",
       "Magitek Energy Solutions                        5\n",
       "Whole Sun Designs Inc                           4\n",
       "Eco Home Expert                                 3\n",
       "Continental Electrical Construction Co          3\n",
       "Midwest Wind & Solar                            3\n",
       "Dale Balder Heavenly Winds                      3\n",
       "Vlv Green Initiative                            2\n",
       "Heavenly Winds                                  2\n",
       "Jd Pro Electric                                 2\n",
       "Eco Home Export                                 2\n",
       "Efs Energy                                      2\n",
       "                                               ..\n",
       "Juhl Energy                                     1\n",
       "New Prairie Construction                        1\n",
       "Hickey Electrical Contractors                   1\n",
       "Dale E Balder                                   1\n",
       "Tri-City Electric Co                            1\n",
       "ActiveX VT_ERROR:                               1\n",
       "Southern Lights                                 1\n",
       "Envision Solar                                  1\n",
       "Solar Comfort                                   1\n",
       "Jason Hark                                      1\n",
       "Wilcox Electric & Service                       1\n",
       "Solergy                                         1\n",
       "Schneider Electric                              1\n",
       "Boost Your Eco                                  1\n",
       "Habi-Tek - 3231                                 1\n",
       "Hoeper Green Power                              1\n",
       "Winsol Power Company                            1\n",
       "Tim Ridgely                                     1\n",
       "Akula                                           1\n",
       "Ace                                             1\n",
       "Jim Anderson                                    1\n",
       "Independent Energy Systems                      1\n",
       "Microgrid Solar Energy                          1\n",
       "Advanced Energy Solutions                       1\n",
       "Carlson Solar                                   1\n",
       "Swinderman                                      1\n",
       "Off the Grid Solar LLC                          1\n",
       "Windsolarusa; Nadler Electrical Contracting     1\n",
       "Convergence Energy                              1\n",
       "Midwest Green Energy                            1\n",
       "Name: installer, Length: 72, dtype: int64"
      ]
     },
     "execution_count": 76,
     "metadata": {},
     "output_type": "execute_result"
    }
   ],
   "source": [
    "df.loc[df['state'] == 'IL', 'installer'].value_counts()"
   ]
  },
  {
   "cell_type": "code",
   "execution_count": 77,
   "metadata": {},
   "outputs": [],
   "source": [
    "# want to go through each row, and fill in with the mode installer in the state if there is one.\n",
    "# if there isn't, fill with Sunpower if the tech_1 is mono, else fill with solarcity.\n",
    "\n",
    "state_installers = {}\n",
    "\n",
    "states = list(df.state.unique())\n",
    "\n",
    "for state in states:\n",
    "    non_nulls = df.loc[df['state'] == state, 'installer'].notnull().sum()\n",
    "    mode_installer = None\n",
    "    if non_nulls == 0:\n",
    "        mode_installer = \"no installers\"\n",
    "    else:\n",
    "        mode_installer = df.loc[df['state'] == state, 'installer'].value_counts().index[0]\n",
    "    state_installers[state] = mode_installer\n",
    "\n"
   ]
  },
  {
   "cell_type": "code",
   "execution_count": 78,
   "metadata": {},
   "outputs": [
    {
     "data": {
      "text/plain": [
       "318063"
      ]
     },
     "execution_count": 78,
     "metadata": {},
     "output_type": "execute_result"
    }
   ],
   "source": [
    "df.installer.isnull().sum()"
   ]
  },
  {
   "cell_type": "code",
   "execution_count": 79,
   "metadata": {},
   "outputs": [],
   "source": [
    "def fill_installer(row):\n",
    "    # check to see if the installer category is null\n",
    "    if row['installer'] is None:\n",
    "        \n",
    "        # checking if there are no installers listed in the state on this row.\n",
    "        if state_installers[row['state']] == 'no installers':\n",
    "            \n",
    "            # if there are, check to see if tech is mono.\n",
    "            if row['tech_1'] == \"Mono\":\n",
    "                row['installer'] == \"Sunpower\"\n",
    "            else:\n",
    "                row['installer'] == \"SolarCity\"\n",
    "        # if not no_installers, then we'll just set the null value to the mode installer from the state.\n",
    "        else:    \n",
    "            \n",
    "            row['installer'] = state_installers[row['state']]\n",
    "    \n",
    "    return row"
   ]
  },
  {
   "cell_type": "code",
   "execution_count": 80,
   "metadata": {},
   "outputs": [],
   "source": [
    "df = df.apply(fill_installer, axis=1)"
   ]
  },
  {
   "cell_type": "code",
   "execution_count": 81,
   "metadata": {},
   "outputs": [],
   "source": [
    "df.to_sql(\"open_pv_clean_backup\", con=conn, if_exists=\"replace\")"
   ]
  },
  {
   "cell_type": "code",
   "execution_count": 82,
   "metadata": {},
   "outputs": [],
   "source": [
    "df.to_sql(\"open_pv_clean\", con=conn, if_exists=\"replace\")"
   ]
  },
  {
   "cell_type": "markdown",
   "metadata": {},
   "source": [
    "# Reimporting and doing some plotting!\n",
    "\n",
    "This is a bit of a tangent from the cleaning, I'm doing some plotting with plotly and making maps of some stuff."
   ]
  },
  {
   "cell_type": "code",
   "execution_count": 83,
   "metadata": {},
   "outputs": [],
   "source": [
    "df = pd.read_sql(\"SELECT * FROM open_pv_clean\", con=conn)"
   ]
  },
  {
   "cell_type": "code",
   "execution_count": 85,
   "metadata": {},
   "outputs": [],
   "source": [
    "import plotly\n",
    "\n",
    "plotly.tools.set_credentials_file(username='saouvik01', api_key='QDlcakDFNSsXm3567Dw2')"
   ]
  },
  {
   "cell_type": "code",
   "execution_count": 87,
   "metadata": {},
   "outputs": [
    {
     "data": {
      "text/plain": [
       "Index(['index', 'state', 'date_installed', 'incentive_prog_names', 'type',\n",
       "       'size_kw', 'appraised', 'zipcode', 'install_type', 'installer',\n",
       "       'cost_per_watt', 'cost', 'lbnl_tts_version_year', 'lbnl_tts', 'city',\n",
       "       'utility_clean', 'tech_1', 'model1_clean', 'county', 'annual_PV_prod',\n",
       "       'annual_insolation', 'rebate', 'sales_tax_cost', 'tilt1',\n",
       "       'tracking_type', 'azimuth1', 'manuf2_clean', 'manuf3_clean',\n",
       "       'manuf1_clean', 'inv_man_clean', 'reported_annual_energy_prod', 'year',\n",
       "       'pbi_length', 'utility', 'bipv_3', 'bipv_2', 'bipv_1', 'new_constr',\n",
       "       'tracking', '3rdparty'],\n",
       "      dtype='object')"
      ]
     },
     "execution_count": 87,
     "metadata": {},
     "output_type": "execute_result"
    }
   ],
   "source": [
    "df.columns"
   ]
  },
  {
   "cell_type": "code",
   "execution_count": 90,
   "metadata": {},
   "outputs": [],
   "source": [
    "state_size_cost_energy = df.loc[df['install_type'] == 'residential', ['state', 'size_kw', 'cost_per_watt', 'cost', 'annual_insolation', 'reported_annual_energy_prod']].groupby(\"state\").mean()   \n",
    "\n",
    "state_size_cost_energy['installations'] = df.groupby('state').size().values\n",
    "\n",
    "state_size_cost_energy.reset_index(level=0, inplace=True)\n",
    "\n",
    "\n",
    "df_state = state_size_cost_energy.copy()"
   ]
  },
  {
   "cell_type": "code",
   "execution_count": 91,
   "metadata": {},
   "outputs": [],
   "source": [
    "df_state.to_sql(\"state_level_data\", con=conn)"
   ]
  },
  {
   "cell_type": "code",
   "execution_count": 92,
   "metadata": {},
   "outputs": [
    {
     "ename": "ValueError",
     "evalue": "\n    Invalid value of type 'builtins.str' received for the 'colorscale' property of choropleth\n        Received value: 'RdYlGn'\n\n    The 'colorscale' property is a colorscale and may be\n    specified as:\n      - A list of 2-element lists where the first element is the\n        normalized color level value (starting at 0 and ending at 1), \n        and the second item is a valid color string.\n        (e.g. [[0, 'green'], [0.5, 'red'], [1.0, 'rgb(0, 0, 255)']])\n      - One of the following named colorscales:\n            ['Greys', 'YlGnBu', 'Greens', 'YlOrRd', 'Bluered', 'RdBu',\n            'Reds', 'Blues', 'Picnic', 'Rainbow', 'Portland', 'Jet',\n            'Hot', 'Blackbody', 'Earth', 'Electric', 'Viridis', 'Cividis']\n        ",
     "output_type": "error",
     "traceback": [
      "\u001b[1;31m---------------------------------------------------------------------------\u001b[0m",
      "\u001b[1;31mValueError\u001b[0m                                Traceback (most recent call last)",
      "\u001b[1;32m<ipython-input-92-0a2f468cbaf9>\u001b[0m in \u001b[0;36m<module>\u001b[1;34m()\u001b[0m\n\u001b[0;32m     36\u001b[0m \u001b[0mfig\u001b[0m \u001b[1;33m=\u001b[0m \u001b[0mdict\u001b[0m\u001b[1;33m(\u001b[0m \u001b[0mdata\u001b[0m\u001b[1;33m=\u001b[0m\u001b[0mdata\u001b[0m\u001b[1;33m,\u001b[0m \u001b[0mlayout\u001b[0m\u001b[1;33m=\u001b[0m\u001b[0mlayout\u001b[0m \u001b[1;33m)\u001b[0m\u001b[1;33m\u001b[0m\u001b[0m\n\u001b[0;32m     37\u001b[0m \u001b[1;33m\u001b[0m\u001b[0m\n\u001b[1;32m---> 38\u001b[1;33m \u001b[0murl\u001b[0m \u001b[1;33m=\u001b[0m \u001b[0mpy\u001b[0m\u001b[1;33m.\u001b[0m\u001b[0mplot\u001b[0m\u001b[1;33m(\u001b[0m \u001b[0mfig\u001b[0m\u001b[1;33m,\u001b[0m \u001b[0mfilename\u001b[0m\u001b[1;33m=\u001b[0m\u001b[1;34m'residential_avg_cost_per_watt'\u001b[0m \u001b[1;33m)\u001b[0m\u001b[1;33m\u001b[0m\u001b[0m\n\u001b[0m",
      "\u001b[1;32mC:\\Anaconda\\lib\\site-packages\\plotly\\plotly\\plotly.py\u001b[0m in \u001b[0;36mplot\u001b[1;34m(figure_or_data, validate, **plot_options)\u001b[0m\n\u001b[0;32m    208\u001b[0m \u001b[1;33m\u001b[0m\u001b[0m\n\u001b[0;32m    209\u001b[0m     \"\"\"\n\u001b[1;32m--> 210\u001b[1;33m     \u001b[0mfigure\u001b[0m \u001b[1;33m=\u001b[0m \u001b[0mtools\u001b[0m\u001b[1;33m.\u001b[0m\u001b[0mreturn_figure_from_figure_or_data\u001b[0m\u001b[1;33m(\u001b[0m\u001b[0mfigure_or_data\u001b[0m\u001b[1;33m,\u001b[0m \u001b[0mvalidate\u001b[0m\u001b[1;33m)\u001b[0m\u001b[1;33m\u001b[0m\u001b[0m\n\u001b[0m\u001b[0;32m    211\u001b[0m     \u001b[1;32mfor\u001b[0m \u001b[0mentry\u001b[0m \u001b[1;32min\u001b[0m \u001b[0mfigure\u001b[0m\u001b[1;33m[\u001b[0m\u001b[1;34m'data'\u001b[0m\u001b[1;33m]\u001b[0m\u001b[1;33m:\u001b[0m\u001b[1;33m\u001b[0m\u001b[0m\n\u001b[0;32m    212\u001b[0m         \u001b[1;32mif\u001b[0m \u001b[1;33m(\u001b[0m\u001b[1;34m'type'\u001b[0m \u001b[1;32min\u001b[0m \u001b[0mentry\u001b[0m\u001b[1;33m)\u001b[0m \u001b[1;32mand\u001b[0m \u001b[1;33m(\u001b[0m\u001b[0mentry\u001b[0m\u001b[1;33m[\u001b[0m\u001b[1;34m'type'\u001b[0m\u001b[1;33m]\u001b[0m \u001b[1;33m==\u001b[0m \u001b[1;34m'scattergl'\u001b[0m\u001b[1;33m)\u001b[0m\u001b[1;33m:\u001b[0m\u001b[1;33m\u001b[0m\u001b[0m\n",
      "\u001b[1;32mC:\\Anaconda\\lib\\site-packages\\plotly\\tools.py\u001b[0m in \u001b[0;36mreturn_figure_from_figure_or_data\u001b[1;34m(figure_or_data, validate_figure)\u001b[0m\n\u001b[0;32m   1473\u001b[0m \u001b[1;33m\u001b[0m\u001b[0m\n\u001b[0;32m   1474\u001b[0m         \u001b[1;32mtry\u001b[0m\u001b[1;33m:\u001b[0m\u001b[1;33m\u001b[0m\u001b[0m\n\u001b[1;32m-> 1475\u001b[1;33m             \u001b[0mfigure\u001b[0m \u001b[1;33m=\u001b[0m \u001b[0mFigure\u001b[0m\u001b[1;33m(\u001b[0m\u001b[1;33m**\u001b[0m\u001b[0mfigure\u001b[0m\u001b[1;33m)\u001b[0m\u001b[1;33m.\u001b[0m\u001b[0mto_dict\u001b[0m\u001b[1;33m(\u001b[0m\u001b[1;33m)\u001b[0m\u001b[1;33m\u001b[0m\u001b[0m\n\u001b[0m\u001b[0;32m   1476\u001b[0m         \u001b[1;32mexcept\u001b[0m \u001b[0mexceptions\u001b[0m\u001b[1;33m.\u001b[0m\u001b[0mPlotlyError\u001b[0m \u001b[1;32mas\u001b[0m \u001b[0merr\u001b[0m\u001b[1;33m:\u001b[0m\u001b[1;33m\u001b[0m\u001b[0m\n\u001b[0;32m   1477\u001b[0m             raise exceptions.PlotlyError(\"Invalid 'figure_or_data' argument. \"\n",
      "\u001b[1;32mC:\\Anaconda\\lib\\site-packages\\plotly\\graph_objs\\_figure.py\u001b[0m in \u001b[0;36m__init__\u001b[1;34m(self, data, layout, frames)\u001b[0m\n\u001b[0;32m    334\u001b[0m                         \u001b[0mrespective\u001b[0m \u001b[0mtraces\u001b[0m \u001b[1;32min\u001b[0m \u001b[0mthe\u001b[0m \u001b[0mdata\u001b[0m \u001b[0mattribute\u001b[0m\u001b[1;33m\u001b[0m\u001b[0m\n\u001b[0;32m    335\u001b[0m         \"\"\"\n\u001b[1;32m--> 336\u001b[1;33m         \u001b[0msuper\u001b[0m\u001b[1;33m(\u001b[0m\u001b[0mFigure\u001b[0m\u001b[1;33m,\u001b[0m \u001b[0mself\u001b[0m\u001b[1;33m)\u001b[0m\u001b[1;33m.\u001b[0m\u001b[0m__init__\u001b[0m\u001b[1;33m(\u001b[0m\u001b[0mdata\u001b[0m\u001b[1;33m,\u001b[0m \u001b[0mlayout\u001b[0m\u001b[1;33m,\u001b[0m \u001b[0mframes\u001b[0m\u001b[1;33m)\u001b[0m\u001b[1;33m\u001b[0m\u001b[0m\n\u001b[0m\u001b[0;32m    337\u001b[0m \u001b[1;33m\u001b[0m\u001b[0m\n\u001b[0;32m    338\u001b[0m     def add_area(\n",
      "\u001b[1;32mC:\\Anaconda\\lib\\site-packages\\plotly\\basedatatypes.py\u001b[0m in \u001b[0;36m__init__\u001b[1;34m(self, data, layout_plotly, frames)\u001b[0m\n\u001b[0;32m    114\u001b[0m \u001b[1;33m\u001b[0m\u001b[0m\n\u001b[0;32m    115\u001b[0m         \u001b[1;31m# ### Import traces ###\u001b[0m\u001b[1;33m\u001b[0m\u001b[1;33m\u001b[0m\u001b[0m\n\u001b[1;32m--> 116\u001b[1;33m         \u001b[0mdata\u001b[0m \u001b[1;33m=\u001b[0m \u001b[0mself\u001b[0m\u001b[1;33m.\u001b[0m\u001b[0m_data_validator\u001b[0m\u001b[1;33m.\u001b[0m\u001b[0mvalidate_coerce\u001b[0m\u001b[1;33m(\u001b[0m\u001b[0mdata\u001b[0m\u001b[1;33m)\u001b[0m\u001b[1;33m\u001b[0m\u001b[0m\n\u001b[0m\u001b[0;32m    117\u001b[0m \u001b[1;33m\u001b[0m\u001b[0m\n\u001b[0;32m    118\u001b[0m         \u001b[1;31m# ### Save tuple of trace objects ###\u001b[0m\u001b[1;33m\u001b[0m\u001b[1;33m\u001b[0m\u001b[0m\n",
      "\u001b[1;32mC:\\Anaconda\\lib\\site-packages\\_plotly_utils\\basevalidators.py\u001b[0m in \u001b[0;36mvalidate_coerce\u001b[1;34m(self, v)\u001b[0m\n\u001b[0;32m   1960\u001b[0m                         \u001b[0minvalid_els\u001b[0m\u001b[1;33m.\u001b[0m\u001b[0mappend\u001b[0m\u001b[1;33m(\u001b[0m\u001b[0mv_el\u001b[0m\u001b[1;33m)\u001b[0m\u001b[1;33m\u001b[0m\u001b[0m\n\u001b[0;32m   1961\u001b[0m                     \u001b[1;32melse\u001b[0m\u001b[1;33m:\u001b[0m\u001b[1;33m\u001b[0m\u001b[0m\n\u001b[1;32m-> 1962\u001b[1;33m                         \u001b[0mtrace\u001b[0m \u001b[1;33m=\u001b[0m \u001b[0mself\u001b[0m\u001b[1;33m.\u001b[0m\u001b[0mclass_map\u001b[0m\u001b[1;33m[\u001b[0m\u001b[0mtrace_type\u001b[0m\u001b[1;33m]\u001b[0m\u001b[1;33m(\u001b[0m\u001b[1;33m**\u001b[0m\u001b[0mv_copy\u001b[0m\u001b[1;33m)\u001b[0m\u001b[1;33m\u001b[0m\u001b[0m\n\u001b[0m\u001b[0;32m   1963\u001b[0m                         \u001b[0mres\u001b[0m\u001b[1;33m.\u001b[0m\u001b[0mappend\u001b[0m\u001b[1;33m(\u001b[0m\u001b[0mtrace\u001b[0m\u001b[1;33m)\u001b[0m\u001b[1;33m\u001b[0m\u001b[0m\n\u001b[0;32m   1964\u001b[0m                 \u001b[1;32melse\u001b[0m\u001b[1;33m:\u001b[0m\u001b[1;33m\u001b[0m\u001b[0m\n",
      "\u001b[1;32mC:\\Anaconda\\lib\\site-packages\\plotly\\graph_objs\\_choropleth.py\u001b[0m in \u001b[0;36m__init__\u001b[1;34m(self, arg, autocolorscale, colorbar, colorscale, customdata, customdatasrc, geo, hoverinfo, hoverinfosrc, hoverlabel, ids, idssrc, legendgroup, locationmode, locations, locationssrc, marker, name, opacity, reversescale, selected, selectedpoints, showlegend, showscale, stream, text, textsrc, uid, unselected, visible, z, zauto, zmax, zmin, zsrc, **kwargs)\u001b[0m\n\u001b[0;32m   1410\u001b[0m         \u001b[0mself\u001b[0m\u001b[1;33m.\u001b[0m\u001b[0mcolorbar\u001b[0m \u001b[1;33m=\u001b[0m \u001b[0mcolorbar\u001b[0m \u001b[1;32mif\u001b[0m \u001b[0mcolorbar\u001b[0m \u001b[1;32mis\u001b[0m \u001b[1;32mnot\u001b[0m \u001b[1;32mNone\u001b[0m \u001b[1;32melse\u001b[0m \u001b[0m_v\u001b[0m\u001b[1;33m\u001b[0m\u001b[0m\n\u001b[0;32m   1411\u001b[0m         \u001b[0m_v\u001b[0m \u001b[1;33m=\u001b[0m \u001b[0marg\u001b[0m\u001b[1;33m.\u001b[0m\u001b[0mpop\u001b[0m\u001b[1;33m(\u001b[0m\u001b[1;34m'colorscale'\u001b[0m\u001b[1;33m,\u001b[0m \u001b[1;32mNone\u001b[0m\u001b[1;33m)\u001b[0m\u001b[1;33m\u001b[0m\u001b[0m\n\u001b[1;32m-> 1412\u001b[1;33m         \u001b[0mself\u001b[0m\u001b[1;33m.\u001b[0m\u001b[0mcolorscale\u001b[0m \u001b[1;33m=\u001b[0m \u001b[0mcolorscale\u001b[0m \u001b[1;32mif\u001b[0m \u001b[0mcolorscale\u001b[0m \u001b[1;32mis\u001b[0m \u001b[1;32mnot\u001b[0m \u001b[1;32mNone\u001b[0m \u001b[1;32melse\u001b[0m \u001b[0m_v\u001b[0m\u001b[1;33m\u001b[0m\u001b[0m\n\u001b[0m\u001b[0;32m   1413\u001b[0m         \u001b[0m_v\u001b[0m \u001b[1;33m=\u001b[0m \u001b[0marg\u001b[0m\u001b[1;33m.\u001b[0m\u001b[0mpop\u001b[0m\u001b[1;33m(\u001b[0m\u001b[1;34m'customdata'\u001b[0m\u001b[1;33m,\u001b[0m \u001b[1;32mNone\u001b[0m\u001b[1;33m)\u001b[0m\u001b[1;33m\u001b[0m\u001b[0m\n\u001b[0;32m   1414\u001b[0m         \u001b[0mself\u001b[0m\u001b[1;33m.\u001b[0m\u001b[0mcustomdata\u001b[0m \u001b[1;33m=\u001b[0m \u001b[0mcustomdata\u001b[0m \u001b[1;32mif\u001b[0m \u001b[0mcustomdata\u001b[0m \u001b[1;32mis\u001b[0m \u001b[1;32mnot\u001b[0m \u001b[1;32mNone\u001b[0m \u001b[1;32melse\u001b[0m \u001b[0m_v\u001b[0m\u001b[1;33m\u001b[0m\u001b[0m\n",
      "\u001b[1;32mC:\\Anaconda\\lib\\site-packages\\plotly\\basedatatypes.py\u001b[0m in \u001b[0;36m__setattr__\u001b[1;34m(self, prop, value)\u001b[0m\n\u001b[0;32m   2702\u001b[0m                 prop in self._validators):\n\u001b[0;32m   2703\u001b[0m             \u001b[1;31m# Let known properties and private properties through\u001b[0m\u001b[1;33m\u001b[0m\u001b[1;33m\u001b[0m\u001b[0m\n\u001b[1;32m-> 2704\u001b[1;33m             \u001b[0msuper\u001b[0m\u001b[1;33m(\u001b[0m\u001b[0mBasePlotlyType\u001b[0m\u001b[1;33m,\u001b[0m \u001b[0mself\u001b[0m\u001b[1;33m)\u001b[0m\u001b[1;33m.\u001b[0m\u001b[0m__setattr__\u001b[0m\u001b[1;33m(\u001b[0m\u001b[0mprop\u001b[0m\u001b[1;33m,\u001b[0m \u001b[0mvalue\u001b[0m\u001b[1;33m)\u001b[0m\u001b[1;33m\u001b[0m\u001b[0m\n\u001b[0m\u001b[0;32m   2705\u001b[0m         \u001b[1;32melse\u001b[0m\u001b[1;33m:\u001b[0m\u001b[1;33m\u001b[0m\u001b[0m\n\u001b[0;32m   2706\u001b[0m             \u001b[1;31m# Raise error on unknown public properties\u001b[0m\u001b[1;33m\u001b[0m\u001b[1;33m\u001b[0m\u001b[0m\n",
      "\u001b[1;32mC:\\Anaconda\\lib\\site-packages\\plotly\\graph_objs\\_choropleth.py\u001b[0m in \u001b[0;36mcolorscale\u001b[1;34m(self, val)\u001b[0m\n\u001b[0;32m    284\u001b[0m     \u001b[1;33m@\u001b[0m\u001b[0mcolorscale\u001b[0m\u001b[1;33m.\u001b[0m\u001b[0msetter\u001b[0m\u001b[1;33m\u001b[0m\u001b[0m\n\u001b[0;32m    285\u001b[0m     \u001b[1;32mdef\u001b[0m \u001b[0mcolorscale\u001b[0m\u001b[1;33m(\u001b[0m\u001b[0mself\u001b[0m\u001b[1;33m,\u001b[0m \u001b[0mval\u001b[0m\u001b[1;33m)\u001b[0m\u001b[1;33m:\u001b[0m\u001b[1;33m\u001b[0m\u001b[0m\n\u001b[1;32m--> 286\u001b[1;33m         \u001b[0mself\u001b[0m\u001b[1;33m[\u001b[0m\u001b[1;34m'colorscale'\u001b[0m\u001b[1;33m]\u001b[0m \u001b[1;33m=\u001b[0m \u001b[0mval\u001b[0m\u001b[1;33m\u001b[0m\u001b[0m\n\u001b[0m\u001b[0;32m    287\u001b[0m \u001b[1;33m\u001b[0m\u001b[0m\n\u001b[0;32m    288\u001b[0m     \u001b[1;31m# customdata\u001b[0m\u001b[1;33m\u001b[0m\u001b[1;33m\u001b[0m\u001b[0m\n",
      "\u001b[1;32mC:\\Anaconda\\lib\\site-packages\\plotly\\basedatatypes.py\u001b[0m in \u001b[0;36m__setitem__\u001b[1;34m(self, prop, value)\u001b[0m\n\u001b[0;32m   2674\u001b[0m             \u001b[1;31m# ### Handle simple property ###\u001b[0m\u001b[1;33m\u001b[0m\u001b[1;33m\u001b[0m\u001b[0m\n\u001b[0;32m   2675\u001b[0m             \u001b[1;32melse\u001b[0m\u001b[1;33m:\u001b[0m\u001b[1;33m\u001b[0m\u001b[0m\n\u001b[1;32m-> 2676\u001b[1;33m                 \u001b[0mself\u001b[0m\u001b[1;33m.\u001b[0m\u001b[0m_set_prop\u001b[0m\u001b[1;33m(\u001b[0m\u001b[0mprop\u001b[0m\u001b[1;33m,\u001b[0m \u001b[0mvalue\u001b[0m\u001b[1;33m)\u001b[0m\u001b[1;33m\u001b[0m\u001b[0m\n\u001b[0m\u001b[0;32m   2677\u001b[0m \u001b[1;33m\u001b[0m\u001b[0m\n\u001b[0;32m   2678\u001b[0m         \u001b[1;31m# Handle non-scalar case\u001b[0m\u001b[1;33m\u001b[0m\u001b[1;33m\u001b[0m\u001b[0m\n",
      "\u001b[1;32mC:\\Anaconda\\lib\\site-packages\\plotly\\basedatatypes.py\u001b[0m in \u001b[0;36m_set_prop\u001b[1;34m(self, prop, val)\u001b[0m\n\u001b[0;32m   2904\u001b[0m         \u001b[1;31m# ------------\u001b[0m\u001b[1;33m\u001b[0m\u001b[1;33m\u001b[0m\u001b[0m\n\u001b[0;32m   2905\u001b[0m         \u001b[0mvalidator\u001b[0m \u001b[1;33m=\u001b[0m \u001b[0mself\u001b[0m\u001b[1;33m.\u001b[0m\u001b[0m_validators\u001b[0m\u001b[1;33m.\u001b[0m\u001b[0mget\u001b[0m\u001b[1;33m(\u001b[0m\u001b[0mprop\u001b[0m\u001b[1;33m)\u001b[0m\u001b[1;33m\u001b[0m\u001b[0m\n\u001b[1;32m-> 2906\u001b[1;33m         \u001b[0mval\u001b[0m \u001b[1;33m=\u001b[0m \u001b[0mvalidator\u001b[0m\u001b[1;33m.\u001b[0m\u001b[0mvalidate_coerce\u001b[0m\u001b[1;33m(\u001b[0m\u001b[0mval\u001b[0m\u001b[1;33m)\u001b[0m\u001b[1;33m\u001b[0m\u001b[0m\n\u001b[0m\u001b[0;32m   2907\u001b[0m \u001b[1;33m\u001b[0m\u001b[0m\n\u001b[0;32m   2908\u001b[0m         \u001b[1;31m# val is None\u001b[0m\u001b[1;33m\u001b[0m\u001b[1;33m\u001b[0m\u001b[0m\n",
      "\u001b[1;32mC:\\Anaconda\\lib\\site-packages\\_plotly_utils\\basevalidators.py\u001b[0m in \u001b[0;36mvalidate_coerce\u001b[1;34m(self, v)\u001b[0m\n\u001b[0;32m   1270\u001b[0m \u001b[1;33m\u001b[0m\u001b[0m\n\u001b[0;32m   1271\u001b[0m         \u001b[1;32mif\u001b[0m \u001b[1;32mnot\u001b[0m \u001b[0mv_valid\u001b[0m\u001b[1;33m:\u001b[0m\u001b[1;33m\u001b[0m\u001b[0m\n\u001b[1;32m-> 1272\u001b[1;33m             \u001b[0mself\u001b[0m\u001b[1;33m.\u001b[0m\u001b[0mraise_invalid_val\u001b[0m\u001b[1;33m(\u001b[0m\u001b[0mv\u001b[0m\u001b[1;33m)\u001b[0m\u001b[1;33m\u001b[0m\u001b[0m\n\u001b[0m\u001b[0;32m   1273\u001b[0m \u001b[1;33m\u001b[0m\u001b[0m\n\u001b[0;32m   1274\u001b[0m         \u001b[1;32mreturn\u001b[0m \u001b[0mv\u001b[0m\u001b[1;33m\u001b[0m\u001b[0m\n",
      "\u001b[1;32mC:\\Anaconda\\lib\\site-packages\\_plotly_utils\\basevalidators.py\u001b[0m in \u001b[0;36mraise_invalid_val\u001b[1;34m(self, v)\u001b[0m\n\u001b[0;32m    214\u001b[0m             \u001b[0mtyp\u001b[0m\u001b[1;33m=\u001b[0m\u001b[0mtype_str\u001b[0m\u001b[1;33m(\u001b[0m\u001b[0mv\u001b[0m\u001b[1;33m)\u001b[0m\u001b[1;33m,\u001b[0m\u001b[1;33m\u001b[0m\u001b[0m\n\u001b[0;32m    215\u001b[0m             \u001b[0mv\u001b[0m\u001b[1;33m=\u001b[0m\u001b[0mrepr\u001b[0m\u001b[1;33m(\u001b[0m\u001b[0mv\u001b[0m\u001b[1;33m)\u001b[0m\u001b[1;33m,\u001b[0m\u001b[1;33m\u001b[0m\u001b[0m\n\u001b[1;32m--> 216\u001b[1;33m             valid_clr_desc=self.description()))\n\u001b[0m\u001b[0;32m    217\u001b[0m \u001b[1;33m\u001b[0m\u001b[0m\n\u001b[0;32m    218\u001b[0m     \u001b[1;32mdef\u001b[0m \u001b[0mraise_invalid_elements\u001b[0m\u001b[1;33m(\u001b[0m\u001b[0mself\u001b[0m\u001b[1;33m,\u001b[0m \u001b[0minvalid_els\u001b[0m\u001b[1;33m)\u001b[0m\u001b[1;33m:\u001b[0m\u001b[1;33m\u001b[0m\u001b[0m\n",
      "\u001b[1;31mValueError\u001b[0m: \n    Invalid value of type 'builtins.str' received for the 'colorscale' property of choropleth\n        Received value: 'RdYlGn'\n\n    The 'colorscale' property is a colorscale and may be\n    specified as:\n      - A list of 2-element lists where the first element is the\n        normalized color level value (starting at 0 and ending at 1), \n        and the second item is a valid color string.\n        (e.g. [[0, 'green'], [0.5, 'red'], [1.0, 'rgb(0, 0, 255)']])\n      - One of the following named colorscales:\n            ['Greys', 'YlGnBu', 'Greens', 'YlOrRd', 'Bluered', 'RdBu',\n            'Reds', 'Blues', 'Picnic', 'Rainbow', 'Portland', 'Jet',\n            'Hot', 'Blackbody', 'Earth', 'Electric', 'Viridis', 'Cividis']\n        "
     ]
    }
   ],
   "source": [
    "import plotly.plotly as py\n",
    "\n",
    "# scl = [[0.0, 'rgb(242,240,247)'],[0.2, 'rgb(218,218,235)'],[0.4, 'rgb(188,189,220)'],\\\n",
    "#             [0.6, 'rgb(158,154,200)'],[0.8, 'rgb(117,107,177)'],[1.0, 'rgb(84,39,143)']]\n",
    "\n",
    "\n",
    "data = [ dict(\n",
    "        type='choropleth',\n",
    "        colorscale = \"RdYlGn\",\n",
    "        autocolorscale = False,\n",
    "        locations = df_state['state'],\n",
    "        z = df_state['cost_per_watt'].astype(float),\n",
    "        locationmode = 'USA-states',\n",
    "        text = df_state['cost_per_watt'],\n",
    "        marker = dict(\n",
    "            line = dict (\n",
    "                color = 'rgb(255,255,255)',\n",
    "                width = 2\n",
    "            )\n",
    "        ),\n",
    "        colorbar = dict(\n",
    "            title = \"Average Cost Per Watt\"\n",
    "        )\n",
    "    ) ]\n",
    "\n",
    "layout = dict(\n",
    "        title = 'Average US Solar Cost Per Watt by State<br>(Hover for breakdown)',\n",
    "        geo = dict(\n",
    "            scope='usa',\n",
    "            projection=dict( type='albers usa' ),\n",
    "            showlakes = True,\n",
    "            lakecolor = 'rgb(255, 255, 255)',\n",
    "        ),\n",
    "    )\n",
    "\n",
    "fig = dict( data=data, layout=layout )\n",
    "\n",
    "url = py.plot( fig, filename='residential_avg_cost_per_watt' )"
   ]
  },
  {
   "cell_type": "code",
   "execution_count": 93,
   "metadata": {},
   "outputs": [
    {
     "data": {
      "text/plain": [
       "Index(['index', 'state', 'date_installed', 'incentive_prog_names', 'type',\n",
       "       'size_kw', 'appraised', 'zipcode', 'install_type', 'installer',\n",
       "       'cost_per_watt', 'cost', 'lbnl_tts_version_year', 'lbnl_tts', 'city',\n",
       "       'utility_clean', 'tech_1', 'model1_clean', 'county', 'annual_PV_prod',\n",
       "       'annual_insolation', 'rebate', 'sales_tax_cost', 'tilt1',\n",
       "       'tracking_type', 'azimuth1', 'manuf2_clean', 'manuf3_clean',\n",
       "       'manuf1_clean', 'inv_man_clean', 'reported_annual_energy_prod', 'year',\n",
       "       'pbi_length', 'utility', 'bipv_3', 'bipv_2', 'bipv_1', 'new_constr',\n",
       "       'tracking', '3rdparty'],\n",
       "      dtype='object')"
      ]
     },
     "execution_count": 93,
     "metadata": {},
     "output_type": "execute_result"
    }
   ],
   "source": [
    "df.columns"
   ]
  },
  {
   "cell_type": "code",
   "execution_count": 94,
   "metadata": {},
   "outputs": [],
   "source": [
    "df_ca = df.loc[((df['state'] == \"CA\") & (df['install_type'] == 'residential')), ['state', 'county', 'size_kw', 'cost_per_watt', 'cost', 'annual_insolation', 'reported_annual_energy_prod']].groupby(\"county\").mean()"
   ]
  },
  {
   "cell_type": "code",
   "execution_count": 95,
   "metadata": {},
   "outputs": [
    {
     "data": {
      "text/html": [
       "<div>\n",
       "<style scoped>\n",
       "    .dataframe tbody tr th:only-of-type {\n",
       "        vertical-align: middle;\n",
       "    }\n",
       "\n",
       "    .dataframe tbody tr th {\n",
       "        vertical-align: top;\n",
       "    }\n",
       "\n",
       "    .dataframe thead th {\n",
       "        text-align: right;\n",
       "    }\n",
       "</style>\n",
       "<table border=\"1\" class=\"dataframe\">\n",
       "  <thead>\n",
       "    <tr style=\"text-align: right;\">\n",
       "      <th></th>\n",
       "      <th>size_kw</th>\n",
       "      <th>cost_per_watt</th>\n",
       "      <th>cost</th>\n",
       "      <th>annual_insolation</th>\n",
       "      <th>reported_annual_energy_prod</th>\n",
       "    </tr>\n",
       "    <tr>\n",
       "      <th>county</th>\n",
       "      <th></th>\n",
       "      <th></th>\n",
       "      <th></th>\n",
       "      <th></th>\n",
       "      <th></th>\n",
       "    </tr>\n",
       "  </thead>\n",
       "  <tbody>\n",
       "    <tr>\n",
       "      <th>Alameda</th>\n",
       "      <td>4.766818</td>\n",
       "      <td>6.789056</td>\n",
       "      <td>30636.080128</td>\n",
       "      <td>5.229066</td>\n",
       "      <td>NaN</td>\n",
       "    </tr>\n",
       "    <tr>\n",
       "      <th>Alpine</th>\n",
       "      <td>3.896429</td>\n",
       "      <td>10.105714</td>\n",
       "      <td>36159.835714</td>\n",
       "      <td>NaN</td>\n",
       "      <td>NaN</td>\n",
       "    </tr>\n",
       "    <tr>\n",
       "      <th>Amador</th>\n",
       "      <td>6.157099</td>\n",
       "      <td>6.197047</td>\n",
       "      <td>37216.403014</td>\n",
       "      <td>5.326362</td>\n",
       "      <td>NaN</td>\n",
       "    </tr>\n",
       "    <tr>\n",
       "      <th>Butte</th>\n",
       "      <td>6.339237</td>\n",
       "      <td>5.960232</td>\n",
       "      <td>35728.449579</td>\n",
       "      <td>5.346099</td>\n",
       "      <td>NaN</td>\n",
       "    </tr>\n",
       "    <tr>\n",
       "      <th>Calaveras</th>\n",
       "      <td>7.106040</td>\n",
       "      <td>6.293461</td>\n",
       "      <td>42900.227887</td>\n",
       "      <td>5.339483</td>\n",
       "      <td>NaN</td>\n",
       "    </tr>\n",
       "    <tr>\n",
       "      <th>Colusa</th>\n",
       "      <td>10.758104</td>\n",
       "      <td>5.662009</td>\n",
       "      <td>37637.350873</td>\n",
       "      <td>5.310767</td>\n",
       "      <td>NaN</td>\n",
       "    </tr>\n",
       "    <tr>\n",
       "      <th>Contra Costa</th>\n",
       "      <td>5.409127</td>\n",
       "      <td>6.631744</td>\n",
       "      <td>34305.076808</td>\n",
       "      <td>5.266946</td>\n",
       "      <td>NaN</td>\n",
       "    </tr>\n",
       "    <tr>\n",
       "      <th>Del Norte</th>\n",
       "      <td>6.963838</td>\n",
       "      <td>5.106307</td>\n",
       "      <td>36354.168571</td>\n",
       "      <td>4.421445</td>\n",
       "      <td>7528.000000</td>\n",
       "    </tr>\n",
       "    <tr>\n",
       "      <th>El Dorado</th>\n",
       "      <td>5.582557</td>\n",
       "      <td>6.204845</td>\n",
       "      <td>34286.080256</td>\n",
       "      <td>5.354483</td>\n",
       "      <td>3565.000000</td>\n",
       "    </tr>\n",
       "    <tr>\n",
       "      <th>Fresno</th>\n",
       "      <td>7.165975</td>\n",
       "      <td>5.951293</td>\n",
       "      <td>36330.553751</td>\n",
       "      <td>5.649935</td>\n",
       "      <td>NaN</td>\n",
       "    </tr>\n",
       "    <tr>\n",
       "      <th>Glenn</th>\n",
       "      <td>7.347241</td>\n",
       "      <td>5.675188</td>\n",
       "      <td>33735.127750</td>\n",
       "      <td>5.372903</td>\n",
       "      <td>NaN</td>\n",
       "    </tr>\n",
       "    <tr>\n",
       "      <th>Humboldt</th>\n",
       "      <td>4.144411</td>\n",
       "      <td>6.916517</td>\n",
       "      <td>23699.806680</td>\n",
       "      <td>4.346978</td>\n",
       "      <td>NaN</td>\n",
       "    </tr>\n",
       "    <tr>\n",
       "      <th>Imperial</th>\n",
       "      <td>5.824251</td>\n",
       "      <td>6.729747</td>\n",
       "      <td>34823.256316</td>\n",
       "      <td>NaN</td>\n",
       "      <td>NaN</td>\n",
       "    </tr>\n",
       "    <tr>\n",
       "      <th>Inyo</th>\n",
       "      <td>5.048665</td>\n",
       "      <td>5.566974</td>\n",
       "      <td>28548.785979</td>\n",
       "      <td>5.909564</td>\n",
       "      <td>8006.894737</td>\n",
       "    </tr>\n",
       "    <tr>\n",
       "      <th>Kern</th>\n",
       "      <td>6.698978</td>\n",
       "      <td>5.734910</td>\n",
       "      <td>34410.614845</td>\n",
       "      <td>5.690971</td>\n",
       "      <td>NaN</td>\n",
       "    </tr>\n",
       "    <tr>\n",
       "      <th>Kings</th>\n",
       "      <td>7.308714</td>\n",
       "      <td>5.681508</td>\n",
       "      <td>35386.017553</td>\n",
       "      <td>5.663640</td>\n",
       "      <td>NaN</td>\n",
       "    </tr>\n",
       "    <tr>\n",
       "      <th>Lake</th>\n",
       "      <td>5.405201</td>\n",
       "      <td>6.761787</td>\n",
       "      <td>32255.605696</td>\n",
       "      <td>5.362600</td>\n",
       "      <td>NaN</td>\n",
       "    </tr>\n",
       "    <tr>\n",
       "      <th>Lassen</th>\n",
       "      <td>6.206687</td>\n",
       "      <td>5.570055</td>\n",
       "      <td>31686.807692</td>\n",
       "      <td>5.351719</td>\n",
       "      <td>NaN</td>\n",
       "    </tr>\n",
       "    <tr>\n",
       "      <th>Los Angeles</th>\n",
       "      <td>5.290280</td>\n",
       "      <td>6.140509</td>\n",
       "      <td>31982.009026</td>\n",
       "      <td>5.412029</td>\n",
       "      <td>8102.133009</td>\n",
       "    </tr>\n",
       "    <tr>\n",
       "      <th>Madera</th>\n",
       "      <td>8.080807</td>\n",
       "      <td>6.002228</td>\n",
       "      <td>39127.340820</td>\n",
       "      <td>5.638553</td>\n",
       "      <td>NaN</td>\n",
       "    </tr>\n",
       "    <tr>\n",
       "      <th>Marin</th>\n",
       "      <td>5.034370</td>\n",
       "      <td>6.983735</td>\n",
       "      <td>33964.704169</td>\n",
       "      <td>5.222322</td>\n",
       "      <td>NaN</td>\n",
       "    </tr>\n",
       "    <tr>\n",
       "      <th>Mariposa</th>\n",
       "      <td>6.185469</td>\n",
       "      <td>6.187130</td>\n",
       "      <td>34636.575385</td>\n",
       "      <td>5.666377</td>\n",
       "      <td>NaN</td>\n",
       "    </tr>\n",
       "    <tr>\n",
       "      <th>Mendocino</th>\n",
       "      <td>4.922715</td>\n",
       "      <td>6.938419</td>\n",
       "      <td>32072.156601</td>\n",
       "      <td>4.900133</td>\n",
       "      <td>NaN</td>\n",
       "    </tr>\n",
       "    <tr>\n",
       "      <th>Merced</th>\n",
       "      <td>9.069459</td>\n",
       "      <td>5.640972</td>\n",
       "      <td>39291.673751</td>\n",
       "      <td>5.606328</td>\n",
       "      <td>NaN</td>\n",
       "    </tr>\n",
       "    <tr>\n",
       "      <th>Modoc</th>\n",
       "      <td>7.434943</td>\n",
       "      <td>4.082221</td>\n",
       "      <td>28516.027273</td>\n",
       "      <td>NaN</td>\n",
       "      <td>13383.555556</td>\n",
       "    </tr>\n",
       "    <tr>\n",
       "      <th>Mono</th>\n",
       "      <td>5.136379</td>\n",
       "      <td>6.630702</td>\n",
       "      <td>32228.309070</td>\n",
       "      <td>5.656915</td>\n",
       "      <td>NaN</td>\n",
       "    </tr>\n",
       "    <tr>\n",
       "      <th>Monterey</th>\n",
       "      <td>4.948176</td>\n",
       "      <td>6.262423</td>\n",
       "      <td>31797.794175</td>\n",
       "      <td>5.288015</td>\n",
       "      <td>NaN</td>\n",
       "    </tr>\n",
       "    <tr>\n",
       "      <th>Napa</th>\n",
       "      <td>7.262900</td>\n",
       "      <td>6.790913</td>\n",
       "      <td>49309.979142</td>\n",
       "      <td>5.319600</td>\n",
       "      <td>NaN</td>\n",
       "    </tr>\n",
       "    <tr>\n",
       "      <th>Nevada</th>\n",
       "      <td>5.485670</td>\n",
       "      <td>6.549873</td>\n",
       "      <td>33075.269865</td>\n",
       "      <td>5.422033</td>\n",
       "      <td>NaN</td>\n",
       "    </tr>\n",
       "    <tr>\n",
       "      <th>Orange</th>\n",
       "      <td>5.292118</td>\n",
       "      <td>6.386678</td>\n",
       "      <td>31766.314930</td>\n",
       "      <td>5.431017</td>\n",
       "      <td>NaN</td>\n",
       "    </tr>\n",
       "    <tr>\n",
       "      <th>Placer</th>\n",
       "      <td>81.989333</td>\n",
       "      <td>6.209797</td>\n",
       "      <td>35553.178215</td>\n",
       "      <td>5.371871</td>\n",
       "      <td>8794.800000</td>\n",
       "    </tr>\n",
       "    <tr>\n",
       "      <th>Plumas</th>\n",
       "      <td>4.052473</td>\n",
       "      <td>6.726725</td>\n",
       "      <td>24872.331346</td>\n",
       "      <td>5.788237</td>\n",
       "      <td>NaN</td>\n",
       "    </tr>\n",
       "    <tr>\n",
       "      <th>Riverside</th>\n",
       "      <td>5.888453</td>\n",
       "      <td>5.639090</td>\n",
       "      <td>32941.459385</td>\n",
       "      <td>5.678054</td>\n",
       "      <td>NaN</td>\n",
       "    </tr>\n",
       "    <tr>\n",
       "      <th>Sacramento</th>\n",
       "      <td>8.602253</td>\n",
       "      <td>5.543248</td>\n",
       "      <td>50166.784255</td>\n",
       "      <td>5.239559</td>\n",
       "      <td>14241.674897</td>\n",
       "    </tr>\n",
       "    <tr>\n",
       "      <th>San Benito</th>\n",
       "      <td>5.644608</td>\n",
       "      <td>6.060588</td>\n",
       "      <td>35157.711576</td>\n",
       "      <td>5.233487</td>\n",
       "      <td>NaN</td>\n",
       "    </tr>\n",
       "    <tr>\n",
       "      <th>San Bernardino</th>\n",
       "      <td>5.591199</td>\n",
       "      <td>5.817493</td>\n",
       "      <td>31840.343836</td>\n",
       "      <td>5.896901</td>\n",
       "      <td>8278.728179</td>\n",
       "    </tr>\n",
       "    <tr>\n",
       "      <th>San Diego</th>\n",
       "      <td>5.820649</td>\n",
       "      <td>5.810810</td>\n",
       "      <td>31573.240797</td>\n",
       "      <td>5.551704</td>\n",
       "      <td>NaN</td>\n",
       "    </tr>\n",
       "    <tr>\n",
       "      <th>San Francisco</th>\n",
       "      <td>3.458515</td>\n",
       "      <td>8.099576</td>\n",
       "      <td>24723.774150</td>\n",
       "      <td>5.230148</td>\n",
       "      <td>NaN</td>\n",
       "    </tr>\n",
       "    <tr>\n",
       "      <th>San Joaquin</th>\n",
       "      <td>6.542576</td>\n",
       "      <td>5.989979</td>\n",
       "      <td>34559.260486</td>\n",
       "      <td>5.286511</td>\n",
       "      <td>NaN</td>\n",
       "    </tr>\n",
       "    <tr>\n",
       "      <th>San Luis Obispo</th>\n",
       "      <td>5.082266</td>\n",
       "      <td>6.401459</td>\n",
       "      <td>31387.099302</td>\n",
       "      <td>5.725900</td>\n",
       "      <td>NaN</td>\n",
       "    </tr>\n",
       "    <tr>\n",
       "      <th>San Mateo</th>\n",
       "      <td>5.346343</td>\n",
       "      <td>7.000805</td>\n",
       "      <td>36319.750914</td>\n",
       "      <td>5.219877</td>\n",
       "      <td>8766.000000</td>\n",
       "    </tr>\n",
       "    <tr>\n",
       "      <th>Santa Barbara</th>\n",
       "      <td>6.077337</td>\n",
       "      <td>6.408819</td>\n",
       "      <td>34343.110579</td>\n",
       "      <td>5.676428</td>\n",
       "      <td>NaN</td>\n",
       "    </tr>\n",
       "    <tr>\n",
       "      <th>Santa Clara</th>\n",
       "      <td>5.257858</td>\n",
       "      <td>6.475298</td>\n",
       "      <td>32622.047572</td>\n",
       "      <td>5.233891</td>\n",
       "      <td>6138.995432</td>\n",
       "    </tr>\n",
       "    <tr>\n",
       "      <th>Santa Cruz</th>\n",
       "      <td>4.711648</td>\n",
       "      <td>6.795498</td>\n",
       "      <td>30344.038367</td>\n",
       "      <td>5.231634</td>\n",
       "      <td>NaN</td>\n",
       "    </tr>\n",
       "    <tr>\n",
       "      <th>Shasta</th>\n",
       "      <td>7.240346</td>\n",
       "      <td>6.246557</td>\n",
       "      <td>40604.713005</td>\n",
       "      <td>4.358982</td>\n",
       "      <td>NaN</td>\n",
       "    </tr>\n",
       "    <tr>\n",
       "      <th>Sierra</th>\n",
       "      <td>3.990350</td>\n",
       "      <td>7.201248</td>\n",
       "      <td>30701.892000</td>\n",
       "      <td>5.278579</td>\n",
       "      <td>NaN</td>\n",
       "    </tr>\n",
       "    <tr>\n",
       "      <th>Siskiyou</th>\n",
       "      <td>8.353254</td>\n",
       "      <td>4.899700</td>\n",
       "      <td>38210.887161</td>\n",
       "      <td>4.925234</td>\n",
       "      <td>12262.780488</td>\n",
       "    </tr>\n",
       "    <tr>\n",
       "      <th>Solano</th>\n",
       "      <td>5.103765</td>\n",
       "      <td>6.229109</td>\n",
       "      <td>28706.324805</td>\n",
       "      <td>5.336661</td>\n",
       "      <td>NaN</td>\n",
       "    </tr>\n",
       "    <tr>\n",
       "      <th>Sonoma</th>\n",
       "      <td>5.552123</td>\n",
       "      <td>6.796507</td>\n",
       "      <td>36290.831832</td>\n",
       "      <td>5.266503</td>\n",
       "      <td>NaN</td>\n",
       "    </tr>\n",
       "    <tr>\n",
       "      <th>Stanislaus</th>\n",
       "      <td>9.927574</td>\n",
       "      <td>5.884152</td>\n",
       "      <td>45634.657436</td>\n",
       "      <td>5.292782</td>\n",
       "      <td>NaN</td>\n",
       "    </tr>\n",
       "    <tr>\n",
       "      <th>Sutter</th>\n",
       "      <td>6.817051</td>\n",
       "      <td>5.826908</td>\n",
       "      <td>36676.851101</td>\n",
       "      <td>5.345985</td>\n",
       "      <td>NaN</td>\n",
       "    </tr>\n",
       "    <tr>\n",
       "      <th>Tehama</th>\n",
       "      <td>7.340395</td>\n",
       "      <td>5.838389</td>\n",
       "      <td>36280.631058</td>\n",
       "      <td>4.341980</td>\n",
       "      <td>NaN</td>\n",
       "    </tr>\n",
       "    <tr>\n",
       "      <th>Trinity</th>\n",
       "      <td>5.020900</td>\n",
       "      <td>8.113537</td>\n",
       "      <td>37713.908000</td>\n",
       "      <td>4.351936</td>\n",
       "      <td>NaN</td>\n",
       "    </tr>\n",
       "    <tr>\n",
       "      <th>Tulare</th>\n",
       "      <td>6.844825</td>\n",
       "      <td>5.661728</td>\n",
       "      <td>35005.345694</td>\n",
       "      <td>5.665899</td>\n",
       "      <td>NaN</td>\n",
       "    </tr>\n",
       "    <tr>\n",
       "      <th>Tuolumne</th>\n",
       "      <td>6.597162</td>\n",
       "      <td>6.659601</td>\n",
       "      <td>42974.804123</td>\n",
       "      <td>5.372416</td>\n",
       "      <td>NaN</td>\n",
       "    </tr>\n",
       "    <tr>\n",
       "      <th>Ventura</th>\n",
       "      <td>5.451848</td>\n",
       "      <td>6.115263</td>\n",
       "      <td>33446.592030</td>\n",
       "      <td>5.434648</td>\n",
       "      <td>NaN</td>\n",
       "    </tr>\n",
       "    <tr>\n",
       "      <th>Yolo</th>\n",
       "      <td>5.426342</td>\n",
       "      <td>6.432629</td>\n",
       "      <td>33167.566961</td>\n",
       "      <td>5.353463</td>\n",
       "      <td>NaN</td>\n",
       "    </tr>\n",
       "    <tr>\n",
       "      <th>Yuba</th>\n",
       "      <td>5.797980</td>\n",
       "      <td>6.400329</td>\n",
       "      <td>34293.984065</td>\n",
       "      <td>5.342127</td>\n",
       "      <td>NaN</td>\n",
       "    </tr>\n",
       "  </tbody>\n",
       "</table>\n",
       "</div>"
      ],
      "text/plain": [
       "                   size_kw  cost_per_watt          cost  annual_insolation  \\\n",
       "county                                                                       \n",
       "Alameda           4.766818       6.789056  30636.080128           5.229066   \n",
       "Alpine            3.896429      10.105714  36159.835714                NaN   \n",
       "Amador            6.157099       6.197047  37216.403014           5.326362   \n",
       "Butte             6.339237       5.960232  35728.449579           5.346099   \n",
       "Calaveras         7.106040       6.293461  42900.227887           5.339483   \n",
       "Colusa           10.758104       5.662009  37637.350873           5.310767   \n",
       "Contra Costa      5.409127       6.631744  34305.076808           5.266946   \n",
       "Del Norte         6.963838       5.106307  36354.168571           4.421445   \n",
       "El Dorado         5.582557       6.204845  34286.080256           5.354483   \n",
       "Fresno            7.165975       5.951293  36330.553751           5.649935   \n",
       "Glenn             7.347241       5.675188  33735.127750           5.372903   \n",
       "Humboldt          4.144411       6.916517  23699.806680           4.346978   \n",
       "Imperial          5.824251       6.729747  34823.256316                NaN   \n",
       "Inyo              5.048665       5.566974  28548.785979           5.909564   \n",
       "Kern              6.698978       5.734910  34410.614845           5.690971   \n",
       "Kings             7.308714       5.681508  35386.017553           5.663640   \n",
       "Lake              5.405201       6.761787  32255.605696           5.362600   \n",
       "Lassen            6.206687       5.570055  31686.807692           5.351719   \n",
       "Los Angeles       5.290280       6.140509  31982.009026           5.412029   \n",
       "Madera            8.080807       6.002228  39127.340820           5.638553   \n",
       "Marin             5.034370       6.983735  33964.704169           5.222322   \n",
       "Mariposa          6.185469       6.187130  34636.575385           5.666377   \n",
       "Mendocino         4.922715       6.938419  32072.156601           4.900133   \n",
       "Merced            9.069459       5.640972  39291.673751           5.606328   \n",
       "Modoc             7.434943       4.082221  28516.027273                NaN   \n",
       "Mono              5.136379       6.630702  32228.309070           5.656915   \n",
       "Monterey          4.948176       6.262423  31797.794175           5.288015   \n",
       "Napa              7.262900       6.790913  49309.979142           5.319600   \n",
       "Nevada            5.485670       6.549873  33075.269865           5.422033   \n",
       "Orange            5.292118       6.386678  31766.314930           5.431017   \n",
       "Placer           81.989333       6.209797  35553.178215           5.371871   \n",
       "Plumas            4.052473       6.726725  24872.331346           5.788237   \n",
       "Riverside         5.888453       5.639090  32941.459385           5.678054   \n",
       "Sacramento        8.602253       5.543248  50166.784255           5.239559   \n",
       "San Benito        5.644608       6.060588  35157.711576           5.233487   \n",
       "San Bernardino    5.591199       5.817493  31840.343836           5.896901   \n",
       "San Diego         5.820649       5.810810  31573.240797           5.551704   \n",
       "San Francisco     3.458515       8.099576  24723.774150           5.230148   \n",
       "San Joaquin       6.542576       5.989979  34559.260486           5.286511   \n",
       "San Luis Obispo   5.082266       6.401459  31387.099302           5.725900   \n",
       "San Mateo         5.346343       7.000805  36319.750914           5.219877   \n",
       "Santa Barbara     6.077337       6.408819  34343.110579           5.676428   \n",
       "Santa Clara       5.257858       6.475298  32622.047572           5.233891   \n",
       "Santa Cruz        4.711648       6.795498  30344.038367           5.231634   \n",
       "Shasta            7.240346       6.246557  40604.713005           4.358982   \n",
       "Sierra            3.990350       7.201248  30701.892000           5.278579   \n",
       "Siskiyou          8.353254       4.899700  38210.887161           4.925234   \n",
       "Solano            5.103765       6.229109  28706.324805           5.336661   \n",
       "Sonoma            5.552123       6.796507  36290.831832           5.266503   \n",
       "Stanislaus        9.927574       5.884152  45634.657436           5.292782   \n",
       "Sutter            6.817051       5.826908  36676.851101           5.345985   \n",
       "Tehama            7.340395       5.838389  36280.631058           4.341980   \n",
       "Trinity           5.020900       8.113537  37713.908000           4.351936   \n",
       "Tulare            6.844825       5.661728  35005.345694           5.665899   \n",
       "Tuolumne          6.597162       6.659601  42974.804123           5.372416   \n",
       "Ventura           5.451848       6.115263  33446.592030           5.434648   \n",
       "Yolo              5.426342       6.432629  33167.566961           5.353463   \n",
       "Yuba              5.797980       6.400329  34293.984065           5.342127   \n",
       "\n",
       "                 reported_annual_energy_prod  \n",
       "county                                        \n",
       "Alameda                                  NaN  \n",
       "Alpine                                   NaN  \n",
       "Amador                                   NaN  \n",
       "Butte                                    NaN  \n",
       "Calaveras                                NaN  \n",
       "Colusa                                   NaN  \n",
       "Contra Costa                             NaN  \n",
       "Del Norte                        7528.000000  \n",
       "El Dorado                        3565.000000  \n",
       "Fresno                                   NaN  \n",
       "Glenn                                    NaN  \n",
       "Humboldt                                 NaN  \n",
       "Imperial                                 NaN  \n",
       "Inyo                             8006.894737  \n",
       "Kern                                     NaN  \n",
       "Kings                                    NaN  \n",
       "Lake                                     NaN  \n",
       "Lassen                                   NaN  \n",
       "Los Angeles                      8102.133009  \n",
       "Madera                                   NaN  \n",
       "Marin                                    NaN  \n",
       "Mariposa                                 NaN  \n",
       "Mendocino                                NaN  \n",
       "Merced                                   NaN  \n",
       "Modoc                           13383.555556  \n",
       "Mono                                     NaN  \n",
       "Monterey                                 NaN  \n",
       "Napa                                     NaN  \n",
       "Nevada                                   NaN  \n",
       "Orange                                   NaN  \n",
       "Placer                           8794.800000  \n",
       "Plumas                                   NaN  \n",
       "Riverside                                NaN  \n",
       "Sacramento                      14241.674897  \n",
       "San Benito                               NaN  \n",
       "San Bernardino                   8278.728179  \n",
       "San Diego                                NaN  \n",
       "San Francisco                            NaN  \n",
       "San Joaquin                              NaN  \n",
       "San Luis Obispo                          NaN  \n",
       "San Mateo                        8766.000000  \n",
       "Santa Barbara                            NaN  \n",
       "Santa Clara                      6138.995432  \n",
       "Santa Cruz                               NaN  \n",
       "Shasta                                   NaN  \n",
       "Sierra                                   NaN  \n",
       "Siskiyou                        12262.780488  \n",
       "Solano                                   NaN  \n",
       "Sonoma                                   NaN  \n",
       "Stanislaus                               NaN  \n",
       "Sutter                                   NaN  \n",
       "Tehama                                   NaN  \n",
       "Trinity                                  NaN  \n",
       "Tulare                                   NaN  \n",
       "Tuolumne                                 NaN  \n",
       "Ventura                                  NaN  \n",
       "Yolo                                     NaN  \n",
       "Yuba                                     NaN  "
      ]
     },
     "execution_count": 95,
     "metadata": {},
     "output_type": "execute_result"
    }
   ],
   "source": [
    "df_ca"
   ]
  },
  {
   "cell_type": "code",
   "execution_count": 96,
   "metadata": {},
   "outputs": [],
   "source": [
    "df_ca_nonan = df_ca[['size_kw', 'cost_per_watt', 'annual_insolation']].dropna()"
   ]
  },
  {
   "cell_type": "code",
   "execution_count": 97,
   "metadata": {},
   "outputs": [
    {
     "data": {
      "text/html": [
       "<div>\n",
       "<style scoped>\n",
       "    .dataframe tbody tr th:only-of-type {\n",
       "        vertical-align: middle;\n",
       "    }\n",
       "\n",
       "    .dataframe tbody tr th {\n",
       "        vertical-align: top;\n",
       "    }\n",
       "\n",
       "    .dataframe thead th {\n",
       "        text-align: right;\n",
       "    }\n",
       "</style>\n",
       "<table border=\"1\" class=\"dataframe\">\n",
       "  <thead>\n",
       "    <tr style=\"text-align: right;\">\n",
       "      <th></th>\n",
       "      <th>size_kw</th>\n",
       "      <th>cost_per_watt</th>\n",
       "      <th>annual_insolation</th>\n",
       "    </tr>\n",
       "  </thead>\n",
       "  <tbody>\n",
       "    <tr>\n",
       "      <th>size_kw</th>\n",
       "      <td>1.000000</td>\n",
       "      <td>-0.100589</td>\n",
       "      <td>0.018683</td>\n",
       "    </tr>\n",
       "    <tr>\n",
       "      <th>cost_per_watt</th>\n",
       "      <td>-0.100589</td>\n",
       "      <td>1.000000</td>\n",
       "      <td>-0.218307</td>\n",
       "    </tr>\n",
       "    <tr>\n",
       "      <th>annual_insolation</th>\n",
       "      <td>0.018683</td>\n",
       "      <td>-0.218307</td>\n",
       "      <td>1.000000</td>\n",
       "    </tr>\n",
       "  </tbody>\n",
       "</table>\n",
       "</div>"
      ],
      "text/plain": [
       "                    size_kw  cost_per_watt  annual_insolation\n",
       "size_kw            1.000000      -0.100589           0.018683\n",
       "cost_per_watt     -0.100589       1.000000          -0.218307\n",
       "annual_insolation  0.018683      -0.218307           1.000000"
      ]
     },
     "execution_count": 97,
     "metadata": {},
     "output_type": "execute_result"
    }
   ],
   "source": [
    "# looks like surprisingly, price is NEGATIVELY correlated with annual insolation, and not totally insignificantly.\n",
    "\n",
    "# mapping this stuff could be interesting.\n",
    "\n",
    "df_ca_nonan.corr()"
   ]
  },
  {
   "cell_type": "markdown",
   "metadata": {},
   "source": [
    "# Back to data cleaning"
   ]
  },
  {
   "cell_type": "code",
   "execution_count": 112,
   "metadata": {},
   "outputs": [],
   "source": [
    "import sqlite3\n",
    "import pandas as pd\n",
    "import numpy as np\n",
    "\n",
    "conn = sqlite3.Connection(\"./capstone.sqlite\")\n",
    "\n",
    "df = pd.read_sql(\"SELECT * FROM open_pv_clean\", con=conn)"
   ]
  },
  {
   "cell_type": "code",
   "execution_count": 113,
   "metadata": {},
   "outputs": [
    {
     "data": {
      "text/plain": [
       "30000.00      1588\n",
       "25000.00      1451\n",
       "20000.00      1286\n",
       "22000.00      1246\n",
       "24000.00      1200\n",
       "27000.00      1050\n",
       "21000.00      1045\n",
       "33000.00      1036\n",
       "18000.00       993\n",
       "35000.00       911\n",
       "40000.00       888\n",
       "28000.00       883\n",
       "26000.00       880\n",
       "15000.00       872\n",
       "28656.00       867\n",
       "39402.00       848\n",
       "19968.00       842\n",
       "24500.00       841\n",
       "36000.00       841\n",
       "33432.00       834\n",
       "35250.00       828\n",
       "26268.00       807\n",
       "26624.00       793\n",
       "21492.00       773\n",
       "45000.00       771\n",
       "23000.00       764\n",
       "27500.00       726\n",
       "26400.00       721\n",
       "23880.00       709\n",
       "16716.00       691\n",
       "              ... \n",
       "10182.54         1\n",
       "24156.25         1\n",
       "90810.12         1\n",
       "59587.80         1\n",
       "13486.37         1\n",
       "15881.25         1\n",
       "48997.80         1\n",
       "48227.50         1\n",
       "48227.00         1\n",
       "60413.00         1\n",
       "19007.00         1\n",
       "38652.90         1\n",
       "14913.80         1\n",
       "56528.99         1\n",
       "33984.17         1\n",
       "28716.48         1\n",
       "11379.38         1\n",
       "3776.00          1\n",
       "4865484.00       1\n",
       "65374.00         1\n",
       "17870.12         1\n",
       "34109.58         1\n",
       "15407.00         1\n",
       "82406.00         1\n",
       "68629.40         1\n",
       "42995.13         1\n",
       "12174.60         1\n",
       "14896.70         1\n",
       "24695.90         1\n",
       "524287.00        1\n",
       "Name: cost, Length: 162740, dtype: int64"
      ]
     },
     "execution_count": 113,
     "metadata": {},
     "output_type": "execute_result"
    }
   ],
   "source": [
    "# maybe we can impute cost? probably a function of technology and size.\n",
    "\n",
    "# cost is an object, let's change that.\n",
    "\n",
    "df['cost'].value_counts()"
   ]
  },
  {
   "cell_type": "code",
   "execution_count": 116,
   "metadata": {},
   "outputs": [],
   "source": [
    "df['cost'] = pd.to_numeric(df['cost'])"
   ]
  },
  {
   "cell_type": "code",
   "execution_count": 118,
   "metadata": {},
   "outputs": [
    {
     "data": {
      "text/plain": [
       "Poly              350762\n",
       "Mono              215217\n",
       "crystalline         7439\n",
       "Mono + a-Si         5063\n",
       "CIGS                1097\n",
       "CdTe                 664\n",
       "a-Si                 480\n",
       "a-Si + Micro-c        60\n",
       "Thin Film             52\n",
       "CIS                   43\n",
       "multiple              42\n",
       "Name: tech_1, dtype: int64"
      ]
     },
     "execution_count": 118,
     "metadata": {},
     "output_type": "execute_result"
    }
   ],
   "source": [
    "df['tech_1'].value_counts()"
   ]
  },
  {
   "cell_type": "code",
   "execution_count": 119,
   "metadata": {},
   "outputs": [
    {
     "data": {
      "text/html": [
       "<div>\n",
       "<style scoped>\n",
       "    .dataframe tbody tr th:only-of-type {\n",
       "        vertical-align: middle;\n",
       "    }\n",
       "\n",
       "    .dataframe tbody tr th {\n",
       "        vertical-align: top;\n",
       "    }\n",
       "\n",
       "    .dataframe thead th {\n",
       "        text-align: right;\n",
       "    }\n",
       "</style>\n",
       "<table border=\"1\" class=\"dataframe\">\n",
       "  <thead>\n",
       "    <tr style=\"text-align: right;\">\n",
       "      <th></th>\n",
       "      <th>cost</th>\n",
       "      <th>size_kw</th>\n",
       "      <th>annual_PV_prod</th>\n",
       "    </tr>\n",
       "  </thead>\n",
       "  <tbody>\n",
       "    <tr>\n",
       "      <th>cost</th>\n",
       "      <td>1.000000</td>\n",
       "      <td>0.940202</td>\n",
       "      <td>0.923671</td>\n",
       "    </tr>\n",
       "    <tr>\n",
       "      <th>size_kw</th>\n",
       "      <td>0.940202</td>\n",
       "      <td>1.000000</td>\n",
       "      <td>0.999858</td>\n",
       "    </tr>\n",
       "    <tr>\n",
       "      <th>annual_PV_prod</th>\n",
       "      <td>0.923671</td>\n",
       "      <td>0.999858</td>\n",
       "      <td>1.000000</td>\n",
       "    </tr>\n",
       "  </tbody>\n",
       "</table>\n",
       "</div>"
      ],
      "text/plain": [
       "                    cost   size_kw  annual_PV_prod\n",
       "cost            1.000000  0.940202        0.923671\n",
       "size_kw         0.940202  1.000000        0.999858\n",
       "annual_PV_prod  0.923671  0.999858        1.000000"
      ]
     },
     "execution_count": 119,
     "metadata": {},
     "output_type": "execute_result"
    }
   ],
   "source": [
    "# looks like size and kw are very highly correlated.\n",
    "\n",
    "df[['cost', 'size_kw', 'annual_PV_prod']].corr()"
   ]
  },
  {
   "cell_type": "code",
   "execution_count": 120,
   "metadata": {},
   "outputs": [
    {
     "data": {
      "text/plain": [
       "residential      928299\n",
       "none              42576\n",
       "commercial        36436\n",
       "government         5748\n",
       "nonprofit          4220\n",
       "educational        2703\n",
       "agricultural        441\n",
       "utility             230\n",
       "institutional        29\n",
       "public               28\n",
       "Name: install_type, dtype: int64"
      ]
     },
     "execution_count": 120,
     "metadata": {},
     "output_type": "execute_result"
    }
   ],
   "source": [
    "df['install_type'].value_counts()"
   ]
  },
  {
   "cell_type": "code",
   "execution_count": 124,
   "metadata": {},
   "outputs": [
    {
     "ename": "KeyError",
     "evalue": "'none'",
     "output_type": "error",
     "traceback": [
      "\u001b[1;31m---------------------------------------------------------------------------\u001b[0m",
      "\u001b[1;31mKeyError\u001b[0m                                  Traceback (most recent call last)",
      "\u001b[1;32m<ipython-input-124-709129de4049>\u001b[0m in \u001b[0;36m<module>\u001b[1;34m()\u001b[0m\n\u001b[0;32m      8\u001b[0m \u001b[1;33m\u001b[0m\u001b[0m\n\u001b[0;32m      9\u001b[0m \u001b[0mfig\u001b[0m \u001b[1;33m=\u001b[0m \u001b[0mplt\u001b[0m\u001b[1;33m.\u001b[0m\u001b[0mfigure\u001b[0m\u001b[1;33m(\u001b[0m\u001b[0mfigsize\u001b[0m\u001b[1;33m=\u001b[0m\u001b[1;33m(\u001b[0m\u001b[1;36m8\u001b[0m\u001b[1;33m,\u001b[0m\u001b[1;36m5\u001b[0m\u001b[1;33m)\u001b[0m\u001b[1;33m)\u001b[0m\u001b[1;33m\u001b[0m\u001b[0m\n\u001b[1;32m---> 10\u001b[1;33m \u001b[0mplt\u001b[0m\u001b[1;33m.\u001b[0m\u001b[0mscatter\u001b[0m\u001b[1;33m(\u001b[0m\u001b[0mx\u001b[0m\u001b[1;33m=\u001b[0m\u001b[0mdf\u001b[0m\u001b[1;33m[\u001b[0m\u001b[1;34m'size_kw'\u001b[0m\u001b[1;33m]\u001b[0m\u001b[1;33m,\u001b[0m \u001b[0my\u001b[0m\u001b[1;33m=\u001b[0m\u001b[0mdf\u001b[0m\u001b[1;33m[\u001b[0m\u001b[1;34m'cost'\u001b[0m\u001b[1;33m]\u001b[0m\u001b[1;33m,\u001b[0m \u001b[0mcolor\u001b[0m\u001b[1;33m=\u001b[0m\u001b[0mdf\u001b[0m\u001b[1;33m[\u001b[0m\u001b[1;34m'install_type'\u001b[0m\u001b[1;33m]\u001b[0m\u001b[1;33m.\u001b[0m\u001b[0mapply\u001b[0m\u001b[1;33m(\u001b[0m\u001b[1;32mlambda\u001b[0m \u001b[0mx\u001b[0m\u001b[1;33m:\u001b[0m \u001b[0mcolors\u001b[0m\u001b[1;33m[\u001b[0m\u001b[0mx\u001b[0m\u001b[1;33m]\u001b[0m\u001b[1;33m)\u001b[0m\u001b[1;33m,\u001b[0m \u001b[0malpha\u001b[0m\u001b[1;33m=\u001b[0m\u001b[1;36m0.4\u001b[0m\u001b[1;33m)\u001b[0m\u001b[1;33m\u001b[0m\u001b[0m\n\u001b[0m",
      "\u001b[1;32mC:\\Anaconda\\lib\\site-packages\\pandas\\core\\series.py\u001b[0m in \u001b[0;36mapply\u001b[1;34m(self, func, convert_dtype, args, **kwds)\u001b[0m\n\u001b[0;32m   3192\u001b[0m             \u001b[1;32melse\u001b[0m\u001b[1;33m:\u001b[0m\u001b[1;33m\u001b[0m\u001b[0m\n\u001b[0;32m   3193\u001b[0m                 \u001b[0mvalues\u001b[0m \u001b[1;33m=\u001b[0m \u001b[0mself\u001b[0m\u001b[1;33m.\u001b[0m\u001b[0mastype\u001b[0m\u001b[1;33m(\u001b[0m\u001b[0mobject\u001b[0m\u001b[1;33m)\u001b[0m\u001b[1;33m.\u001b[0m\u001b[0mvalues\u001b[0m\u001b[1;33m\u001b[0m\u001b[0m\n\u001b[1;32m-> 3194\u001b[1;33m                 \u001b[0mmapped\u001b[0m \u001b[1;33m=\u001b[0m \u001b[0mlib\u001b[0m\u001b[1;33m.\u001b[0m\u001b[0mmap_infer\u001b[0m\u001b[1;33m(\u001b[0m\u001b[0mvalues\u001b[0m\u001b[1;33m,\u001b[0m \u001b[0mf\u001b[0m\u001b[1;33m,\u001b[0m \u001b[0mconvert\u001b[0m\u001b[1;33m=\u001b[0m\u001b[0mconvert_dtype\u001b[0m\u001b[1;33m)\u001b[0m\u001b[1;33m\u001b[0m\u001b[0m\n\u001b[0m\u001b[0;32m   3195\u001b[0m \u001b[1;33m\u001b[0m\u001b[0m\n\u001b[0;32m   3196\u001b[0m         \u001b[1;32mif\u001b[0m \u001b[0mlen\u001b[0m\u001b[1;33m(\u001b[0m\u001b[0mmapped\u001b[0m\u001b[1;33m)\u001b[0m \u001b[1;32mand\u001b[0m \u001b[0misinstance\u001b[0m\u001b[1;33m(\u001b[0m\u001b[0mmapped\u001b[0m\u001b[1;33m[\u001b[0m\u001b[1;36m0\u001b[0m\u001b[1;33m]\u001b[0m\u001b[1;33m,\u001b[0m \u001b[0mSeries\u001b[0m\u001b[1;33m)\u001b[0m\u001b[1;33m:\u001b[0m\u001b[1;33m\u001b[0m\u001b[0m\n",
      "\u001b[1;32mpandas/_libs/src\\inference.pyx\u001b[0m in \u001b[0;36mpandas._libs.lib.map_infer\u001b[1;34m()\u001b[0m\n",
      "\u001b[1;32m<ipython-input-124-709129de4049>\u001b[0m in \u001b[0;36m<lambda>\u001b[1;34m(x)\u001b[0m\n\u001b[0;32m      8\u001b[0m \u001b[1;33m\u001b[0m\u001b[0m\n\u001b[0;32m      9\u001b[0m \u001b[0mfig\u001b[0m \u001b[1;33m=\u001b[0m \u001b[0mplt\u001b[0m\u001b[1;33m.\u001b[0m\u001b[0mfigure\u001b[0m\u001b[1;33m(\u001b[0m\u001b[0mfigsize\u001b[0m\u001b[1;33m=\u001b[0m\u001b[1;33m(\u001b[0m\u001b[1;36m8\u001b[0m\u001b[1;33m,\u001b[0m\u001b[1;36m5\u001b[0m\u001b[1;33m)\u001b[0m\u001b[1;33m)\u001b[0m\u001b[1;33m\u001b[0m\u001b[0m\n\u001b[1;32m---> 10\u001b[1;33m \u001b[0mplt\u001b[0m\u001b[1;33m.\u001b[0m\u001b[0mscatter\u001b[0m\u001b[1;33m(\u001b[0m\u001b[0mx\u001b[0m\u001b[1;33m=\u001b[0m\u001b[0mdf\u001b[0m\u001b[1;33m[\u001b[0m\u001b[1;34m'size_kw'\u001b[0m\u001b[1;33m]\u001b[0m\u001b[1;33m,\u001b[0m \u001b[0my\u001b[0m\u001b[1;33m=\u001b[0m\u001b[0mdf\u001b[0m\u001b[1;33m[\u001b[0m\u001b[1;34m'cost'\u001b[0m\u001b[1;33m]\u001b[0m\u001b[1;33m,\u001b[0m \u001b[0mcolor\u001b[0m\u001b[1;33m=\u001b[0m\u001b[0mdf\u001b[0m\u001b[1;33m[\u001b[0m\u001b[1;34m'install_type'\u001b[0m\u001b[1;33m]\u001b[0m\u001b[1;33m.\u001b[0m\u001b[0mapply\u001b[0m\u001b[1;33m(\u001b[0m\u001b[1;32mlambda\u001b[0m \u001b[0mx\u001b[0m\u001b[1;33m:\u001b[0m \u001b[0mcolors\u001b[0m\u001b[1;33m[\u001b[0m\u001b[0mx\u001b[0m\u001b[1;33m]\u001b[0m\u001b[1;33m)\u001b[0m\u001b[1;33m,\u001b[0m \u001b[0malpha\u001b[0m\u001b[1;33m=\u001b[0m\u001b[1;36m0.4\u001b[0m\u001b[1;33m)\u001b[0m\u001b[1;33m\u001b[0m\u001b[0m\n\u001b[0m",
      "\u001b[1;31mKeyError\u001b[0m: 'none'"
     ]
    },
    {
     "data": {
      "text/plain": [
       "<Figure size 576x360 with 0 Axes>"
      ]
     },
     "metadata": {},
     "output_type": "display_data"
    }
   ],
   "source": [
    "# Let's just make a simple linear regression using size as the feature and cost as the training and fill it in with\n",
    "# that.\n",
    "\n",
    "colors = {'residential':'red', 'commercial':'blue', 'government':'green', 'nonprofit':'black',\n",
    "         'educational': 'yellow', 'agricultural': 'purple', 'utility': 'pink', 'institutional': 'brown',\n",
    "         'public': 'orange'}\n",
    "\n",
    "\n",
    "fig = plt.figure(figsize=(8,5))\n",
    "plt.scatter(x=df['size_kw'], y=df['cost'], color=df['install_type'].apply(lambda x: colors[x]), alpha=0.4)\n"
   ]
  },
  {
   "cell_type": "code",
   "execution_count": 125,
   "metadata": {},
   "outputs": [],
   "source": [
    "from sklearn.linear_model import LinearRegression"
   ]
  },
  {
   "cell_type": "code",
   "execution_count": 126,
   "metadata": {},
   "outputs": [],
   "source": [
    "cost_size = df[['cost', 'size_kw']]\n",
    "cost_size = cost_size.dropna()"
   ]
  },
  {
   "cell_type": "code",
   "execution_count": 127,
   "metadata": {},
   "outputs": [],
   "source": [
    "lin_reg = LinearRegression()"
   ]
  },
  {
   "cell_type": "code",
   "execution_count": 128,
   "metadata": {},
   "outputs": [
    {
     "data": {
      "text/html": [
       "<div>\n",
       "<style scoped>\n",
       "    .dataframe tbody tr th:only-of-type {\n",
       "        vertical-align: middle;\n",
       "    }\n",
       "\n",
       "    .dataframe tbody tr th {\n",
       "        vertical-align: top;\n",
       "    }\n",
       "\n",
       "    .dataframe thead th {\n",
       "        text-align: right;\n",
       "    }\n",
       "</style>\n",
       "<table border=\"1\" class=\"dataframe\">\n",
       "  <thead>\n",
       "    <tr style=\"text-align: right;\">\n",
       "      <th></th>\n",
       "      <th>cost</th>\n",
       "      <th>size_kw</th>\n",
       "    </tr>\n",
       "  </thead>\n",
       "  <tbody>\n",
       "    <tr>\n",
       "      <th>0</th>\n",
       "      <td>30600.53</td>\n",
       "      <td>10.560</td>\n",
       "    </tr>\n",
       "    <tr>\n",
       "      <th>1</th>\n",
       "      <td>40000.00</td>\n",
       "      <td>12.720</td>\n",
       "    </tr>\n",
       "    <tr>\n",
       "      <th>2</th>\n",
       "      <td>22665.58</td>\n",
       "      <td>5.400</td>\n",
       "    </tr>\n",
       "    <tr>\n",
       "      <th>3</th>\n",
       "      <td>17550.00</td>\n",
       "      <td>6.785</td>\n",
       "    </tr>\n",
       "    <tr>\n",
       "      <th>4</th>\n",
       "      <td>12150.00</td>\n",
       "      <td>4.720</td>\n",
       "    </tr>\n",
       "  </tbody>\n",
       "</table>\n",
       "</div>"
      ],
      "text/plain": [
       "       cost  size_kw\n",
       "0  30600.53   10.560\n",
       "1  40000.00   12.720\n",
       "2  22665.58    5.400\n",
       "3  17550.00    6.785\n",
       "4  12150.00    4.720"
      ]
     },
     "execution_count": 128,
     "metadata": {},
     "output_type": "execute_result"
    }
   ],
   "source": [
    "cost_size.head()"
   ]
  },
  {
   "cell_type": "code",
   "execution_count": 129,
   "metadata": {
    "scrolled": false
   },
   "outputs": [
    {
     "ename": "AttributeError",
     "evalue": "'Series' object has no attribute 'reshape'",
     "output_type": "error",
     "traceback": [
      "\u001b[1;31m---------------------------------------------------------------------------\u001b[0m",
      "\u001b[1;31mAttributeError\u001b[0m                            Traceback (most recent call last)",
      "\u001b[1;32m<ipython-input-129-28058e3e5765>\u001b[0m in \u001b[0;36m<module>\u001b[1;34m()\u001b[0m\n\u001b[1;32m----> 1\u001b[1;33m \u001b[0mX\u001b[0m \u001b[1;33m=\u001b[0m \u001b[0mcost_size\u001b[0m\u001b[1;33m[\u001b[0m\u001b[1;34m'size_kw'\u001b[0m\u001b[1;33m]\u001b[0m\u001b[1;33m.\u001b[0m\u001b[0mreshape\u001b[0m\u001b[1;33m(\u001b[0m\u001b[1;33m(\u001b[0m\u001b[0mlen\u001b[0m\u001b[1;33m(\u001b[0m\u001b[0mcost_size\u001b[0m\u001b[1;33m[\u001b[0m\u001b[1;34m'size_kw'\u001b[0m\u001b[1;33m]\u001b[0m\u001b[1;33m)\u001b[0m\u001b[1;33m,\u001b[0m \u001b[1;36m1\u001b[0m\u001b[1;33m)\u001b[0m\u001b[1;33m)\u001b[0m\u001b[1;33m\u001b[0m\u001b[0m\n\u001b[0m\u001b[0;32m      2\u001b[0m \u001b[1;33m\u001b[0m\u001b[0m\n\u001b[0;32m      3\u001b[0m \u001b[0mlin_reg\u001b[0m\u001b[1;33m.\u001b[0m\u001b[0mfit\u001b[0m\u001b[1;33m(\u001b[0m\u001b[0mX\u001b[0m\u001b[1;33m=\u001b[0m\u001b[0mX\u001b[0m\u001b[1;33m,\u001b[0m \u001b[0my\u001b[0m\u001b[1;33m=\u001b[0m\u001b[0mnp\u001b[0m\u001b[1;33m.\u001b[0m\u001b[0marray\u001b[0m\u001b[1;33m(\u001b[0m\u001b[0mcost_size\u001b[0m\u001b[1;33m[\u001b[0m\u001b[1;34m'cost'\u001b[0m\u001b[1;33m]\u001b[0m\u001b[1;33m)\u001b[0m\u001b[1;33m)\u001b[0m\u001b[1;33m\u001b[0m\u001b[0m\n",
      "\u001b[1;32mC:\\Anaconda\\lib\\site-packages\\pandas\\core\\generic.py\u001b[0m in \u001b[0;36m__getattr__\u001b[1;34m(self, name)\u001b[0m\n\u001b[0;32m   4374\u001b[0m             \u001b[1;32mif\u001b[0m \u001b[0mself\u001b[0m\u001b[1;33m.\u001b[0m\u001b[0m_info_axis\u001b[0m\u001b[1;33m.\u001b[0m\u001b[0m_can_hold_identifiers_and_holds_name\u001b[0m\u001b[1;33m(\u001b[0m\u001b[0mname\u001b[0m\u001b[1;33m)\u001b[0m\u001b[1;33m:\u001b[0m\u001b[1;33m\u001b[0m\u001b[0m\n\u001b[0;32m   4375\u001b[0m                 \u001b[1;32mreturn\u001b[0m \u001b[0mself\u001b[0m\u001b[1;33m[\u001b[0m\u001b[0mname\u001b[0m\u001b[1;33m]\u001b[0m\u001b[1;33m\u001b[0m\u001b[0m\n\u001b[1;32m-> 4376\u001b[1;33m             \u001b[1;32mreturn\u001b[0m \u001b[0mobject\u001b[0m\u001b[1;33m.\u001b[0m\u001b[0m__getattribute__\u001b[0m\u001b[1;33m(\u001b[0m\u001b[0mself\u001b[0m\u001b[1;33m,\u001b[0m \u001b[0mname\u001b[0m\u001b[1;33m)\u001b[0m\u001b[1;33m\u001b[0m\u001b[0m\n\u001b[0m\u001b[0;32m   4377\u001b[0m \u001b[1;33m\u001b[0m\u001b[0m\n\u001b[0;32m   4378\u001b[0m     \u001b[1;32mdef\u001b[0m \u001b[0m__setattr__\u001b[0m\u001b[1;33m(\u001b[0m\u001b[0mself\u001b[0m\u001b[1;33m,\u001b[0m \u001b[0mname\u001b[0m\u001b[1;33m,\u001b[0m \u001b[0mvalue\u001b[0m\u001b[1;33m)\u001b[0m\u001b[1;33m:\u001b[0m\u001b[1;33m\u001b[0m\u001b[0m\n",
      "\u001b[1;31mAttributeError\u001b[0m: 'Series' object has no attribute 'reshape'"
     ]
    }
   ],
   "source": [
    "X = cost_size['size_kw'].reshape((len(cost_size['size_kw']), 1))\n",
    "\n",
    "lin_reg.fit(X=X, y=np.array(cost_size['cost']))"
   ]
  },
  {
   "cell_type": "code",
   "execution_count": null,
   "metadata": {},
   "outputs": [],
   "source": [
    "def fill_cost(row):\n",
    "    if np.isnan(row['cost']) and not np.isnan(row['size_kw']):\n",
    "        row['cost'] = lin_reg.predict(row['size_kw'])[0]\n",
    "    return row\n"
   ]
  },
  {
   "cell_type": "code",
   "execution_count": null,
   "metadata": {},
   "outputs": [],
   "source": [
    "df = df.apply(fill_cost, axis=1)"
   ]
  },
  {
   "cell_type": "code",
   "execution_count": null,
   "metadata": {},
   "outputs": [],
   "source": [
    "df['cost'].isnull().sum()"
   ]
  },
  {
   "cell_type": "code",
   "execution_count": null,
   "metadata": {},
   "outputs": [],
   "source": [
    "df.to_sql(\"open_pv_clean_backup\", con=conn, if_exists=\"replace\")"
   ]
  },
  {
   "cell_type": "code",
   "execution_count": null,
   "metadata": {},
   "outputs": [],
   "source": [
    "df.to_sql(\"open_pv_clean\", con=conn, if_exists=\"replace\")"
   ]
  },
  {
   "cell_type": "markdown",
   "metadata": {},
   "source": [
    "# Moving to some Columns with Few Values"
   ]
  },
  {
   "cell_type": "code",
   "execution_count": null,
   "metadata": {},
   "outputs": [],
   "source": [
    "df = pd.read_sql(\"SELECT * FROM open_pv_clean\", con=conn)"
   ]
  },
  {
   "cell_type": "code",
   "execution_count": null,
   "metadata": {},
   "outputs": [],
   "source": [
    "df.info()"
   ]
  },
  {
   "cell_type": "code",
   "execution_count": null,
   "metadata": {},
   "outputs": [],
   "source": [
    "# year and date installed are just all the same. ditching year.\n",
    "\n",
    "df.loc[df.year.notnull(), ['year', 'date_installed']]"
   ]
  },
  {
   "cell_type": "code",
   "execution_count": null,
   "metadata": {},
   "outputs": [],
   "source": [
    "del(df['year'])"
   ]
  },
  {
   "cell_type": "code",
   "execution_count": null,
   "metadata": {},
   "outputs": [],
   "source": [
    "# there's just too little information here to do anthing.\n",
    "\n",
    "df['pbi_length'].value_counts()"
   ]
  },
  {
   "cell_type": "code",
   "execution_count": null,
   "metadata": {},
   "outputs": [],
   "source": [
    "del(df['pbi_length'])"
   ]
  },
  {
   "cell_type": "code",
   "execution_count": null,
   "metadata": {},
   "outputs": [],
   "source": [
    "df.loc[df.utility.notnull(), 'utility_clean'] = df.loc[df.utility.notnull(), 'utility']"
   ]
  },
  {
   "cell_type": "code",
   "execution_count": null,
   "metadata": {},
   "outputs": [],
   "source": [
    "del[df['utility']]"
   ]
  },
  {
   "cell_type": "code",
   "execution_count": null,
   "metadata": {},
   "outputs": [],
   "source": [
    "# let's just make a new column for this, it's for buildings, just 1 or 0 if they have it.\n",
    "\n",
    "df.loc[df['bipv_1'].notnull(), ['bipv_1', 'bipv_2', 'bipv_3']]"
   ]
  },
  {
   "cell_type": "code",
   "execution_count": null,
   "metadata": {},
   "outputs": [],
   "source": [
    "df['bipv'] = [1 if bipv == 1.0 else 0 for bipv in df['bipv_1']]"
   ]
  },
  {
   "cell_type": "code",
   "execution_count": null,
   "metadata": {},
   "outputs": [],
   "source": [
    "del(df['bipv_1'])\n",
    "del(df['bipv_2'])\n",
    "del(df['bipv_3'])"
   ]
  },
  {
   "cell_type": "code",
   "execution_count": null,
   "metadata": {},
   "outputs": [],
   "source": [
    "# I guess this is whether it's a new construction or somehting? i'll just fill na with 0\n",
    "\n",
    "df['new_constr'].value_counts()"
   ]
  },
  {
   "cell_type": "code",
   "execution_count": null,
   "metadata": {},
   "outputs": [],
   "source": [
    "df['new_constr'].fillna(0, inplace=True)"
   ]
  },
  {
   "cell_type": "code",
   "execution_count": null,
   "metadata": {},
   "outputs": [],
   "source": [
    "# this probably corresponds to if these are \"tracking\" solar panels, we'll assume the ones that are blank are not,\n",
    "# so just fill with 0\n",
    "\n",
    "df['tracking'].value_counts()"
   ]
  },
  {
   "cell_type": "code",
   "execution_count": null,
   "metadata": {},
   "outputs": [],
   "source": [
    "df['tracking'].fillna(0, inplace=True)"
   ]
  },
  {
   "cell_type": "code",
   "execution_count": null,
   "metadata": {},
   "outputs": [],
   "source": [
    "df.loc[df['manuf1_clean'].notnull(), ['manuf1_clean', 'manuf2_clean', 'manuf3_clean']].head(100)"
   ]
  },
  {
   "cell_type": "code",
   "execution_count": null,
   "metadata": {},
   "outputs": [],
   "source": [
    "del(df['manuf1_clean'])\n",
    "del(df['manuf3_clean'])"
   ]
  },
  {
   "cell_type": "code",
   "execution_count": null,
   "metadata": {},
   "outputs": [],
   "source": [
    "df.rename(columns={'manuf2_clean': \"manufacturer\"}, inplace=True)"
   ]
  },
  {
   "cell_type": "code",
   "execution_count": null,
   "metadata": {},
   "outputs": [],
   "source": [
    "df.info()"
   ]
  },
  {
   "cell_type": "code",
   "execution_count": null,
   "metadata": {},
   "outputs": [],
   "source": [
    "# we may be able to fill in some manufacturer values, i wouldn't be surprised if it's really connected to\n",
    "# installer,\n",
    "\n",
    "# also may be connected to size and cost?\n",
    "\n",
    "df.to_sql(\"open_pv_clean_backup\", con=conn, if_exists='replace')"
   ]
  },
  {
   "cell_type": "code",
   "execution_count": null,
   "metadata": {},
   "outputs": [],
   "source": [
    "df.to_sql('open_pv_clean', con=conn, if_exists='replace')"
   ]
  },
  {
   "cell_type": "code",
   "execution_count": null,
   "metadata": {},
   "outputs": [],
   "source": [
    "# again just binary, going to fill with 0 for nas\n",
    "\n",
    "df['appraised'].value_counts()"
   ]
  },
  {
   "cell_type": "code",
   "execution_count": null,
   "metadata": {},
   "outputs": [],
   "source": [
    "df['appraised'].fillna(0, inplace=True)"
   ]
  },
  {
   "cell_type": "code",
   "execution_count": null,
   "metadata": {},
   "outputs": [],
   "source": [
    "df['lbnl_tts_version_year'].value_counts()"
   ]
  },
  {
   "cell_type": "code",
   "execution_count": null,
   "metadata": {},
   "outputs": [],
   "source": [
    "df['lbnl_tts'].value_counts()"
   ]
  },
  {
   "cell_type": "code",
   "execution_count": null,
   "metadata": {},
   "outputs": [],
   "source": [
    "# ok so either you have this thing or you don't the year is always 2016 just going to drop that shit\n",
    "# and fill the other one with 0\n",
    "\n",
    "del(df['lbnl_tts_version_year'])\n",
    "df['lbnl_tts'].fillna(0, inplace=True)"
   ]
  },
  {
   "cell_type": "markdown",
   "metadata": {},
   "source": [
    "# City"
   ]
  },
  {
   "cell_type": "code",
   "execution_count": null,
   "metadata": {},
   "outputs": [],
   "source": [
    "# loading in this mapping of zipcodes to locations, and we can just match the missing values with this.\n",
    "\n",
    "city_zip = pd.read_csv(\"./free-zipcode-database-Primary.csv\")"
   ]
  },
  {
   "cell_type": "code",
   "execution_count": null,
   "metadata": {},
   "outputs": [],
   "source": [
    "city_zip.columns"
   ]
  },
  {
   "cell_type": "code",
   "execution_count": null,
   "metadata": {},
   "outputs": [],
   "source": [
    "city_zip.info()"
   ]
  },
  {
   "cell_type": "code",
   "execution_count": null,
   "metadata": {},
   "outputs": [],
   "source": [
    "def fill_city(row):\n",
    "    if row['city'] is None:\n",
    "        try:\n",
    "            row['city'] = city_zip.loc[city_zip['Zipcode'] == int(row['zipcode']), 'City'].values[0]\n",
    "        except:\n",
    "            pass\n",
    "    return row\n",
    "    \n",
    "df = df.apply(fill_city, axis=1)"
   ]
  },
  {
   "cell_type": "code",
   "execution_count": null,
   "metadata": {},
   "outputs": [],
   "source": [
    "df.info()"
   ]
  },
  {
   "cell_type": "code",
   "execution_count": null,
   "metadata": {},
   "outputs": [],
   "source": [
    "df.to_sql('open_pv_clean_backup', con=conn, if_exists='replace')"
   ]
  },
  {
   "cell_type": "code",
   "execution_count": null,
   "metadata": {},
   "outputs": [],
   "source": [
    "df.to_sql('open_pv_clean', con=conn, if_exists=\"replace\")"
   ]
  },
  {
   "cell_type": "markdown",
   "metadata": {
    "collapsed": true
   },
   "source": [
    "# Starting May 11th"
   ]
  },
  {
   "cell_type": "code",
   "execution_count": null,
   "metadata": {},
   "outputs": [],
   "source": [
    "import sqlite3\n",
    "import matplotlib.pyplot as plt\n",
    "import seaborn as sns\n",
    "\n",
    "%matplotlib inline"
   ]
  },
  {
   "cell_type": "code",
   "execution_count": null,
   "metadata": {},
   "outputs": [],
   "source": [
    "conn = sqlite3.Connection(\"./capstone.sqlite\")"
   ]
  },
  {
   "cell_type": "code",
   "execution_count": null,
   "metadata": {},
   "outputs": [],
   "source": [
    "df = pd.read_sql('SELECT * FROM open_pv_clean', con=conn)"
   ]
  },
  {
   "cell_type": "code",
   "execution_count": null,
   "metadata": {},
   "outputs": [],
   "source": [
    "df.info()"
   ]
  },
  {
   "cell_type": "code",
   "execution_count": null,
   "metadata": {},
   "outputs": [],
   "source": [
    "zipcode_df = pd.read_csv(\"./free-zipcode-database-Primary.csv\")"
   ]
  },
  {
   "cell_type": "code",
   "execution_count": null,
   "metadata": {},
   "outputs": [],
   "source": [
    "# I want to do county, but it's going to be tough and there are so few missing values I'm just going to fill with no\n",
    "# county"
   ]
  },
  {
   "cell_type": "code",
   "execution_count": null,
   "metadata": {},
   "outputs": [],
   "source": [
    "df.county.fillna(\"no_county\", inplace=True)"
   ]
  },
  {
   "cell_type": "code",
   "execution_count": null,
   "metadata": {},
   "outputs": [],
   "source": [
    "df.tech_1.value_counts()"
   ]
  },
  {
   "cell_type": "code",
   "execution_count": null,
   "metadata": {},
   "outputs": [],
   "source": [
    "tech_costs = df[['tech_1', 'size_kw', 'cost']].groupby('tech_1').sum()"
   ]
  },
  {
   "cell_type": "code",
   "execution_count": null,
   "metadata": {},
   "outputs": [],
   "source": [
    "tech_costs['size/cost'] = tech_costs['size_kw']/tech_costs['cost']  "
   ]
  },
  {
   "cell_type": "code",
   "execution_count": null,
   "metadata": {},
   "outputs": [],
   "source": [
    "# we could do a simple t-test to see if there's a difference between these two groups w/r/t cost, or even\n",
    "# do markov chain monte carlo to see how big that difference is."
   ]
  },
  {
   "cell_type": "code",
   "execution_count": null,
   "metadata": {},
   "outputs": [],
   "source": [
    "mask_1 = df[df['tech_1'] == \"Mono\"]['cost_per_watt'].notnull()\n",
    "mask_2 = df[df['tech_1'] == \"Poly\"]['cost_per_watt'].notnull()"
   ]
  },
  {
   "cell_type": "code",
   "execution_count": null,
   "metadata": {},
   "outputs": [],
   "source": [
    "# Hard to see that these distributions are any different...\n",
    "\n",
    "fig = plt.figure(figsize=(10,7))\n",
    "sns.distplot(df.loc[df['tech_1'] == \"Mono\", 'cost_per_watt'].dropna(), bins=40)\n",
    "sns.distplot(df.loc[df['tech_1'] == \"Poly\", 'cost_per_watt'].dropna(), bins=40)\n",
    "plt.xlim((0,13))"
   ]
  },
  {
   "cell_type": "code",
   "execution_count": null,
   "metadata": {},
   "outputs": [],
   "source": [
    "from scipy.stats import ttest_ind\n",
    "\n",
    "ttest_ind(df.loc[df['tech_1'] == \"Mono\", 'cost_per_watt'].dropna(), df.loc[df['tech_1'] == \"Poly\", 'cost_per_watt'].dropna(),\n",
    "         equal_var = False)"
   ]
  },
  {
   "cell_type": "code",
   "execution_count": null,
   "metadata": {},
   "outputs": [],
   "source": [
    "# I don't buy this result...\n",
    "\n",
    "# maybe some companies only sell certain types of technology?"
   ]
  },
  {
   "cell_type": "code",
   "execution_count": null,
   "metadata": {},
   "outputs": [],
   "source": [
    "df.info()"
   ]
  },
  {
   "cell_type": "code",
   "execution_count": null,
   "metadata": {},
   "outputs": [],
   "source": [
    "installers_tech = df.groupby([\"installer\", 'tech_1']).size().reset_index()"
   ]
  },
  {
   "cell_type": "code",
   "execution_count": null,
   "metadata": {},
   "outputs": [],
   "source": [
    "installers_tech.sort_values(0, inplace=True, ascending=False)"
   ]
  },
  {
   "cell_type": "code",
   "execution_count": null,
   "metadata": {},
   "outputs": [],
   "source": [
    "# interesting that solarcity almost exclusively installs poly.  may be safe to just input poly to all the\n",
    "# ones where the installer is solarcity\n",
    "\n",
    "installers_tech"
   ]
  },
  {
   "cell_type": "code",
   "execution_count": null,
   "metadata": {},
   "outputs": [],
   "source": [
    "# It seems like for a lot of companies they have a main one that they do a lot of.  Just going to input based on\n",
    "# installer mode.\n",
    "\n",
    "print df.groupby([\"installer\", 'tech_1']).size()"
   ]
  },
  {
   "cell_type": "code",
   "execution_count": null,
   "metadata": {},
   "outputs": [],
   "source": [
    "installers = df.installer.unique().tolist()\n",
    "installers.remove(None)\n",
    "\n",
    "for installer in installers:\n",
    "    non_nulls = df.loc[df['installer'] == installer, 'tech_1'].notnull().sum()\n",
    "    if non_nulls == 0:\n",
    "        df.loc[df['installer'] == installer, 'tech_1'].fillna(\"Poly\", inplace=True)\n",
    "    else:\n",
    "        mode_tech = df.loc[df['installer'] == installer, 'tech_1'].value_counts().index[0]\n",
    "        df.loc[df['installer'] == installer, 'tech_1'].fillna(mode_tech, inplace=True)\n",
    "        \n",
    "df['installer'].isnull().sum()"
   ]
  },
  {
   "cell_type": "code",
   "execution_count": null,
   "metadata": {},
   "outputs": [],
   "source": [
    "# not sure I actually want to do this.\n",
    "\n"
   ]
  },
  {
   "cell_type": "code",
   "execution_count": null,
   "metadata": {},
   "outputs": [],
   "source": [
    "df['3rdparty'].value_counts()"
   ]
  },
  {
   "cell_type": "code",
   "execution_count": null,
   "metadata": {},
   "outputs": [],
   "source": [
    "df['3rdparty'].fillna(0, inplace=True)"
   ]
  },
  {
   "cell_type": "markdown",
   "metadata": {},
   "source": [
    "# Reported annual PV and annual PV:\n",
    "\n",
    "These columns are really similar.\n",
    "\n",
    "One way to consolodate these could be to just merge the smaller one into the larger one where there are missing values."
   ]
  },
  {
   "cell_type": "code",
   "execution_count": null,
   "metadata": {},
   "outputs": [],
   "source": [
    "df[['reported_annual_energy_prod', 'annual_PV_prod']]\n",
    "\n",
    "# these are really just so similar.  Let's do it. # I've also graphed them before, there's really not too many places\n",
    "# where they differ a lot."
   ]
  },
  {
   "cell_type": "code",
   "execution_count": null,
   "metadata": {},
   "outputs": [],
   "source": [
    "df.annual_PV_prod.fillna(df.reported_annual_energy_prod, inplace=True)"
   ]
  },
  {
   "cell_type": "code",
   "execution_count": null,
   "metadata": {},
   "outputs": [],
   "source": [
    "df.annual_PV_prod.isnull().sum()"
   ]
  },
  {
   "cell_type": "code",
   "execution_count": null,
   "metadata": {},
   "outputs": [],
   "source": [
    "# I think that's really as good as we're going to get with this."
   ]
  },
  {
   "cell_type": "code",
   "execution_count": null,
   "metadata": {},
   "outputs": [],
   "source": [
    "df.info()"
   ]
  },
  {
   "cell_type": "code",
   "execution_count": null,
   "metadata": {},
   "outputs": [],
   "source": [
    "# That didn't seem to fill in too many values."
   ]
  },
  {
   "cell_type": "code",
   "execution_count": null,
   "metadata": {},
   "outputs": [],
   "source": [
    "df.tracking_type.value_counts()"
   ]
  },
  {
   "cell_type": "code",
   "execution_count": null,
   "metadata": {},
   "outputs": [],
   "source": [
    "# I think we can just fill this with \"no tracking\", though for regression and stuff if we just onehot encode\n",
    "# it shouldn't actually matter."
   ]
  },
  {
   "cell_type": "code",
   "execution_count": null,
   "metadata": {},
   "outputs": [],
   "source": [
    "# seems like this is the manufacturer, but there's so little data it seems like this will be tough to use.\n",
    "\n",
    "df['inv_man_clean'].value_counts()"
   ]
  },
  {
   "cell_type": "code",
   "execution_count": null,
   "metadata": {},
   "outputs": [],
   "source": [
    "# could be helpful to map tilt, I'm wondering if it's geographically related.\n",
    "\n",
    "df.tilt1.value_counts()"
   ]
  },
  {
   "cell_type": "code",
   "execution_count": null,
   "metadata": {},
   "outputs": [],
   "source": [
    "import plotly.plotly as py\n",
    "import cufflinks as cf\n",
    "import plotly.graph_objs as go\n",
    "\n",
    "df_small = df.sample(10000)\n",
    "lat_lon = pd.read_csv(\"./free-zipcode-database-Primary.csv\")\n",
    "lat_lon = lat_lon[['Zipcode', \"Lat\", \"Long\"]]\n",
    "df_sub = df_small.merge(lat_lon, left_on=\"zipcode\", right_on=\"Zipcode\")\n",
    "\n",
    "cat = dict(\n",
    "    type = 'scattergeo',\n",
    "    locationmode = 'USA-states',\n",
    "    lat = df_sub['Lat'],\n",
    "    lon = df_sub['Long'],\n",
    "    text = df_sub['tilt1'],\n",
    "    marker = dict(\n",
    "        size = 10,\n",
    "        color = df_small['tilt1'],\n",
    "        line = dict(width=0.5, color='rgb(40,40,40)'),\n",
    "        sizemode = 'area'\n",
    "    ),\n",
    "    name = 'tilt1')\n",
    "\n",
    "layout = dict(\n",
    "        title = 'tilt1 <br>(Click legend to toggle traces)',\n",
    "        showlegend = True,\n",
    "        geo = dict(\n",
    "            scope='usa',\n",
    "            projection=dict( type='albers usa' ),\n",
    "            showland = True,\n",
    "            landcolor = 'rgb(217, 217, 217)',\n",
    "            subunitwidth=1,\n",
    "            countrywidth=1,\n",
    "            subunitcolor=\"rgb(255, 255, 255)\",\n",
    "            countrycolor=\"rgb(255, 255, 255)\"\n",
    "        ),\n",
    "    )\n",
    "\n",
    "fig = dict( data=[cat], layout=layout )\n",
    "py.iplot( fig, validate=False, filename='tilt' )"
   ]
  },
  {
   "cell_type": "code",
   "execution_count": null,
   "metadata": {},
   "outputs": [],
   "source": [
    "# looks like tilt has nothing to do with geography really, but probably more to do with something about constraints\n",
    "# of the location where it's made, like the tilt of the roof it's on.\n",
    "\n",
    "# not sure how I missed this, want to fill the rest of installer with SolarCity\n",
    "df.installer.fillna(\"SolarCity\", inplace = True)"
   ]
  },
  {
   "cell_type": "code",
   "execution_count": null,
   "metadata": {},
   "outputs": [],
   "source": [
    "df.info()"
   ]
  },
  {
   "cell_type": "markdown",
   "metadata": {},
   "source": [
    "# Rebate"
   ]
  },
  {
   "cell_type": "code",
   "execution_count": null,
   "metadata": {},
   "outputs": [],
   "source": [
    "df.rebate = [str(rebate).replace(\"$\", \"\").replace(\",\", \"\") for rebate in df.rebate]"
   ]
  },
  {
   "cell_type": "code",
   "execution_count": null,
   "metadata": {},
   "outputs": [],
   "source": [
    "df.rebate = [rebate if rebate != 'nan' else np.nan for rebate in df.rebate]"
   ]
  },
  {
   "cell_type": "code",
   "execution_count": null,
   "metadata": {},
   "outputs": [],
   "source": [
    "# I'm going to fill rebate with 0s where it's null, probably means there was no rebate.\n",
    "\n",
    "df.rebate.fillna(0, inplace=True)"
   ]
  },
  {
   "cell_type": "code",
   "execution_count": null,
   "metadata": {},
   "outputs": [],
   "source": [
    "df.rebate = pd.to_numeric(df.rebate)"
   ]
  },
  {
   "cell_type": "code",
   "execution_count": null,
   "metadata": {},
   "outputs": [],
   "source": [
    "conn.text_factory = str\n",
    "\n",
    "df.to_sql(\"open_pv_clean_backup\", con=conn, if_exists='replace')\n"
   ]
  },
  {
   "cell_type": "code",
   "execution_count": null,
   "metadata": {},
   "outputs": [],
   "source": [
    "df.to_sql(\"open_pv_clean\", con=conn, if_exists='replace')\n"
   ]
  },
  {
   "cell_type": "markdown",
   "metadata": {},
   "source": [
    "# Date Installed.\n",
    "\n",
    "This is currently and object, let's make it a datetime."
   ]
  },
  {
   "cell_type": "code",
   "execution_count": null,
   "metadata": {},
   "outputs": [],
   "source": [
    "df.date_installed = pd.to_datetime(df.date_installed)"
   ]
  },
  {
   "cell_type": "markdown",
   "metadata": {},
   "source": [
    "# More Utility Cleaning\n",
    "\n",
    "Considering that we have so many installers, we may want to go ahead and limit it to say the top 10, or some smaller number that encapsulates a lot of the data, and then lump the rest in an \"other utility\" category.\n",
    "\n"
   ]
  },
  {
   "cell_type": "code",
   "execution_count": null,
   "metadata": {},
   "outputs": [],
   "source": [
    "# There are a few that really dominate our data set"
   ]
  },
  {
   "cell_type": "code",
   "execution_count": null,
   "metadata": {},
   "outputs": [],
   "source": [
    "# I messed up Utility Clean, I changed everything in the state instead of filling na...\n",
    "\n",
    "df.groupby(['state', 'utility_clean']).size()"
   ]
  },
  {
   "cell_type": "code",
   "execution_count": null,
   "metadata": {},
   "outputs": [],
   "source": [
    "df.utility_clean.value_counts()"
   ]
  },
  {
   "cell_type": "code",
   "execution_count": null,
   "metadata": {},
   "outputs": [],
   "source": [
    "# This isn't actually SO long, but still it seems like we wouldn't lose too much by going\n",
    "# from 400 to like 30 or 40"
   ]
  },
  {
   "cell_type": "code",
   "execution_count": null,
   "metadata": {},
   "outputs": [],
   "source": [
    "len(df.utility_clean.value_counts().tolist())"
   ]
  },
  {
   "cell_type": "code",
   "execution_count": null,
   "metadata": {},
   "outputs": [],
   "source": [
    "print sum(df.utility_clean.value_counts()[0:50]), sum(df.utility_clean.value_counts()[50:])"
   ]
  },
  {
   "cell_type": "code",
   "execution_count": null,
   "metadata": {},
   "outputs": [],
   "source": [
    "# even just limiting to the top 30 gets 95% of our data\n",
    "\n",
    "# for now I'm just going to use the top 50, we can always use even fewer.\n",
    "\n",
    "# Before doing that, I'm going to look over an ordered list of the utilities and see if there are some\n",
    "# mislabeled ones we can get rid of.\n",
    "\n",
    "sorted_utils = sorted(df.utility_clean.value_counts().index.tolist())"
   ]
  },
  {
   "cell_type": "markdown",
   "metadata": {},
   "source": [
    "# one's to change:\n",
    "\n",
    "- APE-T: AEP-TCC\n",
    "- Alliant\n",
    "- Ameren\n",
    "- Ashland\n",
    "- BHE\n",
    "- Burlington Elec\n",
    "- Carroll Electric Cooperative Corporation + Electric Cooperative Corporation\n",
    "- City of St Charles\n",
    "- ComEd = Commonwealth Edison Co\n",
    "- Connecticut Light\n",
    "- Coos-Curry Electric Coop\n",
    "- Delmarva\n",
    "- Duquesne\n",
    "- El Paso Electric\n",
    "- Entergy\n",
    "- Idaho Power Co\n",
    "- Carroll Energy = Jo Carrol Energy\n",
    "- Kit Carson Electric Coop\n",
    "- Littleton\n",
    "- Massachusetts Electric\n",
    "- McDonough Power\n",
    "- Menard Electric\n",
    "- MidAmerican Energy\n",
    "- Minnesota Power\n",
    "- NSTAR\n",
    "- Nicor Gas\n",
    "- Norris Elec = Norris Electric\n",
    "- North Shore Gas\n",
    "- Northern States Power Co\n",
    "- Oklahoma Gas = Oklahoma Gas and Eletric Company\n",
    "- Oncor not Concord\n",
    "- \"Orange \": Orange and Rockland\n",
    "- Oregon Trail = Oregon Trail Coop\n",
    "- PECO\n",
    "- PPL Electric Utilities\n",
    "- Portland General Electric\n",
    "- Sierra Pacific\n",
    "- Southern California Edison\n",
    "- Southwestern Electric\n",
    "- Springfield \n",
    "- Superior Water: Superior Water and Light\n",
    "- The Potomac Edison Co\n",
    "- Tri-County Electric\n",
    "- Umatilla Electric Coop\n",
    "- Wasco Electric Coop\n",
    "- West Penn Power Co\n"
   ]
  },
  {
   "cell_type": "code",
   "execution_count": null,
   "metadata": {},
   "outputs": [],
   "source": [
    "sorted_utils"
   ]
  },
  {
   "cell_type": "code",
   "execution_count": null,
   "metadata": {},
   "outputs": [],
   "source": [
    "# one's to change:\n",
    "\n",
    "utility_map = {\n",
    "    \"APE-T\": \"AEP-TCC\",\n",
    "    \"Alliant\": \"Alliant\",\n",
    "    \"Ameren\": \"Ameren\",\n",
    "    \"Ashland\": \"Ashland\",\n",
    "    \"BHE\": \"BHE\",\n",
    "    \"Burlington Elec\": \"Burlington Elec\",\n",
    "    \"Electric Cooperative Corporation\": \"Carroll Electric Cooperative Corporation\",  \n",
    "    \"City of St Charles\": \"City of St Charles\",\n",
    "    \"ComEd\": \"Commonwealth Edison Co\",\n",
    "    \"Connecticut Light\": \"Connecticut Light\",\n",
    "    \"Coos-Curry Electric Coop\": \"Coos-Curry Electric Coop\",\n",
    "    \"Delmarva\": \"Delmarva\",\n",
    "    \"Duquesne\": \"Duquesne\",\n",
    "    \"El Paso Electric\": \"El Paso Electric\",\n",
    "    \"Entergy\":  \"Entergy\",\n",
    "    \"Idaho Power Co\": \"Idaho Power Co\",\n",
    "    \"Carroll Energy\": \"Jo Carrol Energy\",\n",
    "    \"Kit Carson Electric Coop\": \"Kit Carson Electric Coop\",\n",
    "    \"Littleton\": \"Littleton\",\n",
    "    \"Massachusetts Electric\": \"Massachusetts Electric\",\n",
    "    \"McDonough Power\": \"McDonough Power\",\n",
    "    \"Menard Electric\": \"Menard Electric\",\n",
    "    \"MidAmerican Energy\": \"MidAmerican Energy\",\n",
    "    \"Minnesota Power\": \"Minnesota Power\",\n",
    "    \"NSTAR\": \"NSTAR\",\n",
    "    \"Nicor Gas\": \"Nicor Gas\",\n",
    "    \"Norris Elec\": \"Norris Electric\",\n",
    "    \"North Shore Gas\": \"North Shore Gas\",\n",
    "    \"Northern States Power Co\": \"Northern States Power Co\",\n",
    "    \"Oklahoma Gas\": \"Oklahoma Gas and Eletric Company\",\n",
    "    \"Oncor\": \"Oncor\",\n",
    "    \"Orange \": \"Orange and Rockland\",\n",
    "    \"Oregon Trail\": \"Oregon Trail Coop\",\n",
    "    \"PECO\": \"PECO\",\n",
    "    \"PPL Electric Utilities\": \"PPL Electric Utilities\",\n",
    "    \"Portland General Electric\": \"Portland General Electric\",\n",
    "    \"Sierra Pacific\": \"Sierra Pacific\",\n",
    "    \"Southern California Edison\": \"Southern California Edison\",\n",
    "    \"Southwestern Electric\" : \"Southwestern Electric\",\n",
    "    \"Springfield\": \"Springfield\",\n",
    "    \"Superior Water\": \"Superior Water and Light\",\n",
    "    \"The Potomac Edison Co\": \"The Potomac Edison Co\",\n",
    "    \"Tri-County Electric\": \"Tri-County Electric\",\n",
    "    \"Umatilla Electric Coop\": \"Umatilla Electric Coop\",\n",
    "    \"Wasco Electric Coop\": \"Wasco Electric Coop\",\n",
    "    \"West Penn Power Co\": \"West Penn Power Co\",\n",
    "}\n"
   ]
  },
  {
   "cell_type": "code",
   "execution_count": null,
   "metadata": {},
   "outputs": [],
   "source": [
    "for key, value in utility_map.items():\n",
    "    df.utility_clean = [value if key in utility else utility for utility in df.utility_clean]"
   ]
  },
  {
   "cell_type": "code",
   "execution_count": null,
   "metadata": {},
   "outputs": [],
   "source": [
    "# we got rid of a bunch :)\n",
    "\n",
    "len(df.utility_clean.value_counts())"
   ]
  },
  {
   "cell_type": "code",
   "execution_count": null,
   "metadata": {},
   "outputs": [],
   "source": [
    "# now we can do some grouping.\n",
    "\n",
    "df.utility_clean.value_counts()"
   ]
  },
  {
   "cell_type": "code",
   "execution_count": null,
   "metadata": {},
   "outputs": [],
   "source": [
    "# Making a list of the top 50 utilities and the \"no utility listed\" category\n",
    "# will loop through these to do matching, and name ones that aren't in this \"other\"\n",
    "\n",
    "top_50_utils = df.utility_clean.value_counts().index.tolist()[0:50]\n",
    "top_50_utils.append(\"no utility listed\")"
   ]
  },
  {
   "cell_type": "code",
   "execution_count": null,
   "metadata": {},
   "outputs": [],
   "source": [
    "df.utility_clean = [utility if utility in top_50_utils else \"other\" for utility in df.utility_clean]"
   ]
  },
  {
   "cell_type": "code",
   "execution_count": null,
   "metadata": {},
   "outputs": [],
   "source": [
    "# Reduced Utilities to top 50 and other.\n",
    "\n",
    "len(df.utility_clean.value_counts())"
   ]
  },
  {
   "cell_type": "code",
   "execution_count": null,
   "metadata": {},
   "outputs": [],
   "source": [
    "df.to_sql(\"open_pv_clean_backup\", con=conn, if_exists='replace')"
   ]
  },
  {
   "cell_type": "code",
   "execution_count": null,
   "metadata": {},
   "outputs": [],
   "source": [
    "df.to_sql(\"open_pv_clean\", con=conn, if_exists='replace')"
   ]
  },
  {
   "cell_type": "markdown",
   "metadata": {},
   "source": [
    "# Incentive Programs\n",
    "\n",
    "I'd like to get down the number of incentive program names, similar to utility names."
   ]
  },
  {
   "cell_type": "code",
   "execution_count": null,
   "metadata": {},
   "outputs": [],
   "source": [
    "# it's not actually too bad, but maybe there's some mislabeling?\n",
    "\n",
    "len(df.incentive_prog_names.value_counts())"
   ]
  },
  {
   "cell_type": "code",
   "execution_count": null,
   "metadata": {
    "scrolled": true
   },
   "outputs": [],
   "source": [
    "# Doesn't look like there's much to be done here, just going to leave it be.\n",
    "\n",
    "incentive_progs = sorted(df.incentive_prog_names.unique())\n",
    "incentive_progs"
   ]
  },
  {
   "cell_type": "code",
   "execution_count": null,
   "metadata": {},
   "outputs": [],
   "source": [
    "df.info()"
   ]
  },
  {
   "cell_type": "markdown",
   "metadata": {},
   "source": [
    "## Tracking + Tilt\n",
    "\n",
    "What is the tilt value for installations that have tracking?"
   ]
  },
  {
   "cell_type": "code",
   "execution_count": null,
   "metadata": {},
   "outputs": [],
   "source": [
    "mask = df[df['tracking'] = 1]"
   ]
  },
  {
   "cell_type": "code",
   "execution_count": null,
   "metadata": {},
   "outputs": [],
   "source": [
    "print df.loc[mask, 'tilt1'].isnull().sum()\n",
    "print df.loc[mask, 'tilt1'].notnull().sum()\n",
    "\n",
    "# if anything, having tracking makes it MORE likely that you'll have tilt listed."
   ]
  },
  {
   "cell_type": "code",
   "execution_count": null,
   "metadata": {},
   "outputs": [],
   "source": []
  },
  {
   "cell_type": "code",
   "execution_count": null,
   "metadata": {},
   "outputs": [],
   "source": []
  },
  {
   "cell_type": "code",
   "execution_count": null,
   "metadata": {},
   "outputs": [],
   "source": []
  },
  {
   "cell_type": "markdown",
   "metadata": {},
   "source": [
    "# Starting to Drop Columns and NAs to build Final Dataset.\n",
    "\n",
    "At this point it seems like I may have exhausted my ability to clean up this dataset much more.\n",
    "\n",
    "columns to include:\n",
    "\n",
    "- state                          \n",
    "- date_installed                 \n",
    "- incentive_prog_names           \n",
    "- type                          \n",
    "- size_kw                        \n",
    "- appraised                      \n",
    "- zipcode                        \n",
    "- install_type                   \n",
    "- installer                      \n",
    "- cost_per_watt \n",
    "- lbnl_tts                      \n",
    "- utility_clean                 \n",
    "- model1_clean                   \n",
    "- annual_PV_prod                 \n",
    "- annual_insolation              \n",
    "- tech_1                         \n",
    "- rebate                         \n",
    "- new_constr                     \n",
    "- tracking                       \n",
    "- 3rdparty                       \n",
    "- bipv                           "
   ]
  },
  {
   "cell_type": "code",
   "execution_count": null,
   "metadata": {},
   "outputs": [],
   "source": [
    "df_final = df[['state', 'date_installed', 'incentive_prog_names', 'type', 'size_kw', 'appraised', 'install_type',\n",
    "              'installer', 'cost_per_watt', 'lbnl_tts', 'utility_clean', 'model1_clean', 'annual_PV_prod', \n",
    "              'annual_insolation', 'tech_1', 'rebate', 'new_constr', 'tracking', '3rdparty', 'bipv']]"
   ]
  },
  {
   "cell_type": "code",
   "execution_count": null,
   "metadata": {},
   "outputs": [],
   "source": [
    "# dropping any row where we don't have cost per watt, given that's ultimately what I'm interesting in predicting.\n",
    "\n",
    "# It might actually be more interesting to look at predicting annual PV produced, but we can look into that later.\n",
    "\n",
    "df_final = df_final[df_final.cost_per_watt.notnull()]"
   ]
  },
  {
   "cell_type": "code",
   "execution_count": null,
   "metadata": {
    "scrolled": true
   },
   "outputs": [],
   "source": [
    "# there are some tough calls to make here, to drop the columns with null values, or to drop a bunch of rows.\n",
    "# I could try training models both ways and see what happens.\n",
    "\n",
    "df_final.info() "
   ]
  },
  {
   "cell_type": "code",
   "execution_count": null,
   "metadata": {},
   "outputs": [],
   "source": []
  },
  {
   "cell_type": "code",
   "execution_count": null,
   "metadata": {},
   "outputs": [],
   "source": []
  },
  {
   "cell_type": "code",
   "execution_count": null,
   "metadata": {},
   "outputs": [],
   "source": []
  },
  {
   "cell_type": "code",
   "execution_count": null,
   "metadata": {},
   "outputs": [],
   "source": []
  },
  {
   "cell_type": "code",
   "execution_count": null,
   "metadata": {},
   "outputs": [],
   "source": []
  },
  {
   "cell_type": "code",
   "execution_count": null,
   "metadata": {},
   "outputs": [],
   "source": []
  },
  {
   "cell_type": "code",
   "execution_count": null,
   "metadata": {},
   "outputs": [],
   "source": []
  },
  {
   "cell_type": "code",
   "execution_count": null,
   "metadata": {},
   "outputs": [],
   "source": [
    "from sklearn.ensemble import RandomForestClassifier"
   ]
  },
  {
   "cell_type": "code",
   "execution_count": null,
   "metadata": {},
   "outputs": [],
   "source": [
    "rand_for = RandomForestClassifier(max_features = 'auto', min_samples_split = 20)"
   ]
  },
  {
   "cell_type": "code",
   "execution_count": null,
   "metadata": {},
   "outputs": [],
   "source": [
    "from sklearn.model_selection import train_test_split"
   ]
  },
  {
   "cell_type": "code",
   "execution_count": null,
   "metadata": {},
   "outputs": [],
   "source": [
    "df_final.date_installed = pd.to_datetime(df_final.date_installed)\n"
   ]
  },
  {
   "cell_type": "code",
   "execution_count": null,
   "metadata": {},
   "outputs": [],
   "source": [
    "df_final.date_installed = pd.to_numeric(df_final.date_installed)"
   ]
  },
  {
   "cell_type": "code",
   "execution_count": null,
   "metadata": {},
   "outputs": [],
   "source": [
    "df_final.rename(columns = {'3rdparty': \"third_party\"}, inplace=True)"
   ]
  },
  {
   "cell_type": "code",
   "execution_count": null,
   "metadata": {},
   "outputs": [],
   "source": [
    "import patsy\n",
    "\n",
    "formula = \"cost_per_watt ~ state + date_installed + incentive_prog_names + type + size_kw + appraised + install_type + installer + lbnl_tts + utility_clean + rebate + new_constr + tracking + third_party + bipv\""
   ]
  },
  {
   "cell_type": "code",
   "execution_count": null,
   "metadata": {},
   "outputs": [],
   "source": [
    "y, X = patsy.dmatrices(formula, df_final, return_type = 'dataframe')"
   ]
  },
  {
   "cell_type": "code",
   "execution_count": null,
   "metadata": {},
   "outputs": [],
   "source": [
    "X_train, X_test, y_train, y_test = train_test_split(X, y)"
   ]
  },
  {
   "cell_type": "code",
   "execution_count": null,
   "metadata": {},
   "outputs": [],
   "source": []
  }
 ],
 "metadata": {
  "kernelspec": {
   "display_name": "Python 3",
   "language": "python",
   "name": "python3"
  },
  "language_info": {
   "codemirror_mode": {
    "name": "ipython",
    "version": 3
   },
   "file_extension": ".py",
   "mimetype": "text/x-python",
   "name": "python",
   "nbconvert_exporter": "python",
   "pygments_lexer": "ipython3",
   "version": "3.6.6"
  }
 },
 "nbformat": 4,
 "nbformat_minor": 2
}
